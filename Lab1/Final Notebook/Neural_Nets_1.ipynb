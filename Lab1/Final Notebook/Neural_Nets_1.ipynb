{
  "nbformat": 4,
  "nbformat_minor": 0,
  "metadata": {
    "colab": {
      "name": "Neural_Nets_1.ipynb",
      "provenance": [],
      "collapsed_sections": [
        "e_wQhsTNAuVN",
        "dUASpVe0CLTd",
        "JON38XX9wewo",
        "gBeDBG84yZJE",
        "AIPppw8vzA73",
        "IbfGxo1o2LGW",
        "20KAcrRD3PUU",
        "-pKZ374c7jRc",
        "ClyUTn_Z7luZ",
        "xF-Jk4m3Mwul",
        "rQMTwQa2TpF8",
        "D4AVPfVOwiL1",
        "J5_rzuq9wqFd",
        "ZJ55FImlwwvZ",
        "k_Opv7eFzERV",
        "Cf0MUXEB0VDF",
        "PYc20TBjv0yA",
        "5ncuM-dNDE98",
        "8E949ZY8w5hJ",
        "allZlyncDE-A",
        "5SKs5A7hw5hM",
        "WimbijUtDE-B",
        "y-u2_WlaDE-B",
        "vbP16ZhpDE-C",
        "c_PjJJ0jDE-C",
        "3dgdPNH6BdBx",
        "wS2lUougBdCA",
        "8mIv0BMVBdCC",
        "A3WOqGPFBdCC",
        "6Bc5f0H2BdCE",
        "_mU2huoYBdCH",
        "s-tgL2gIBdCI",
        "EItKWmu3BdCJ",
        "MNdVFRbkBvkU",
        "Jb4tnwz7Bz4w",
        "MJV9AGWYB4FE",
        "pL5SvWxIB7Xg",
        "xFHfoOshQF4F",
        "K3GB99huCAtd",
        "qMnkG9XpCDXg",
        "GKgLSgYaCGYO",
        "Sx1zp4Z6KArd",
        "Xrk-OBZH92kP",
        "5cvxT8dF7K4A",
        "16f3mj9PKID6",
        "QxcBAESzcX3Y",
        "dGtGR8B1ciwP",
        "ijfCARQWcltQ",
        "lpzOIo8icm_Y",
        "DV2bHALb-Jog",
        "CAzyL2RZ67xZ",
        "_fU_UGQBbXzN",
        "A2QRJxVg4_qM",
        "beukhHRh_Ey3",
        "_SchXM7eLweV",
        "0Dle5SSaPHvQ",
        "TZTjcLlw3WQC",
        "XdzrAo-Z_RHe",
        "LIlpX9EP_Z4J",
        "nK7eZRTR_exC",
        "k6De0ejHALLg",
        "0Y8nm4kR7xso",
        "IYnw2DM27xsy",
        "UfWEyUtr7xs0",
        "3Tx672al7xs5",
        "EiEJDCcY7xs6",
        "USHJW66j7xs7",
        "96BYEH9_7xs7",
        "aHjhIRcl7xs9",
        "3O-HQZZ-7xs-"
      ],
      "toc_visible": true
    },
    "kernelspec": {
      "display_name": "Python 3",
      "name": "python3"
    }
  },
  "cells": [
    {
      "cell_type": "markdown",
      "metadata": {
        "id": "e_wQhsTNAuVN"
      },
      "source": [
        "# Στοιχεία Ομάδας"
      ]
    },
    {
      "cell_type": "markdown",
      "metadata": {
        "id": "hzGLgcQ4DMeJ"
      },
      "source": [
        "**Αριθμός Ομάδας:** 66\n",
        "\n",
        "**Ονοματεπώνυμα και ΑΜ:**\n",
        "\n",
        "Τσιλιβής Θεόδωρος 03116032\n",
        "\n",
        "Στόικου Θεοδότη 03117085\n",
        "\n",
        "Ποταμίτου Νεφέλη 03117709"
      ]
    },
    {
      "cell_type": "markdown",
      "metadata": {
        "id": "2EbFIMdUAC-8"
      },
      "source": [
        "Dependencies:\n"
      ]
    },
    {
      "cell_type": "code",
      "metadata": {
        "id": "09DVcmIEsrMR"
      },
      "source": [
        "!pip install --upgrade pip  &> /dev/null#upgrade pip package installer \n",
        "!pip install scikit-learn --upgrade  &> /dev/null#upgrade scikit-learn package\n",
        "!pip install numpy --upgrade  &> /dev/null#upgrade numpy package\n",
        "!pip install pandas --upgrade  &> /dev/null#--upgrade #upgrade pandas package\n",
        "!pip install texttable &> /dev/null"
      ],
      "execution_count": 2,
      "outputs": []
    },
    {
      "cell_type": "markdown",
      "metadata": {
        "id": "i4pXBkCJ3ffn"
      },
      "source": [
        "Imports:"
      ]
    },
    {
      "cell_type": "code",
      "metadata": {
        "id": "gxmkh0ygssc0"
      },
      "source": [
        "import pandas as pd\n",
        "import numpy as np\n",
        "from sklearn.model_selection import train_test_split,GridSearchCV\n",
        "from sklearn.metrics import classification_report, f1_score, precision_score, recall_score, confusion_matrix\n",
        "from sklearn.svm import SVC, LinearSVC\n",
        "from sklearn.dummy import DummyClassifier\n",
        "from sklearn.naive_bayes import GaussianNB\n",
        "from sklearn.neighbors import KNeighborsClassifier\n",
        "from sklearn.neural_network import MLPClassifier\n",
        "from sklearn.impute import SimpleImputer\n",
        "from sklearn import preprocessing\n",
        "import matplotlib.pyplot as plt\n",
        "from texttable import Texttable\n",
        "import seaborn as sns\n",
        "import time"
      ],
      "execution_count": 31,
      "outputs": []
    },
    {
      "cell_type": "markdown",
      "metadata": {
        "id": "dUASpVe0CLTd"
      },
      "source": [
        "# Μικρό dataset (Echocardiogram)\n"
      ]
    },
    {
      "cell_type": "markdown",
      "metadata": {
        "id": "JON38XX9wewo"
      },
      "source": [
        "## Βασικές πληροφορίες"
      ]
    },
    {
      "cell_type": "markdown",
      "metadata": {
        "id": "gBeDBG84yZJE"
      },
      "source": [
        "### 1. Σύντομη παρουσίαση του dataset:\r\n"
      ]
    },
    {
      "cell_type": "markdown",
      "metadata": {
        "id": "3f7cSYiU8Zff"
      },
      "source": [
        "Το συγκεκριμένο dataset ονομάζεται Echocardiogram και παρουσιάζει στοιχεία για την ταξινόμηση της πιθανότητας επιβίωσης ενός ασθενή, για τουλάχιστον ένα έτος, μετά από καρδιακή προσβολή."
      ]
    },
    {
      "cell_type": "code",
      "metadata": {
        "id": "ehsiuDodCUap",
        "colab": {
          "base_uri": "https://localhost:8080/"
        },
        "outputId": "a1606f95-c87b-440f-add5-d5bdc73e3e31"
      },
      "source": [
        "!wget \"http://archive.ics.uci.edu/ml/machine-learning-databases/echocardiogram/echocardiogram.data\"\n"
      ],
      "execution_count": 32,
      "outputs": [
        {
          "output_type": "stream",
          "text": [
            "--2020-12-09 16:37:33--  http://archive.ics.uci.edu/ml/machine-learning-databases/echocardiogram/echocardiogram.data\n",
            "Resolving archive.ics.uci.edu (archive.ics.uci.edu)... 128.195.10.252\n",
            "Connecting to archive.ics.uci.edu (archive.ics.uci.edu)|128.195.10.252|:80... connected.\n",
            "HTTP request sent, awaiting response... 200 OK\n",
            "Length: 6107 (6.0K) [application/x-httpd-php]\n",
            "Saving to: ‘echocardiogram.data.1’\n",
            "\n",
            "\rechocardiogram.data   0%[                    ]       0  --.-KB/s               \rechocardiogram.data 100%[===================>]   5.96K  --.-KB/s    in 0s      \n",
            "\n",
            "2020-12-09 16:37:33 (465 MB/s) - ‘echocardiogram.data.1’ saved [6107/6107]\n",
            "\n"
          ],
          "name": "stdout"
        }
      ]
    },
    {
      "cell_type": "markdown",
      "metadata": {
        "id": "AIPppw8vzA73"
      },
      "source": [
        "### 2. Δειγμάτα και Χαρακτηριστικά\r\n",
        "\r\n"
      ]
    },
    {
      "cell_type": "markdown",
      "metadata": {
        "id": "REqXdWgN8cNG"
      },
      "source": [
        "Τα δείγματα είναι 132 και τα χαρακτηριστικά είναι 13, όμως το 10 και το 12 μπορούν να αγνοηθούν, ενώ το 9 συνίσταται να αντικαταστήσει το 8. Όλα τα χαρακτηριστικά είναι διατεταγμένα, εκτός από το 12 (name)."
      ]
    },
    {
      "cell_type": "markdown",
      "metadata": {
        "id": "IbfGxo1o2LGW"
      },
      "source": [
        "### 3. Επικεφαλίδες"
      ]
    },
    {
      "cell_type": "markdown",
      "metadata": {
        "id": "_GowUkE08eVS"
      },
      "source": [
        "Δεν υπάρχουν επικεφαλίδες και η αρίθμηση γραμμών γίνεται από τη βιβλιοθήκη pandas. \r\n",
        "(Στην γραμμη 50 του echocardiogram.data, διαγράψτε το 1ο κομμα \",\" (typo), πριν τρέξετε το επόμενο cell)"
      ]
    },
    {
      "cell_type": "code",
      "metadata": {
        "colab": {
          "base_uri": "https://localhost:8080/"
        },
        "id": "EBXRLXvI2s9m",
        "outputId": "330efd65-b611-4c35-9dac-dce37b164d8a"
      },
      "source": [
        "all_data = pd.read_csv(\"echocardiogram.data\",delimiter = ',',header = None)\n",
        "# all_data.drop([10, 11], axis=1)\n",
        "data = all_data.values\n",
        "data = np.delete(data, 10, 1)\n",
        "data = np.delete(data, 10, 1)\n",
        "data = np.delete(data, 9, 1)\n",
        "data = np.delete(data, 1, 1)\n",
        "data = np.delete(data, 1, 1)\n",
        "print(data)\n",
        "print(data.shape)"
      ],
      "execution_count": 33,
      "outputs": [
        {
          "output_type": "stream",
          "text": [
            "[['11' 0 '0.260' ... '14' '1' '0']\n",
            " ['19' 0 '0.380' ... '14' '1.700' '0']\n",
            " ['16' 0 '0.260' ... '14' '1' '0']\n",
            " ...\n",
            " ['36' 0 '0.20' ... '14.5' '1.21' '?']\n",
            " ['22' 0 '0.14' ... '15' '1.36' '?']\n",
            " ['20' 0 '0.15' ... '15.5' '1.409' '?']]\n",
            "(131, 8)\n"
          ],
          "name": "stdout"
        }
      ]
    },
    {
      "cell_type": "markdown",
      "metadata": {
        "id": "UcEcIziLiznm"
      },
      "source": [
        "Το χαρακτηριστικό εξοδου (η κλάση) είναι το 13ο “alive-at-1”. Θα κρατήσετε μόνο όσα δείγματα δεν έχουν “?” στο “alive-at-1”. Τα χαρακτηριστικά είναι τα 3 έως 9 (τα υπόλοιπα μπορούν να αγνοηθούν). Η πρόβλεψη μπορεί να γίνει και με τα χαρακτηριστικά 1-9 (όπως διατυπώθηκε αρχικά) απλά θα δίνει πολύ υψηλές τιμές (που δεν προσφέρονται για πολύ περεταίρω βελτιστοποίηση) γιατί υπάρχει μεγάλη συσχέτιση (αν και όχι απόλυτη) μεταξύ των χαρακτηριστικών 1 και 2 και της μεταβλητής εξόδου. Δείτε εδώ τη συσχέτιση Pearson μεταξύ χαρακτηριστικών και εξόδου. Οι κολόνες 1-9 είναι τα χαρακτηριστικά εισόδου (έχουμε αφαιρέσει τα 3 άχρηστα αρχικά χαρακτηριστικά) και η 10η κολόνα είναι η έξοδος. Τιμές κοντά στο -1 ή στο 1 δείχνουν υψηλή συσχέτιση, αντίστροφη (-1) ή ανάλογη (1). Δείτε εδώ μια βιβλιογραφική αναφορά για τη διαχείριση του dataset.\r\n"
      ]
    },
    {
      "cell_type": "markdown",
      "metadata": {
        "id": "20KAcrRD3PUU"
      },
      "source": [
        "### 4. Ετικέτες κλάσεων "
      ]
    },
    {
      "cell_type": "markdown",
      "metadata": {
        "id": "wmwLj09f8gZG"
      },
      "source": [
        " Οι ετικέτες των κλάσεων βρίσκονται στο τελευταίο column (12) του dataframe. Το attribute alive-at-1 είναι boolean και δηλώνει αν ο ασθενής έχει ή όχι επιζήσει 1 χρόνο μετά την καρδιακή προσβολή (εκτός της περίπτωσης missing values, η οποία συμβολίζεται με \"?\")."
      ]
    },
    {
      "cell_type": "code",
      "metadata": {
        "id": "FbNLUyYn679J",
        "colab": {
          "base_uri": "https://localhost:8080/"
        },
        "outputId": "6c2c3370-d722-4e01-e9b0-19ae29fbaf3e"
      },
      "source": [
        "for i in range(data.shape[0]):\n",
        "    print(data[i][7])"
      ],
      "execution_count": 34,
      "outputs": [
        {
          "output_type": "stream",
          "text": [
            "0\n",
            "0\n",
            "0\n",
            "0\n",
            "0\n",
            "0\n",
            "0\n",
            "0\n",
            "0\n",
            "0\n",
            "1\n",
            "0\n",
            "0\n",
            "0\n",
            "1\n",
            "0\n",
            "1\n",
            "1\n",
            "0\n",
            "1\n",
            "1\n",
            "1\n",
            "1\n",
            "1\n",
            "?\n",
            "?\n",
            "?\n",
            "?\n",
            "?\n",
            "0\n",
            "?\n",
            "?\n",
            "?\n",
            "?\n",
            "0\n",
            "0\n",
            "0\n",
            "1\n",
            "0\n",
            "?\n",
            "0\n",
            "0\n",
            "0\n",
            "0\n",
            "?\n",
            "?\n",
            "0\n",
            "0\n",
            "1\n",
            "1\n",
            "1\n",
            "?\n",
            "0\n",
            "1\n",
            "0\n",
            "0\n",
            "0\n",
            "0\n",
            "?\n",
            "0\n",
            "?\n",
            "0\n",
            "?\n",
            "?\n",
            "0\n",
            "?\n",
            "0\n",
            "0\n",
            "0\n",
            "1\n",
            "0\n",
            "0\n",
            "0\n",
            "?\n",
            "0\n",
            "?\n",
            "1\n",
            "0\n",
            "?\n",
            "?\n",
            "0\n",
            "?\n",
            "1\n",
            "1\n",
            "?\n",
            "?\n",
            "?\n",
            "0\n",
            "?\n",
            "?\n",
            "?\n",
            "0\n",
            "?\n",
            "1\n",
            "?\n",
            "0\n",
            "?\n",
            "1\n",
            "1\n",
            "?\n",
            "0\n",
            "0\n",
            "?\n",
            "1\n",
            "0\n",
            "0\n",
            "?\n",
            "1\n",
            "1\n",
            "?\n",
            "?\n",
            "?\n",
            "?\n",
            "?\n",
            "?\n",
            "?\n",
            "?\n",
            "?\n",
            "?\n",
            "?\n",
            "?\n",
            "?\n",
            "?\n",
            "?\n",
            "?\n",
            "?\n",
            "?\n",
            "?\n",
            "?\n",
            "?\n",
            "?\n"
          ],
          "name": "stdout"
        }
      ]
    },
    {
      "cell_type": "markdown",
      "metadata": {
        "id": "-pKZ374c7jRc"
      },
      "source": [
        "### 5. Μετατροπές στα αρχεία\n",
        "\n",
        "\n"
      ]
    },
    {
      "cell_type": "markdown",
      "metadata": {
        "id": "3PMdGOLb8jdJ"
      },
      "source": [
        "Το αρχείο μας δίνεται κατευθείαν σε .data format και το φορτώνουμε απευθείας σε pandas dataframe."
      ]
    },
    {
      "cell_type": "markdown",
      "metadata": {
        "id": "ClyUTn_Z7luZ"
      },
      "source": [
        "### 6. Απουσιάζουσες τιμές και δείγματα\r\n"
      ]
    },
    {
      "cell_type": "markdown",
      "metadata": {
        "id": "1C50jT5V8s7u"
      },
      "source": [
        " Υπάρχουν απουσιάζουσες τιμές. Συνολικά οι απουσιάζουσες τιμές είναι 132 και παρακάτω υπολογίζουμε τα δείγματα με απουσιάζουσες τιμές και το ποσοστό τυος επί του συνολικού πλήθους δειγμάτων."
      ]
    },
    {
      "cell_type": "code",
      "metadata": {
        "colab": {
          "base_uri": "https://localhost:8080/"
        },
        "id": "u5VAu8rmBmhi",
        "outputId": "30a8bc4b-2663-4afa-a61b-cb8c35418010"
      },
      "source": [
        "missing =0;\n",
        "for i in range (data.shape[0]):\n",
        "  for j in range (data.shape[1]):\n",
        "    if data[i][j] == \"?\":\n",
        "      missing = missing +1;\n",
        "      break\n",
        "print(\"Δείγματα με απουσιάζουσες τιμές:\", missing)\n",
        "print(\"Ποσοστό δειγμάτων(γραμμών) με απουσιάζουσες τιμές:\", missing/data.shape[0]*100 , \"%\")\n"
      ],
      "execution_count": 35,
      "outputs": [
        {
          "output_type": "stream",
          "text": [
            "Δείγματα με απουσιάζουσες τιμές: 69\n",
            "Ποσοστό δειγμάτων(γραμμών) με απουσιάζουσες τιμές: 52.67175572519084 %\n"
          ],
          "name": "stdout"
        }
      ]
    },
    {
      "cell_type": "code",
      "metadata": {
        "colab": {
          "base_uri": "https://localhost:8080/"
        },
        "id": "QkfsL9MIA3Td",
        "outputId": "d0d8ca28-167b-414e-f592-b3c3b5e34d0e"
      },
      "source": [
        "print(\"Ποσοστό δειγμάτων(γραμμών) με απουσιάζουσες τιμές:\", missing/data.shape[0]*100 , \"%\")"
      ],
      "execution_count": 36,
      "outputs": [
        {
          "output_type": "stream",
          "text": [
            "Ποσοστό δειγμάτων(γραμμών) με απουσιάζουσες τιμές: 52.67175572519084 %\n"
          ],
          "name": "stdout"
        }
      ]
    },
    {
      "cell_type": "markdown",
      "metadata": {
        "id": "xF-Jk4m3Mwul"
      },
      "source": [
        "### 7. Αριθμός κλάσεων, ποσοστά δειγμάτων και ισορροπία του dataset.\r\n"
      ]
    },
    {
      "cell_type": "markdown",
      "metadata": {
        "id": "0opEyinl8vJm"
      },
      "source": [
        "\r\n",
        " Οι κλάσεις είναι 2 (binary) και δηλώνουν αν ο ασθενής επέζησε ή όχι στον επόμενο χρόνο. Παρακάτω υπολογίζεται το πλήθος των δειγμάτων της κάθε κλάσης και το ποσοστό των δειγμάτων της επί του συνολικού πλήθους των δειγμάτων. Δεν συνυπολογίσαμε τα missing values. Το πλήθος των δειγμάτων που έχουν missing values στην κλάση είναι 132 - 58 = 74. Άρα στην κλάση 0 ανήκει το 68% και στην κλαση 1 το 32%. Άρα το dataset μπορεί να χαρακτηριστεί (οριακά) μη ισορροπημένο."
      ]
    },
    {
      "cell_type": "code",
      "metadata": {
        "colab": {
          "base_uri": "https://localhost:8080/"
        },
        "id": "iltIFwS1PtY-",
        "outputId": "8815e5d3-92ac-4419-803b-c944519bb046"
      },
      "source": [
        "zeros=0\n",
        "ones=0\n",
        "for i in range (data.shape[0]):\n",
        "  if (data[i][7] == \"0\"):\n",
        "    zeros = zeros +1\n",
        "  elif (data[i][7] ==\"1\"):\n",
        "    ones = ones +1\n",
        "print(\"Πλήθος δειγμάτων της κλασης 0:\", zeros)\n",
        "print(\"Ποσοστό δειγμάτων της κλάσης 0 επί του συνόλου των δειγμάτων:\", zeros/data.shape[0]*100, \"%\")\n",
        "print(\"Πλήθος δειγμάτων της κλασης 1:\", ones)\n",
        "print(\"Ποσοστό δειγμάτων της κλάσης 1 επί του συνόλου των δειγμάτων:\", ones/data.shape[0]*100, \"%\")"
      ],
      "execution_count": 37,
      "outputs": [
        {
          "output_type": "stream",
          "text": [
            "Πλήθος δειγμάτων της κλασης 0: 50\n",
            "Ποσοστό δειγμάτων της κλάσης 0 επί του συνόλου των δειγμάτων: 38.16793893129771 %\n",
            "Πλήθος δειγμάτων της κλασης 1: 24\n",
            "Ποσοστό δειγμάτων της κλάσης 1 επί του συνόλου των δειγμάτων: 18.3206106870229 %\n"
          ],
          "name": "stdout"
        }
      ]
    },
    {
      "cell_type": "markdown",
      "metadata": {
        "id": "rQMTwQa2TpF8"
      },
      "source": [
        "### 8. Διαχωρισμός train και test set.\r\n"
      ]
    },
    {
      "cell_type": "markdown",
      "metadata": {
        "id": "gtr9PyW38xZE"
      },
      "source": [
        "Σε αυτό το σημείο κάνουμε και την προεπεξεργασία. Αρχικώς αφαιρούμε από τα δεδομένα όλα τα δείγματα που έχουν ως ετικέτα \"?\". Στην συνέχεια στα εναπομέινοντα δείγματα τοποθετούμε στην θέση των \"?\" την median τιμή της κάθε στήλης. Ο λόγος που επιλέγουμε την median και όχι την average είναι για να διαφυλάξουμε binary τιμές στα binary columns."
      ]
    },
    {
      "cell_type": "code",
      "metadata": {
        "id": "L2UbLVaMYnBr"
      },
      "source": [
        "data = data[np.logical_not(data[:,7] == '?')]\n",
        "data = np.where(data==\"?\", np.NaN, data)\n",
        "# print(data[60:]) \n",
        "imp_mean = SimpleImputer(missing_values= np.NaN, strategy='median')\n",
        "imp_mean.fit(data)\n",
        "data = imp_mean.transform(data)\n",
        "features_all = preprocessing.scale(data)[:,:7]\n",
        "labels_all = data[:,7]\n",
        "X_train, X_test, y_train, y_test = train_test_split(features_all, labels_all, test_size=0.2, random_state=2)"
      ],
      "execution_count": 38,
      "outputs": []
    },
    {
      "cell_type": "markdown",
      "metadata": {
        "id": "D4AVPfVOwiL1"
      },
      "source": [
        "## Baseline Ταξινόμηση"
      ]
    },
    {
      "cell_type": "markdown",
      "metadata": {
        "id": "J5_rzuq9wqFd"
      },
      "source": [
        "### Help Code"
      ]
    },
    {
      "cell_type": "code",
      "metadata": {
        "id": "invz3hHPwp1o"
      },
      "source": [
        "def Baseline_approach(classifier,X_train,X_test,y_train,y_test):\r\n",
        "    classifier.fit(X_train,y_train)\r\n",
        "    y_pred = classifier.predict(X_test)\r\n",
        "    print(str(classifier),classifier.score(X_test,y_test))\r\n",
        "    print(\"f1 micro score =\",f1_score(y_test, y_pred, average='micro'))\r\n",
        "    print(\"f1 macro score =\",f1_score(y_test, y_pred, average='macro'))\r\n",
        "    cf_matrix = confusion_matrix(y_pred,y_test)\r\n",
        "    sns.heatmap(cf_matrix, annot=False, cmap='nipy_spectral')\r\n",
        "    return classifier\r\n",
        "\r\n",
        "def plot(clfs,score1,score,function,approach):\r\n",
        "    plt.bar(clfs,score1)\r\n",
        "    plt.title(approach + \" \" + score + \" with \" + function + \" average\")\r\n",
        "    plt.savefig(approach + \"_\" + score + \"_with_\"+ function + \"_average.jpg\")\r\n",
        "    plt.show()\r\n",
        "\r\n",
        "def averaged_plots(classifierlist,X_test,y_test,approach):\r\n",
        "    clfs  = ['Uni', 'Strat',\"Freq\",\"Prior\",\"Con 0\",\"Con 1\", 'GNB', 'KNN']\r\n",
        "    # [uniform,stratified,most_frequent,prior,consant_0,constant_1,GNB,Knn]\r\n",
        "    score_micro = []\r\n",
        "    score_macro = []\r\n",
        "    recall_micro = []\r\n",
        "    recall_macro = []\r\n",
        "    precision_micro = []\r\n",
        "    precision_macro = []\r\n",
        "    for classifier in classifierlist:        \r\n",
        "        y_pred = classifier.predict(X_test)\r\n",
        "        score_micro.append(f1_score(y_test, y_pred, average = 'micro'))\r\n",
        "        score_macro.append(f1_score(y_test, y_pred, average = 'macro'))        \r\n",
        "        recall_micro.append(recall_score(y_test, y_pred, average = \"micro\"))\r\n",
        "        recall_macro.append(recall_score(y_test, y_pred, average = \"macro\"))        \r\n",
        "        precision_micro.append(precision_score(y_test, y_pred, average = 'micro'))\r\n",
        "        precision_macro.append(precision_score(y_test, y_pred, average = 'macro'))\r\n",
        "       \r\n",
        "\r\n",
        "    plot(clfs,score_micro,\"score\",\"micro\",approach)\r\n",
        "    plot(clfs,score_macro,\"score\",\"macro\",approach)\r\n",
        "    plot(clfs,recall_micro,\"recall\",\"micro\",approach)\r\n",
        "    plot(clfs,recall_macro,\"recall\",\"macro\",approach)\r\n",
        "    plot(clfs,precision_micro,\"precision\",\"micro\",approach)\r\n",
        "    plot(clfs,precision_macro,\"precision\",\"macro\",approach)"
      ],
      "execution_count": 40,
      "outputs": []
    },
    {
      "cell_type": "markdown",
      "metadata": {
        "id": "dO_hhDHXwsJB"
      },
      "source": [
        "### 1. Classifiers"
      ]
    },
    {
      "cell_type": "markdown",
      "metadata": {
        "id": "ZJ55FImlwwvZ"
      },
      "source": [
        "#### Dummy Classifiers"
      ]
    },
    {
      "cell_type": "code",
      "metadata": {
        "colab": {
          "base_uri": "https://localhost:8080/",
          "height": 0
        },
        "id": "n5pXVOy3wyzp",
        "outputId": "eca830b2-0d1a-4d80-fc27-53ea7715ff70"
      },
      "source": [
        "dc_uniform = DummyClassifier(strategy=\"uniform\")\r\n",
        "uniform = Baseline_approach(dc_uniform,X_train,X_test,y_train,y_test)"
      ],
      "execution_count": 42,
      "outputs": [
        {
          "output_type": "stream",
          "text": [
            "DummyClassifier(constant=None, random_state=None, strategy='uniform') 0.6666666666666666\n",
            "f1 micro score = 0.5333333333333333\n",
            "f1 macro score = 0.49760765550239233\n"
          ],
          "name": "stdout"
        },
        {
          "output_type": "display_data",
          "data": {
            "image/png": "[encoded data removed]",
            "text/plain": [
              "<Figure size 432x288 with 2 Axes>"
            ]
          },
          "metadata": {
            "tags": [],
            "needs_background": "light"
          }
        }
      ]
    },
    {
      "cell_type": "code",
      "metadata": {
        "colab": {
          "base_uri": "https://localhost:8080/",
          "height": 0
        },
        "id": "p2FtiHV7xgwX",
        "outputId": "6d7d609d-eade-4213-c72e-e96976bcc8df"
      },
      "source": [
        "dc_stratified = DummyClassifier(strategy=\"stratified\")\r\n",
        "stratified = Baseline_approach(dc_stratified,X_train,X_test,y_train,y_test)"
      ],
      "execution_count": 43,
      "outputs": [
        {
          "output_type": "stream",
          "text": [
            "DummyClassifier(constant=None, random_state=None, strategy='stratified') 0.6666666666666666\n",
            "f1 micro score = 0.5333333333333333\n",
            "f1 macro score = 0.4444444444444444\n"
          ],
          "name": "stdout"
        },
        {
          "output_type": "display_data",
          "data": {
            "image/png": "[encoded data removed]",
            "text/plain": [
              "<Figure size 432x288 with 2 Axes>"
            ]
          },
          "metadata": {
            "tags": [],
            "needs_background": "light"
          }
        }
      ]
    },
    {
      "cell_type": "code",
      "metadata": {
        "colab": {
          "base_uri": "https://localhost:8080/",
          "height": 0
        },
        "id": "ttXoC-OJxiLV",
        "outputId": "2b947926-406b-4c3f-953c-920e7bbfe459"
      },
      "source": [
        "dc_most_frequent = DummyClassifier(strategy=\"most_frequent\")\r\n",
        "most_frequent = Baseline_approach(dc_most_frequent,X_train,X_test,y_train,y_test)"
      ],
      "execution_count": 44,
      "outputs": [
        {
          "output_type": "stream",
          "text": [
            "DummyClassifier(constant=None, random_state=None, strategy='most_frequent') 0.7333333333333333\n",
            "f1 micro score = 0.7333333333333333\n",
            "f1 macro score = 0.423076923076923\n"
          ],
          "name": "stdout"
        },
        {
          "output_type": "display_data",
          "data": {
            "image/png": "[encoded data removed]",
            "text/plain": [
              "<Figure size 432x288 with 2 Axes>"
            ]
          },
          "metadata": {
            "tags": [],
            "needs_background": "light"
          }
        }
      ]
    },
    {
      "cell_type": "code",
      "metadata": {
        "colab": {
          "base_uri": "https://localhost:8080/",
          "height": 0
        },
        "id": "-HVxNfgdxi82",
        "outputId": "e79a35a8-7a58-44ca-8121-5d7e09507509"
      },
      "source": [
        "dc_prior = DummyClassifier(strategy=\"prior\")\r\n",
        "prior = Baseline_approach(dc_prior,X_train,X_test,y_train,y_test)"
      ],
      "execution_count": 45,
      "outputs": [
        {
          "output_type": "stream",
          "text": [
            "DummyClassifier(constant=None, random_state=None, strategy='prior') 0.7333333333333333\n",
            "f1 micro score = 0.7333333333333333\n",
            "f1 macro score = 0.423076923076923\n"
          ],
          "name": "stdout"
        },
        {
          "output_type": "display_data",
          "data": {
            "image/png": "[encoded data removed]",
            "text/plain": [
              "<Figure size 432x288 with 2 Axes>"
            ]
          },
          "metadata": {
            "tags": [],
            "needs_background": "light"
          }
        }
      ]
    },
    {
      "cell_type": "code",
      "metadata": {
        "colab": {
          "base_uri": "https://localhost:8080/",
          "height": 0
        },
        "id": "LjEngljBzOh6",
        "outputId": "6a6b83ea-073f-4304-f8c3-20072580e8ed"
      },
      "source": [
        "dc_constant_0 = DummyClassifier(strategy=\"constant\", constant = 0.0)\r\n",
        "constant_0 = Baseline_approach(dc_constant_0,X_train,X_test,y_train,y_test)"
      ],
      "execution_count": 46,
      "outputs": [
        {
          "output_type": "stream",
          "text": [
            "DummyClassifier(constant=0.0, random_state=None, strategy='constant') 0.7333333333333333\n",
            "f1 micro score = 0.7333333333333333\n",
            "f1 macro score = 0.423076923076923\n"
          ],
          "name": "stdout"
        },
        {
          "output_type": "display_data",
          "data": {
            "image/png": "[encoded data removed]",
            "text/plain": [
              "<Figure size 432x288 with 2 Axes>"
            ]
          },
          "metadata": {
            "tags": [],
            "needs_background": "light"
          }
        }
      ]
    },
    {
      "cell_type": "code",
      "metadata": {
        "colab": {
          "base_uri": "https://localhost:8080/",
          "height": 0
        },
        "id": "OpkwRsiQzZbO",
        "outputId": "b2897afa-6b8d-4a89-e034-4c5618353651"
      },
      "source": [
        "dc_constant_1 = DummyClassifier(strategy=\"constant\", constant = 1.0)\r\n",
        "constant_1 = Baseline_approach(dc_constant_1,X_train,X_test,y_train,y_test)"
      ],
      "execution_count": 47,
      "outputs": [
        {
          "output_type": "stream",
          "text": [
            "DummyClassifier(constant=1.0, random_state=None, strategy='constant') 0.26666666666666666\n",
            "f1 micro score = 0.26666666666666666\n",
            "f1 macro score = 0.2105263157894737\n"
          ],
          "name": "stdout"
        },
        {
          "output_type": "display_data",
          "data": {
            "image/png": "[encoded data removed]",
            "text/plain": [
              "<Figure size 432x288 with 2 Axes>"
            ]
          },
          "metadata": {
            "tags": [],
            "needs_background": "light"
          }
        }
      ]
    },
    {
      "cell_type": "markdown",
      "metadata": {
        "id": "k_Opv7eFzERV"
      },
      "source": [
        "#### Gaussian Naive Bayes"
      ]
    },
    {
      "cell_type": "code",
      "metadata": {
        "colab": {
          "base_uri": "https://localhost:8080/",
          "height": 316
        },
        "id": "1m_KBU-wzGtK",
        "outputId": "2394261e-2ab7-4102-cd26-0228c35c9803"
      },
      "source": [
        "clf = GaussianNB()\r\n",
        "GNB = Baseline_approach(clf,X_train,X_test,y_train,y_test)"
      ],
      "execution_count": 48,
      "outputs": [
        {
          "output_type": "stream",
          "text": [
            "GaussianNB(priors=None, var_smoothing=1e-09) 0.9333333333333333\n",
            "f1 micro score = 0.9333333333333333\n",
            "f1 macro score = 0.9068322981366459\n"
          ],
          "name": "stdout"
        },
        {
          "output_type": "display_data",
          "data": {
            "image/png": "[encoded data removed]",
            "text/plain": [
              "<Figure size 432x288 with 2 Axes>"
            ]
          },
          "metadata": {
            "tags": [],
            "needs_background": "light"
          }
        }
      ]
    },
    {
      "cell_type": "markdown",
      "metadata": {
        "id": "Cf0MUXEB0VDF"
      },
      "source": [
        "#### kNN Classifier"
      ]
    },
    {
      "cell_type": "code",
      "metadata": {
        "colab": {
          "base_uri": "https://localhost:8080/",
          "height": 354
        },
        "id": "eKA5iYdSzx8K",
        "outputId": "d3fc3da1-20b1-4b14-c86b-dbf8f9fc0532"
      },
      "source": [
        "clf = KNeighborsClassifier()\r\n",
        "Knn = Baseline_approach(clf,X_train,X_test,y_train,y_test)"
      ],
      "execution_count": 49,
      "outputs": [
        {
          "output_type": "stream",
          "text": [
            "KNeighborsClassifier(algorithm='auto', leaf_size=30, metric='minkowski',\n",
            "                     metric_params=None, n_jobs=None, n_neighbors=5, p=2,\n",
            "                     weights='uniform') 0.8\n",
            "f1 micro score = 0.8000000000000002\n",
            "f1 macro score = 0.7204968944099379\n"
          ],
          "name": "stdout"
        },
        {
          "output_type": "display_data",
          "data": {
            "image/png": "[encoded data removed]",
            "text/plain": [
              "<Figure size 432x288 with 2 Axes>"
            ]
          },
          "metadata": {
            "tags": [],
            "needs_background": "light"
          }
        }
      ]
    },
    {
      "cell_type": "markdown",
      "metadata": {
        "id": "PYc20TBjv0yA"
      },
      "source": [
        "### 2. Averaged metric bar plots"
      ]
    },
    {
      "cell_type": "code",
      "metadata": {
        "colab": {
          "base_uri": "https://localhost:8080/",
          "height": 1000
        },
        "id": "3BXeFbr4v0yB",
        "outputId": "289ccfa2-4197-4d24-f073-0d2d2b90e84d"
      },
      "source": [
        "classifierlist = [uniform,stratified,most_frequent,prior,constant_0,constant_1,GNB,Knn]\n",
        "averaged_plots(classifierlist,X_test,y_test,\"Baseline\")"
      ],
      "execution_count": 50,
      "outputs": [
        {
          "output_type": "stream",
          "text": [
            "/usr/local/lib/python3.6/dist-packages/sklearn/metrics/_classification.py:1272: UndefinedMetricWarning: Precision is ill-defined and being set to 0.0 in labels with no predicted samples. Use `zero_division` parameter to control this behavior.\n",
            "  _warn_prf(average, modifier, msg_start, len(result))\n"
          ],
          "name": "stderr"
        },
        {
          "output_type": "display_data",
          "data": {
            "image/png": "[encoded data removed]",
            "text/plain": [
              "<Figure size 432x288 with 1 Axes>"
            ]
          },
          "metadata": {
            "tags": [],
            "needs_background": "light"
          }
        },
        {
          "output_type": "display_data",
          "data": {
            "image/png": "[encoded data removed]",
            "text/plain": [
              "<Figure size 432x288 with 1 Axes>"
            ]
          },
          "metadata": {
            "tags": [],
            "needs_background": "light"
          }
        },
        {
          "output_type": "display_data",
          "data": {
            "image/png": "[encoded data removed]",
            "text/plain": [
              "<Figure size 432x288 with 1 Axes>"
            ]
          },
          "metadata": {
            "tags": [],
            "needs_background": "light"
          }
        },
        {
          "output_type": "display_data",
          "data": {
            "image/png": "[encoded data removed]",
            "text/plain": [
              "<Figure size 432x288 with 1 Axes>"
            ]
          },
          "metadata": {
            "tags": [],
            "needs_background": "light"
          }
        },
        {
          "output_type": "display_data",
          "data": {
            "image/png": "[encoded data removed]",
            "text/plain": [
              "<Figure size 432x288 with 1 Axes>"
            ]
          },
          "metadata": {
            "tags": [],
            "needs_background": "light"
          }
        },
        {
          "output_type": "display_data",
          "data": {
            "image/png": "[encoded data removed]",
            "text/plain": [
              "<Figure size 432x288 with 1 Axes>"
            ]
          },
          "metadata": {
            "tags": [],
            "needs_background": "light"
          }
        }
      ]
    },
    {
      "cell_type": "markdown",
      "metadata": {
        "id": "5ncuM-dNDE98"
      },
      "source": [
        "### 3. Precision, Recall, F1 Scores"
      ]
    },
    {
      "cell_type": "markdown",
      "metadata": {
        "id": "ktUHuAe79bPy"
      },
      "source": [
        "Στους αξιοσημείωτους classifiers (GNB, Knn) παρατηρούμε πως οι τιμές των precision και recall  δεν αλλάζουν πολύ. Τόσο το precision όσο το recall και το score είναι αρκετά ψηλά (μεγαλύτερα της τάξης του 80%) και απλώς σε micro averaging έχουμε λίγο μεγαλύτερες τιμές από ότι σε macro averaging."
      ]
    },
    {
      "cell_type": "markdown",
      "metadata": {
        "id": "7G7G4-3ow5hD"
      },
      "source": [
        "## Βελτιστοποίηση ταξινομητών (micro)\n",
        "\n",
        "Σε αυτό το απόσπασμα αξιολογούμε τις βέλτιστες παραμέτρους και την επιρροή τους στις επιδόσεις των ταξινομητών.\n"
      ]
    },
    {
      "cell_type": "markdown",
      "metadata": {
        "id": "8E949ZY8w5hJ"
      },
      "source": [
        "### Help Code"
      ]
    },
    {
      "cell_type": "code",
      "metadata": {
        "id": "FDva-uEhw5hK"
      },
      "source": [
        "def grid_search(clf,parameters,X_train,X_test,y_train,y_test,verbose = 10,scoring = \"f1_micro\"):\n",
        "    clf = GridSearchCV(clf,parameters, n_jobs = -1, cv = 10, verbose = verbose ,scoring = scoring)\n",
        "    clf.fit(X_train,y_train)\n",
        "    print(clf.best_estimator_)\n",
        "    Best_clf = clf.best_estimator_.fit(X_train,y_train)\n",
        "    print(Best_clf.score(X_test,y_test))\n",
        "    return Best_clf\n",
        "\n",
        "def Best_approach(classifier,X_train,X_test,y_train,y_test):\n",
        "    classifier.fit(X_train,y_train)\n",
        "    y_pred = classifier.predict(X_test)\n",
        "    print(str(classifier),classifier.score(X_test,y_test))\n",
        "    print(\"f1 micro score =\",f1_score(y_test, y_pred, average='micro'))\n",
        "    cf_matrix = confusion_matrix(y_pred,y_test)\n",
        "    sns.heatmap(cf_matrix, annot=False, cmap='nipy_spectral')\n",
        "    return classifier\n",
        "\n",
        "def best_plot(clfs,score1,score,function,approach):\n",
        "    plt.bar(clfs,score1)\n",
        "    plt.title(approach + \" \" + score + \" with \" + function + \" average\")\n",
        "    plt.savefig(approach + \"_\" + score + \"_with_\"+ function + \"_average.jpg\")\n",
        "    plt.show()\n",
        "\n",
        "def best_averaged_plots(classifierlist,X_test,y_test,approach):\n",
        "    clfs  = ['GNB','KNN']\n",
        "    score_micro = []\n",
        "    score_macro = []\n",
        "    recall_micro = []\n",
        "    recall_macro = []\n",
        "    precision_micro = []\n",
        "    precision_macro = []\n",
        "    for classifier in classifierlist:        \n",
        "        y_pred = classifier.predict(X_test)\n",
        "        score_micro.append(f1_score(y_test, y_pred, average = 'micro'))\n",
        "        recall_micro.append(recall_score(y_test, y_pred, average = \"micro\"))\n",
        "        precision_micro.append(precision_score(y_test, y_pred, average = 'micro'))\n",
        "       \n",
        "\n",
        "    best_plot(clfs,score_micro,\"score\",\"micro\",approach)\n",
        "    best_plot(clfs,recall_micro,\"recall\",\"micro\",approach)\n",
        "    best_plot(clfs,precision_micro,\"precision\",\"micro\",approach)\n",
        "\n",
        "def difference_plot(clfs,score1,score,function,approach):\n",
        "    plt.bar([1-.25/2],score1[0],width = .25)\n",
        "    plt.bar([1+.25/2],score1[1],width = .25)\n",
        "    plt.xticks([1],clfs)\n",
        "    plt.title(approach + \" for \" + score + \" with \" + function + \" average\")\n",
        "    plt.savefig(approach + \"_for_\" + score + \"_with_\"+ function + \"_average.jpg\")\n",
        "    plt.show()\n",
        "\n",
        "def difference_averaged_plots(classifierlist,bestclassifierlist,X_test,y_test,approach):\n",
        "    clfs  = ['KNN']\n",
        "    score_micro = [[],[]]\n",
        "    score_macro = [[],[]]\n",
        "    recall_micro = [[],[]]\n",
        "    recall_macro = [[],[]]\n",
        "    precision_micro = [[],[]]\n",
        "    precision_macro = [[],[]]\n",
        "    for i in range(1):\n",
        "        base_y_pred = classifierlist[i].predict(X_test)\n",
        "        best_y_pred = bestclassifierlist[i].predict(X_test)\n",
        "        score_micro[0].append(f1_score(y_test, base_y_pred, average = 'micro'))\n",
        "        recall_micro[0].append(recall_score(y_test, base_y_pred, average = \"micro\"))\n",
        "        precision_micro[0].append(precision_score(y_test, base_y_pred, average = 'micro'))\n",
        "        score_micro[1].append(f1_score(y_test, best_y_pred, average = 'micro'))\n",
        "        recall_micro[1].append(recall_score(y_test, best_y_pred, average = \"micro\"))\n",
        "        precision_micro[1].append(precision_score(y_test, best_y_pred, average = 'micro'))\n",
        "\n",
        "    difference_plot(clfs,score_micro,\"score\",\"micro\",approach)\n",
        "    difference_plot(clfs,recall_micro,\"recall\",\"micro\",approach)\n",
        "    difference_plot(clfs,precision_micro,\"precision\",\"micro\",approach)"
      ],
      "execution_count": 57,
      "outputs": []
    },
    {
      "cell_type": "markdown",
      "metadata": {
        "id": "allZlyncDE-A"
      },
      "source": [
        "### 1. Classifiers"
      ]
    },
    {
      "cell_type": "markdown",
      "metadata": {
        "id": "5SKs5A7hw5hM"
      },
      "source": [
        "#### kΝΝ Classifier\n",
        "Hyperparameters: n_neighbors.\n",
        "\n",
        "Βέλτιστες παράμετροι πρόκευψαν :\n",
        "\n",
        "\n",
        "*   n_neighbors = 8\n",
        "\n",
        "\n",
        "\n",
        "Score = 0.9333333333333333"
      ]
    },
    {
      "cell_type": "code",
      "metadata": {
        "colab": {
          "base_uri": "https://localhost:8080/"
        },
        "id": "9ERvR35nw5hN",
        "outputId": "1ee56a82-d011-43fe-f559-cb5c0d182aa5"
      },
      "source": [
        "parameters =  {\"n_neighbors\": [i + 1 for i in range(10)]}\n",
        "clf = KNeighborsClassifier(n_jobs = -1)\n",
        "\n",
        "grid_search(clf,parameters,X_train,X_test,y_train,y_test,10)"
      ],
      "execution_count": null,
      "outputs": [
        {
          "output_type": "stream",
          "text": [
            "Fitting 10 folds for each of 10 candidates, totalling 100 fits\n"
          ],
          "name": "stdout"
        },
        {
          "output_type": "stream",
          "text": [
            "[Parallel(n_jobs=-1)]: Using backend LokyBackend with 2 concurrent workers.\n",
            "[Parallel(n_jobs=-1)]: Done   1 tasks      | elapsed:    1.2s\n",
            "[Parallel(n_jobs=-1)]: Done   4 tasks      | elapsed:    1.3s\n",
            "[Parallel(n_jobs=-1)]: Done   9 tasks      | elapsed:    1.6s\n",
            "[Parallel(n_jobs=-1)]: Done  14 tasks      | elapsed:    1.8s\n",
            "[Parallel(n_jobs=-1)]: Done  21 tasks      | elapsed:    2.2s\n",
            "[Parallel(n_jobs=-1)]: Done  28 tasks      | elapsed:    2.6s\n",
            "[Parallel(n_jobs=-1)]: Done  37 tasks      | elapsed:    3.1s\n",
            "[Parallel(n_jobs=-1)]: Done  46 tasks      | elapsed:    3.6s\n",
            "[Parallel(n_jobs=-1)]: Done  57 tasks      | elapsed:    4.2s\n",
            "[Parallel(n_jobs=-1)]: Done  68 tasks      | elapsed:    4.7s\n",
            "[Parallel(n_jobs=-1)]: Done  81 tasks      | elapsed:    5.5s\n",
            "[Parallel(n_jobs=-1)]: Done  94 tasks      | elapsed:    6.1s\n"
          ],
          "name": "stderr"
        },
        {
          "output_type": "stream",
          "text": [
            "KNeighborsClassifier(algorithm='auto', leaf_size=30, metric='minkowski',\n",
            "                     metric_params=None, n_jobs=-1, n_neighbors=8, p=2,\n",
            "                     weights='uniform')\n",
            "0.9333333333333333\n"
          ],
          "name": "stdout"
        },
        {
          "output_type": "stream",
          "text": [
            "[Parallel(n_jobs=-1)]: Done 100 out of 100 | elapsed:    6.4s finished\n"
          ],
          "name": "stderr"
        },
        {
          "output_type": "execute_result",
          "data": {
            "text/plain": [
              "KNeighborsClassifier(algorithm='auto', leaf_size=30, metric='minkowski',\n",
              "                     metric_params=None, n_jobs=-1, n_neighbors=8, p=2,\n",
              "                     weights='uniform')"
            ]
          },
          "metadata": {
            "tags": []
          },
          "execution_count": 65
        }
      ]
    },
    {
      "cell_type": "code",
      "metadata": {
        "colab": {
          "base_uri": "https://localhost:8080/",
          "height": 350
        },
        "id": "yGh6HxBXY0fg",
        "outputId": "008daf67-d229-4d8e-9713-9ab06c2f116d"
      },
      "source": [
        "best_Knn = KNeighborsClassifier(n_neighbors = 8, n_jobs = -1)\r\n",
        "Knn = Baseline_approach(best_Knn,X_train,X_test,y_train,y_test)"
      ],
      "execution_count": 61,
      "outputs": [
        {
          "output_type": "stream",
          "text": [
            "KNeighborsClassifier(algorithm='auto', leaf_size=30, metric='minkowski',\n",
            "                     metric_params=None, n_jobs=-1, n_neighbors=8, p=2,\n",
            "                     weights='uniform') 0.9333333333333333\n",
            "f1 micro score = 0.9333333333333333\n",
            "f1 macro score = 0.9068322981366459\n"
          ],
          "name": "stdout"
        },
        {
          "output_type": "display_data",
          "data": {
            "image/png": "[encoded data removed]",
            "text/plain": [
              "<Figure size 432x288 with 2 Axes>"
            ]
          },
          "metadata": {
            "tags": [],
            "needs_background": "light"
          }
        }
      ]
    },
    {
      "cell_type": "markdown",
      "metadata": {
        "id": "WimbijUtDE-B"
      },
      "source": [
        "### 2. Final fit and running time"
      ]
    },
    {
      "cell_type": "code",
      "metadata": {
        "colab": {
          "base_uri": "https://localhost:8080/"
        },
        "id": "hqmP0sxSDE-B",
        "outputId": "330c0540-0229-4073-fdd7-e3383cd6d6d3"
      },
      "source": [
        "t = Texttable()\n",
        "\n",
        "fit_times = []\n",
        "predict_times = []\n",
        "table = [['Classifier','Fit time (s)','Predict time (s)', 'Score']]\n",
        "classifiernames = [\"GNB\",\"Knn\"]\n",
        "GNB = GaussianNB()\n",
        "best_knn = KNeighborsClassifier(n_neighbors = 8, n_jobs = -1)\n",
        "bestclassifierlist = [GNB,best_knn]\n",
        "\n",
        "i = 0\n",
        "for clf in bestclassifierlist:\n",
        "    point1 = time.time()\n",
        "    clf.fit(X_train,y_train)\n",
        "    point2 = time.time()\n",
        "    y_pred = clf.predict(X_test)\n",
        "    point3 = time.time()\n",
        "    fit_times.append(round(point2 - point1,8))\n",
        "    predict_times.append(round(point3-point2,5))\n",
        "    table.append([classifiernames[i],round(point2 - point1,8),round(point3-point2,8),clf.score(X_test,y_test)])\n",
        "\n",
        "    i += 1\n",
        "\n",
        "t.add_rows(table)\n",
        "print(t.draw())"
      ],
      "execution_count": 58,
      "outputs": [
        {
          "output_type": "stream",
          "text": [
            "+------------+--------------+------------------+-------+\n",
            "| Classifier | Fit time (s) | Predict time (s) | Score |\n",
            "+============+==============+==================+=======+\n",
            "| GNB        | 0.002        | 0.001            | 0.933 |\n",
            "+------------+--------------+------------------+-------+\n",
            "| Knn        | 0.001        | 0.106            | 0.933 |\n",
            "+------------+--------------+------------------+-------+\n"
          ],
          "name": "stdout"
        }
      ]
    },
    {
      "cell_type": "markdown",
      "metadata": {
        "id": "y-u2_WlaDE-B"
      },
      "source": [
        "### 3. Averaged metric bar plots\r\n",
        "\r\n",
        "Δεν τυπώνουμε για τους dummy καθώς δεν έχουν ποιοτικό ενδιαφέρον."
      ]
    },
    {
      "cell_type": "code",
      "metadata": {
        "colab": {
          "base_uri": "https://localhost:8080/",
          "height": 809
        },
        "id": "3w11DtcWDE-C",
        "outputId": "6232cbf2-9833-4ad9-dd02-2ecd5558b8c8"
      },
      "source": [
        "best_averaged_plots(bestclassifierlist,X_test,y_test,\"Best\")"
      ],
      "execution_count": 59,
      "outputs": [
        {
          "output_type": "display_data",
          "data": {
            "image/png": "[encoded data removed]",
            "text/plain": [
              "<Figure size 432x288 with 1 Axes>"
            ]
          },
          "metadata": {
            "tags": [],
            "needs_background": "light"
          }
        },
        {
          "output_type": "display_data",
          "data": {
            "image/png": "[encoded data removed]",
            "text/plain": [
              "<Figure size 432x288 with 1 Axes>"
            ]
          },
          "metadata": {
            "tags": [],
            "needs_background": "light"
          }
        },
        {
          "output_type": "display_data",
          "data": {
            "image/png": "[encoded data removed]",
            "text/plain": [
              "<Figure size 432x288 with 1 Axes>"
            ]
          },
          "metadata": {
            "tags": [],
            "needs_background": "light"
          }
        }
      ]
    },
    {
      "cell_type": "markdown",
      "metadata": {
        "id": "vbP16ZhpDE-C"
      },
      "source": [
        "### 4. Before And After Optimization"
      ]
    },
    {
      "cell_type": "code",
      "metadata": {
        "colab": {
          "base_uri": "https://localhost:8080/",
          "height": 809
        },
        "id": "7KZn3aB7DE-C",
        "outputId": "6aab66c7-25ef-4add-9905-9ddaac2d6e05"
      },
      "source": [
        "difference_averaged_plots(classifierlist[7:],bestclassifierlist[1:],X_test,y_test,\"Difference\")"
      ],
      "execution_count": 60,
      "outputs": [
        {
          "output_type": "display_data",
          "data": {
            "image/png": "[encoded data removed]",
            "text/plain": [
              "<Figure size 432x288 with 1 Axes>"
            ]
          },
          "metadata": {
            "tags": [],
            "needs_background": "light"
          }
        },
        {
          "output_type": "display_data",
          "data": {
            "image/png": "[encoded data removed]",
            "text/plain": [
              "<Figure size 432x288 with 1 Axes>"
            ]
          },
          "metadata": {
            "tags": [],
            "needs_background": "light"
          }
        },
        {
          "output_type": "display_data",
          "data": {
            "image/png": "[encoded data removed]",
            "text/plain": [
              "<Figure size 432x288 with 1 Axes>"
            ]
          },
          "metadata": {
            "tags": [],
            "needs_background": "light"
          }
        }
      ]
    },
    {
      "cell_type": "markdown",
      "metadata": {
        "id": "c_PjJJ0jDE-C"
      },
      "source": [
        "### 5. Precision, Recall, F1 Scores, and more \n",
        "\n"
      ]
    },
    {
      "cell_type": "markdown",
      "metadata": {
        "id": "vxw4rHTbDE-D"
      },
      "source": [
        "Με fine tuning καταφέρνουμε να ανεβάσουμε την επίδοση του ταξινομητή Knn τόσο ώστε να φτάνει και τον GNB στο score (93.3%) για την μετρική F1_micro. Παρατηρούμε και πάλι πώς έχουμε περίπου ίδιες τιμές precision και recall ."
      ]
    },
    {
      "cell_type": "markdown",
      "metadata": {
        "id": "3dgdPNH6BdBx"
      },
      "source": [
        "## Βελτιστοποίηση ταξινομητών (macro)\n",
        "\n",
        "Σε αυτό το απόσπασμα αξιολογούμε τις βέλτιστες παραμέτρους και την επιρροή τους στις επιδόσεις των ταξινομητών.\n"
      ]
    },
    {
      "cell_type": "markdown",
      "metadata": {
        "id": "wS2lUougBdCA"
      },
      "source": [
        "### Help Code"
      ]
    },
    {
      "cell_type": "code",
      "metadata": {
        "id": "TPM-YQYLBdCB"
      },
      "source": [
        "def grid_search(clf,parameters,X_train,X_test,y_train,y_test,verbose = 10,scoring = \"f1_macro\"):\n",
        "    clf = GridSearchCV(clf,parameters, n_jobs = -1, cv = 10, verbose = verbose ,scoring = \"f1_macro\")\n",
        "    clf.fit(X_train,y_train)\n",
        "    print(clf.best_estimator_)\n",
        "    Best_clf = clf.best_estimator_.fit(X_train,y_train)\n",
        "    print(Best_clf.score(X_test,y_test))\n",
        "    return Best_clf\n",
        "\n",
        "def Best_approach(classifier,X_train,X_test,y_train,y_test):\n",
        "    classifier.fit(X_train,y_train)\n",
        "    y_pred = classifier.predict(X_test)\n",
        "    print(str(classifier),classifier.score(X_test,y_test))\n",
        "    print(\"f1 micro score =\",f1_score(y_test, y_pred, average='micro'))\n",
        "    print(\"f1 macro score =\",f1_score(y_test, y_pred, average='macro'))\n",
        "    cf_matrix = confusion_matrix(y_pred,y_test)\n",
        "    sns.heatmap(cf_matrix, annot=False, cmap='nipy_spectral')\n",
        "    return classifier\n",
        "\n",
        "def best_plot(clfs,score1,score,function,approach):\n",
        "    plt.bar(clfs,score1)\n",
        "    plt.title(approach + \" \" + score + \" with \" + function + \" average\")\n",
        "    plt.savefig(approach + \"_\" + score + \"_with_\"+ function + \"_average.jpg\")\n",
        "    plt.show()\n",
        "\n",
        "def best_averaged_plots(classifierlist,X_test,y_test,approach):\n",
        "    clfs  = ['GNB','KNN']\n",
        "    score_micro = []\n",
        "    score_macro = []\n",
        "    recall_micro = []\n",
        "    recall_macro = []\n",
        "    precision_micro = []\n",
        "    precision_macro = []\n",
        "    for classifier in classifierlist:        \n",
        "        y_pred = classifier.predict(X_test)\n",
        "        score_macro.append(f1_score(y_test, y_pred, average = 'macro'))        \n",
        "        recall_macro.append(recall_score(y_test, y_pred, average = \"macro\"))        \n",
        "        precision_macro.append(precision_score(y_test, y_pred, average = 'macro'))\n",
        "       \n",
        "\n",
        "    best_plot(clfs,score_macro,\"score\",\"macro\",approach)\n",
        "    best_plot(clfs,recall_macro,\"recall\",\"macro\",approach)\n",
        "    best_plot(clfs,precision_macro,\"precision\",\"macro\",approach)\n",
        "\n",
        "def difference_plot(clfs,score1,score,function,approach):\n",
        "    plt.bar([1-.25/2],score1[0],width = .25)\n",
        "    plt.bar([1+.25/2],score1[1],width = .25)\n",
        "    plt.xticks([1],clfs)\n",
        "    plt.title(approach + \" for \" + score + \" with \" + function + \" average\")\n",
        "    plt.savefig(approach + \"_for_\" + score + \"_with_\"+ function + \"_average.jpg\")\n",
        "    plt.show()\n",
        "\n",
        "def difference_averaged_plots(classifierlist,bestclassifierlist,X_test,y_test,approach):\n",
        "    clfs  = ['KNN']\n",
        "    score_micro = [[],[]]\n",
        "    score_macro = [[],[]]\n",
        "    recall_micro = [[],[]]\n",
        "    recall_macro = [[],[]]\n",
        "    precision_micro = [[],[]]\n",
        "    precision_macro = [[],[]]\n",
        "    for i in range(1):\n",
        "        base_y_pred = classifierlist[i].predict(X_test)\n",
        "        best_y_pred = bestclassifierlist[i].predict(X_test)\n",
        "        score_macro[0].append(f1_score(y_test, base_y_pred, average = 'macro'))        \n",
        "        recall_macro[0].append(recall_score(y_test, base_y_pred, average = \"macro\"))        \n",
        "        precision_macro[0].append(precision_score(y_test, base_y_pred, average = 'macro'))\n",
        "        score_macro[1].append(f1_score(y_test, best_y_pred, average = 'macro'))        \n",
        "        recall_macro[1].append(recall_score(y_test, best_y_pred, average = \"macro\"))        \n",
        "        precision_macro[1].append(precision_score(y_test, best_y_pred, average = 'macro'))\n",
        "\n",
        "    difference_plot(clfs,score_macro,\"score\",\"macro\",approach)\n",
        "    difference_plot(clfs,recall_macro,\"recall\",\"macro\",approach)\n",
        "    difference_plot(clfs,precision_macro,\"precision\",\"macro\",approach)"
      ],
      "execution_count": 72,
      "outputs": []
    },
    {
      "cell_type": "markdown",
      "metadata": {
        "id": "8mIv0BMVBdCC"
      },
      "source": [
        "### 1. Classifiers"
      ]
    },
    {
      "cell_type": "markdown",
      "metadata": {
        "id": "A3WOqGPFBdCC"
      },
      "source": [
        "#### kΝΝ Classifier\n",
        "Hyperparameters: n_neighbors.\n",
        "\n",
        "Βέλτιστες παράμετροι πρόκευψαν :\n",
        "\n",
        "\n",
        "*   n_neighbors = 5\n",
        "\n",
        "\n",
        "\n",
        "Score = 0.9068322981366459"
      ]
    },
    {
      "cell_type": "code",
      "metadata": {
        "colab": {
          "base_uri": "https://localhost:8080/"
        },
        "id": "n_ssAIpnBdCD",
        "outputId": "eb6367d1-f627-4d3c-fd9e-1423f068786e"
      },
      "source": [
        "parameters =  {\"n_neighbors\": [i for i in range(10)]}\n",
        "clf = KNeighborsClassifier(n_jobs = -1)\n",
        "\n",
        "grid_search(clf,parameters,X_train,X_test,y_train,y_test,10)"
      ],
      "execution_count": 64,
      "outputs": [
        {
          "output_type": "stream",
          "text": [
            "Fitting 10 folds for each of 10 candidates, totalling 100 fits\n"
          ],
          "name": "stdout"
        },
        {
          "output_type": "stream",
          "text": [
            "[Parallel(n_jobs=-1)]: Using backend LokyBackend with 2 concurrent workers.\n",
            "[Parallel(n_jobs=-1)]: Batch computation too fast (0.0082s.) Setting batch_size=2.\n",
            "[Parallel(n_jobs=-1)]: Batch computation too fast (0.0082s.) Setting batch_size=4.\n",
            "[Parallel(n_jobs=-1)]: Done   2 tasks      | elapsed:    0.0s\n",
            "[Parallel(n_jobs=-1)]: Done   8 tasks      | elapsed:    0.0s\n",
            "[Parallel(n_jobs=-1)]: Batch computation too fast (0.0133s.) Setting batch_size=8.\n",
            "[Parallel(n_jobs=-1)]: Done  36 tasks      | elapsed:    1.5s\n",
            "[Parallel(n_jobs=-1)]: Done  76 tasks      | elapsed:    3.8s\n"
          ],
          "name": "stderr"
        },
        {
          "output_type": "stream",
          "text": [
            "KNeighborsClassifier(algorithm='auto', leaf_size=30, metric='minkowski',\n",
            "                     metric_params=None, n_jobs=-1, n_neighbors=8, p=2,\n",
            "                     weights='uniform')\n",
            "0.9333333333333333\n"
          ],
          "name": "stdout"
        },
        {
          "output_type": "stream",
          "text": [
            "[Parallel(n_jobs=-1)]: Done 100 out of 100 | elapsed:    4.9s finished\n"
          ],
          "name": "stderr"
        },
        {
          "output_type": "execute_result",
          "data": {
            "text/plain": [
              "KNeighborsClassifier(algorithm='auto', leaf_size=30, metric='minkowski',\n",
              "                     metric_params=None, n_jobs=-1, n_neighbors=8, p=2,\n",
              "                     weights='uniform')"
            ]
          },
          "metadata": {
            "tags": []
          },
          "execution_count": 64
        }
      ]
    },
    {
      "cell_type": "code",
      "metadata": {
        "colab": {
          "base_uri": "https://localhost:8080/",
          "height": 350
        },
        "id": "ti3f0XTQZem8",
        "outputId": "331bd6c6-e78d-4d3f-8219-d9890f31e779"
      },
      "source": [
        "best_Knn = KNeighborsClassifier(n_neighbors = 8, n_jobs = -1)\r\n",
        "Knn = Baseline_approach(best_Knn,X_train,X_test,y_train,y_test)"
      ],
      "execution_count": 65,
      "outputs": [
        {
          "output_type": "stream",
          "text": [
            "KNeighborsClassifier(algorithm='auto', leaf_size=30, metric='minkowski',\n",
            "                     metric_params=None, n_jobs=-1, n_neighbors=8, p=2,\n",
            "                     weights='uniform') 0.9333333333333333\n",
            "f1 micro score = 0.9333333333333333\n",
            "f1 macro score = 0.9068322981366459\n"
          ],
          "name": "stdout"
        },
        {
          "output_type": "display_data",
          "data": {
            "image/png": "[encoded data removed]",
            "text/plain": [
              "<Figure size 432x288 with 2 Axes>"
            ]
          },
          "metadata": {
            "tags": [],
            "needs_background": "light"
          }
        }
      ]
    },
    {
      "cell_type": "markdown",
      "metadata": {
        "id": "6Bc5f0H2BdCE"
      },
      "source": [
        "### 2. Final fit and running time"
      ]
    },
    {
      "cell_type": "code",
      "metadata": {
        "colab": {
          "base_uri": "https://localhost:8080/"
        },
        "id": "rbdUHfhIBdCG",
        "outputId": "ff5819d9-cd6f-4109-e4b2-82a1a7b50870"
      },
      "source": [
        "t = Texttable()\n",
        "\n",
        "fit_times = []\n",
        "predict_times = []\n",
        "table = [['Classifier','Fit time (s)','Predict time (s)', 'Score']]\n",
        "classifiernames = [\"GNB\",\"Knn\"]\n",
        "GNB = GaussianNB()\n",
        "best_knn = KNeighborsClassifier(n_neighbors = 8, n_jobs = -1)\n",
        "bestclassifierlist = [GNB,best_knn]\n",
        "\n",
        "i = 0\n",
        "for clf in bestclassifierlist:\n",
        "    point1 = time.time()\n",
        "    clf.fit(X_train,y_train)\n",
        "    point2 = time.time()\n",
        "    y_pred = clf.predict(X_test)\n",
        "    point3 = time.time()\n",
        "    fit_times.append(round(point2 - point1,8))\n",
        "    predict_times.append(round(point3-point2,5))\n",
        "    table.append([classifiernames[i],round(point2 - point1,8),round(point3-point2,8),clf.score(X_test,y_test)])\n",
        "\n",
        "    i += 1\n",
        "\n",
        "t.add_rows(table)\n",
        "print(t.draw())"
      ],
      "execution_count": 66,
      "outputs": [
        {
          "output_type": "stream",
          "text": [
            "+------------+--------------+------------------+-------+\n",
            "| Classifier | Fit time (s) | Predict time (s) | Score |\n",
            "+============+==============+==================+=======+\n",
            "| GNB        | 0.002        | 0.000            | 0.933 |\n",
            "+------------+--------------+------------------+-------+\n",
            "| Knn        | 0.001        | 0.106            | 0.933 |\n",
            "+------------+--------------+------------------+-------+\n"
          ],
          "name": "stdout"
        }
      ]
    },
    {
      "cell_type": "markdown",
      "metadata": {
        "id": "_mU2huoYBdCH"
      },
      "source": [
        "### 3. Averaged metric bar plots\r\n",
        "\r\n",
        "Δεν τυπώνουμε για τους dummy καθώς δεν έχουν ποιοτικό ενδιαφέρον."
      ]
    },
    {
      "cell_type": "code",
      "metadata": {
        "colab": {
          "base_uri": "https://localhost:8080/",
          "height": 809
        },
        "id": "4Gxq0fY5BdCH",
        "outputId": "66ba2f38-38c8-421e-e00f-90aee67ce0bd"
      },
      "source": [
        "best_averaged_plots(bestclassifierlist,X_test,y_test,\"Best\")"
      ],
      "execution_count": 73,
      "outputs": [
        {
          "output_type": "display_data",
          "data": {
            "image/png": "[encoded data removed]",
            "text/plain": [
              "<Figure size 432x288 with 1 Axes>"
            ]
          },
          "metadata": {
            "tags": [],
            "needs_background": "light"
          }
        },
        {
          "output_type": "display_data",
          "data": {
            "image/png": "[encoded data removed]",
            "text/plain": [
              "<Figure size 432x288 with 1 Axes>"
            ]
          },
          "metadata": {
            "tags": [],
            "needs_background": "light"
          }
        },
        {
          "output_type": "display_data",
          "data": {
            "image/png": "[encoded data removed]",
            "text/plain": [
              "<Figure size 432x288 with 1 Axes>"
            ]
          },
          "metadata": {
            "tags": [],
            "needs_background": "light"
          }
        }
      ]
    },
    {
      "cell_type": "markdown",
      "metadata": {
        "id": "s-tgL2gIBdCI"
      },
      "source": [
        "### 4. Before And After Optimization"
      ]
    },
    {
      "cell_type": "code",
      "metadata": {
        "colab": {
          "base_uri": "https://localhost:8080/",
          "height": 809
        },
        "id": "pyRLlEe5BdCI",
        "outputId": "cb852d38-ec7e-4f3d-e518-324b35eae56c"
      },
      "source": [
        "difference_averaged_plots(classifierlist[7:],bestclassifierlist[1:],X_test,y_test,\"Difference\")"
      ],
      "execution_count": 74,
      "outputs": [
        {
          "output_type": "display_data",
          "data": {
            "image/png": "[encoded data removed]",
            "text/plain": [
              "<Figure size 432x288 with 1 Axes>"
            ]
          },
          "metadata": {
            "tags": [],
            "needs_background": "light"
          }
        },
        {
          "output_type": "display_data",
          "data": {
            "image/png": "[encoded data removed]",
            "text/plain": [
              "<Figure size 432x288 with 1 Axes>"
            ]
          },
          "metadata": {
            "tags": [],
            "needs_background": "light"
          }
        },
        {
          "output_type": "display_data",
          "data": {
            "image/png": "[encoded data removed]",
            "text/plain": [
              "<Figure size 432x288 with 1 Axes>"
            ]
          },
          "metadata": {
            "tags": [],
            "needs_background": "light"
          }
        }
      ]
    },
    {
      "cell_type": "markdown",
      "metadata": {
        "id": "EItKWmu3BdCJ"
      },
      "source": [
        "### 5. Precision, Recall, F1 Scores, and more \n",
        "\n"
      ]
    },
    {
      "cell_type": "markdown",
      "metadata": {
        "id": "v8aYaLIGBdCJ"
      },
      "source": [
        "Με fine tuning βελτιώνουμε τον Knn αλγόριθμος ώστε να έχει την ίδια συμπεριφορά με τον GNB (ποσοτικά, με διαφορετικά test δεδομένα θα διέφεραν). Παρατηρούμε και πάλι πώς έχουμε περίπου ίδιες τιμές precision και recall."
      ]
    },
    {
      "cell_type": "markdown",
      "metadata": {
        "id": "WDfZx8ohCTlI"
      },
      "source": [
        "# Μεγάλο dataset (ISOLET)\n"
      ]
    },
    {
      "cell_type": "markdown",
      "metadata": {
        "id": "qzWCgEBN14_5"
      },
      "source": [
        "## Βασικές πληροφορίες"
      ]
    },
    {
      "cell_type": "markdown",
      "metadata": {
        "id": "MNdVFRbkBvkU"
      },
      "source": [
        "### 1. Σύντομη παρουσίαση του dataset:\n",
        "\n",
        "Το classification task είναι η ταξινόμηση ονόματος-γράμματος από σήμα φωνής. Το dataset προέκυψε από 150 ανθρώπους οι οποίοι διάβασαν ολογογράφως τα γράμματα του Αγγλικού αλφαβήτου από 2 φορές το καθένα. \n"
      ]
    },
    {
      "cell_type": "code",
      "metadata": {
        "id": "TLMTumNRCafH"
      },
      "source": [
        "!wget \"http://archive.ics.uci.edu/ml/machine-learning-databases/isolet/isolet1+2+3+4.data.Z\" &> /dev/null\n",
        "!wget \"http://archive.ics.uci.edu/ml/machine-learning-databases/isolet/isolet5.data.Z\" &> /dev/null\n",
        "\n",
        "!gzip -d -f *.Z &> /dev/null\n"
      ],
      "execution_count": 75,
      "outputs": []
    },
    {
      "cell_type": "markdown",
      "metadata": {
        "id": "Jb4tnwz7Bz4w"
      },
      "source": [
        "### 2. Δειγμάτα και Χαρακτηριστικά\n",
        "\n",
        "Το συγκεκριμένο dataset είναι ήδη χωρισμένο σε train και test data. Έχουμε 6238 train samples και 1559 test samples, σύνολο άρα 7797. Το κάθε δείγμα περιλαμβάνει 617 features τα οποία είναι όλα αριθμητικές τιμές. Τα features αυτά προέκυψαν από διαφορετικές αναλύσεις όπως:\n",
        "*italicized text*\n",
        "*   Spectral coefficients,\n",
        "*   Contour features,\n",
        "*   Sonorant features,\n",
        "*   Pre-sonorant features,\n",
        "*   Post-sonorant features.\n",
        "\n",
        "\n",
        "\n",
        "\n"
      ]
    },
    {
      "cell_type": "code",
      "metadata": {
        "colab": {
          "base_uri": "https://localhost:8080/"
        },
        "id": "O6CtF0nNB3p5",
        "outputId": "a6cc8e11-8b40-4043-e374-b44a807592e6"
      },
      "source": [
        "train_data = pd.read_csv(\"isolet1+2+3+4.data\", header=None)\n",
        "print(train_data.shape)\n",
        "\n",
        "test_data = pd.read_csv(\"isolet5.data\", header=None)\n",
        "print(test_data.shape)\n",
        "# test_data.head()\n"
      ],
      "execution_count": 76,
      "outputs": [
        {
          "output_type": "stream",
          "text": [
            "(6238, 618)\n",
            "(1559, 618)\n"
          ],
          "name": "stdout"
        }
      ]
    },
    {
      "cell_type": "markdown",
      "metadata": {
        "id": "MJV9AGWYB4FE"
      },
      "source": [
        "### 3. Επικεφαλίδες\n",
        "\n",
        "Δεν υπάρχουν επικεφαλίδες και η αρίθμηση γραμμών γίνεται από τη βιβλιοθήκη pandas. "
      ]
    },
    {
      "cell_type": "code",
      "metadata": {
        "colab": {
          "base_uri": "https://localhost:8080/",
          "height": 0
        },
        "id": "EmSKI4zOB68T",
        "outputId": "2366bcd3-5a24-4a09-99bf-fbe6bbde1ad8"
      },
      "source": [
        "train_data.head()"
      ],
      "execution_count": 77,
      "outputs": [
        {
          "output_type": "execute_result",
          "data": {
            "text/html": [
              "<div>\n",
              "<style scoped>\n",
              "    .dataframe tbody tr th:only-of-type {\n",
              "        vertical-align: middle;\n",
              "    }\n",
              "\n",
              "    .dataframe tbody tr th {\n",
              "        vertical-align: top;\n",
              "    }\n",
              "\n",
              "    .dataframe thead th {\n",
              "        text-align: right;\n",
              "    }\n",
              "</style>\n",
              "<table border=\"1\" class=\"dataframe\">\n",
              "  <thead>\n",
              "    <tr style=\"text-align: right;\">\n",
              "      <th></th>\n",
              "      <th>0</th>\n",
              "      <th>1</th>\n",
              "      <th>2</th>\n",
              "      <th>3</th>\n",
              "      <th>4</th>\n",
              "      <th>5</th>\n",
              "      <th>6</th>\n",
              "      <th>7</th>\n",
              "      <th>8</th>\n",
              "      <th>9</th>\n",
              "      <th>10</th>\n",
              "      <th>11</th>\n",
              "      <th>12</th>\n",
              "      <th>13</th>\n",
              "      <th>14</th>\n",
              "      <th>15</th>\n",
              "      <th>16</th>\n",
              "      <th>17</th>\n",
              "      <th>18</th>\n",
              "      <th>19</th>\n",
              "      <th>20</th>\n",
              "      <th>21</th>\n",
              "      <th>22</th>\n",
              "      <th>23</th>\n",
              "      <th>24</th>\n",
              "      <th>25</th>\n",
              "      <th>26</th>\n",
              "      <th>27</th>\n",
              "      <th>28</th>\n",
              "      <th>29</th>\n",
              "      <th>30</th>\n",
              "      <th>31</th>\n",
              "      <th>32</th>\n",
              "      <th>33</th>\n",
              "      <th>34</th>\n",
              "      <th>35</th>\n",
              "      <th>36</th>\n",
              "      <th>37</th>\n",
              "      <th>38</th>\n",
              "      <th>39</th>\n",
              "      <th>...</th>\n",
              "      <th>578</th>\n",
              "      <th>579</th>\n",
              "      <th>580</th>\n",
              "      <th>581</th>\n",
              "      <th>582</th>\n",
              "      <th>583</th>\n",
              "      <th>584</th>\n",
              "      <th>585</th>\n",
              "      <th>586</th>\n",
              "      <th>587</th>\n",
              "      <th>588</th>\n",
              "      <th>589</th>\n",
              "      <th>590</th>\n",
              "      <th>591</th>\n",
              "      <th>592</th>\n",
              "      <th>593</th>\n",
              "      <th>594</th>\n",
              "      <th>595</th>\n",
              "      <th>596</th>\n",
              "      <th>597</th>\n",
              "      <th>598</th>\n",
              "      <th>599</th>\n",
              "      <th>600</th>\n",
              "      <th>601</th>\n",
              "      <th>602</th>\n",
              "      <th>603</th>\n",
              "      <th>604</th>\n",
              "      <th>605</th>\n",
              "      <th>606</th>\n",
              "      <th>607</th>\n",
              "      <th>608</th>\n",
              "      <th>609</th>\n",
              "      <th>610</th>\n",
              "      <th>611</th>\n",
              "      <th>612</th>\n",
              "      <th>613</th>\n",
              "      <th>614</th>\n",
              "      <th>615</th>\n",
              "      <th>616</th>\n",
              "      <th>617</th>\n",
              "    </tr>\n",
              "  </thead>\n",
              "  <tbody>\n",
              "    <tr>\n",
              "      <th>0</th>\n",
              "      <td>-0.4394</td>\n",
              "      <td>-0.0930</td>\n",
              "      <td>0.1718</td>\n",
              "      <td>0.4620</td>\n",
              "      <td>0.6226</td>\n",
              "      <td>0.4704</td>\n",
              "      <td>0.3578</td>\n",
              "      <td>0.0478</td>\n",
              "      <td>-0.1184</td>\n",
              "      <td>-0.2310</td>\n",
              "      <td>-0.2958</td>\n",
              "      <td>-0.2704</td>\n",
              "      <td>-0.2620</td>\n",
              "      <td>-0.2170</td>\n",
              "      <td>-0.0874</td>\n",
              "      <td>-0.0564</td>\n",
              "      <td>0.0254</td>\n",
              "      <td>0.0958</td>\n",
              "      <td>0.4226</td>\n",
              "      <td>0.6648</td>\n",
              "      <td>0.9184</td>\n",
              "      <td>0.9718</td>\n",
              "      <td>0.9324</td>\n",
              "      <td>0.7070</td>\n",
              "      <td>0.6986</td>\n",
              "      <td>0.7550</td>\n",
              "      <td>0.8816</td>\n",
              "      <td>1.0000</td>\n",
              "      <td>0.9380</td>\n",
              "      <td>0.8450</td>\n",
              "      <td>0.7268</td>\n",
              "      <td>0.5578</td>\n",
              "      <td>-0.4330</td>\n",
              "      <td>-0.1982</td>\n",
              "      <td>0.1270</td>\n",
              "      <td>0.3666</td>\n",
              "      <td>0.4496</td>\n",
              "      <td>0.4258</td>\n",
              "      <td>0.2646</td>\n",
              "      <td>-0.0368</td>\n",
              "      <td>...</td>\n",
              "      <td>1.0</td>\n",
              "      <td>-1.0</td>\n",
              "      <td>-1.0</td>\n",
              "      <td>-1.0</td>\n",
              "      <td>-1.0</td>\n",
              "      <td>0.1334</td>\n",
              "      <td>-1.0</td>\n",
              "      <td>-0.0770</td>\n",
              "      <td>0.0512</td>\n",
              "      <td>0.2564</td>\n",
              "      <td>0.5642</td>\n",
              "      <td>0.4872</td>\n",
              "      <td>0.0770</td>\n",
              "      <td>0.4358</td>\n",
              "      <td>0.7436</td>\n",
              "      <td>0.5128</td>\n",
              "      <td>0.6666</td>\n",
              "      <td>0.6410</td>\n",
              "      <td>0.6154</td>\n",
              "      <td>1.0000</td>\n",
              "      <td>0.8206</td>\n",
              "      <td>0.6410</td>\n",
              "      <td>0.3590</td>\n",
              "      <td>0.6924</td>\n",
              "      <td>0.4358</td>\n",
              "      <td>0.1538</td>\n",
              "      <td>0.4616</td>\n",
              "      <td>0.6154</td>\n",
              "      <td>0.3334</td>\n",
              "      <td>0.3334</td>\n",
              "      <td>0.4102</td>\n",
              "      <td>0.2052</td>\n",
              "      <td>0.3846</td>\n",
              "      <td>0.3590</td>\n",
              "      <td>0.5898</td>\n",
              "      <td>0.3334</td>\n",
              "      <td>0.6410</td>\n",
              "      <td>0.5898</td>\n",
              "      <td>-0.4872</td>\n",
              "      <td>1.0</td>\n",
              "    </tr>\n",
              "    <tr>\n",
              "      <th>1</th>\n",
              "      <td>-0.4348</td>\n",
              "      <td>-0.1198</td>\n",
              "      <td>0.2474</td>\n",
              "      <td>0.4036</td>\n",
              "      <td>0.5026</td>\n",
              "      <td>0.6328</td>\n",
              "      <td>0.4948</td>\n",
              "      <td>0.0338</td>\n",
              "      <td>-0.0520</td>\n",
              "      <td>-0.1302</td>\n",
              "      <td>-0.0964</td>\n",
              "      <td>-0.2084</td>\n",
              "      <td>-0.0494</td>\n",
              "      <td>-0.0494</td>\n",
              "      <td>-0.2942</td>\n",
              "      <td>0.0704</td>\n",
              "      <td>0.0546</td>\n",
              "      <td>0.1302</td>\n",
              "      <td>0.5652</td>\n",
              "      <td>0.6848</td>\n",
              "      <td>0.7760</td>\n",
              "      <td>0.9558</td>\n",
              "      <td>0.8542</td>\n",
              "      <td>0.7474</td>\n",
              "      <td>0.6094</td>\n",
              "      <td>0.7708</td>\n",
              "      <td>0.8282</td>\n",
              "      <td>1.0000</td>\n",
              "      <td>0.9974</td>\n",
              "      <td>0.9480</td>\n",
              "      <td>0.7422</td>\n",
              "      <td>0.5678</td>\n",
              "      <td>-0.2196</td>\n",
              "      <td>0.1090</td>\n",
              "      <td>0.5892</td>\n",
              "      <td>0.8768</td>\n",
              "      <td>1.0000</td>\n",
              "      <td>0.9936</td>\n",
              "      <td>0.7852</td>\n",
              "      <td>0.3712</td>\n",
              "      <td>...</td>\n",
              "      <td>-1.0</td>\n",
              "      <td>-1.0</td>\n",
              "      <td>-1.0</td>\n",
              "      <td>-1.0</td>\n",
              "      <td>-1.0</td>\n",
              "      <td>-1.0000</td>\n",
              "      <td>-1.0</td>\n",
              "      <td>0.0228</td>\n",
              "      <td>-0.0910</td>\n",
              "      <td>0.2728</td>\n",
              "      <td>0.8636</td>\n",
              "      <td>0.7500</td>\n",
              "      <td>0.4318</td>\n",
              "      <td>0.7272</td>\n",
              "      <td>0.6590</td>\n",
              "      <td>0.4090</td>\n",
              "      <td>0.7728</td>\n",
              "      <td>1.0000</td>\n",
              "      <td>0.7272</td>\n",
              "      <td>0.4772</td>\n",
              "      <td>0.4772</td>\n",
              "      <td>0.4772</td>\n",
              "      <td>0.6590</td>\n",
              "      <td>0.1818</td>\n",
              "      <td>0.4318</td>\n",
              "      <td>0.3864</td>\n",
              "      <td>0.8410</td>\n",
              "      <td>0.8864</td>\n",
              "      <td>0.2500</td>\n",
              "      <td>0.2272</td>\n",
              "      <td>0.0000</td>\n",
              "      <td>0.2954</td>\n",
              "      <td>0.2046</td>\n",
              "      <td>0.4772</td>\n",
              "      <td>0.0454</td>\n",
              "      <td>0.2046</td>\n",
              "      <td>0.4318</td>\n",
              "      <td>0.4546</td>\n",
              "      <td>-0.0910</td>\n",
              "      <td>1.0</td>\n",
              "    </tr>\n",
              "    <tr>\n",
              "      <th>2</th>\n",
              "      <td>-0.2330</td>\n",
              "      <td>0.2124</td>\n",
              "      <td>0.5014</td>\n",
              "      <td>0.5222</td>\n",
              "      <td>-0.3422</td>\n",
              "      <td>-0.5840</td>\n",
              "      <td>-0.7168</td>\n",
              "      <td>-0.6342</td>\n",
              "      <td>-0.8614</td>\n",
              "      <td>-0.8318</td>\n",
              "      <td>-0.7228</td>\n",
              "      <td>-0.6312</td>\n",
              "      <td>-0.4986</td>\n",
              "      <td>-0.7080</td>\n",
              "      <td>-0.6666</td>\n",
              "      <td>-0.5428</td>\n",
              "      <td>-0.4130</td>\n",
              "      <td>-0.3776</td>\n",
              "      <td>-0.0472</td>\n",
              "      <td>0.1356</td>\n",
              "      <td>0.6136</td>\n",
              "      <td>0.8024</td>\n",
              "      <td>1.0000</td>\n",
              "      <td>0.9794</td>\n",
              "      <td>0.9352</td>\n",
              "      <td>0.8732</td>\n",
              "      <td>0.9440</td>\n",
              "      <td>0.9588</td>\n",
              "      <td>0.6962</td>\n",
              "      <td>0.4838</td>\n",
              "      <td>0.3982</td>\n",
              "      <td>0.2064</td>\n",
              "      <td>-0.3270</td>\n",
              "      <td>0.0134</td>\n",
              "      <td>0.3620</td>\n",
              "      <td>0.3218</td>\n",
              "      <td>-0.4558</td>\n",
              "      <td>-0.8096</td>\n",
              "      <td>-0.7748</td>\n",
              "      <td>-0.7238</td>\n",
              "      <td>...</td>\n",
              "      <td>-1.0</td>\n",
              "      <td>1.0</td>\n",
              "      <td>-0.8</td>\n",
              "      <td>-1.0</td>\n",
              "      <td>-0.6</td>\n",
              "      <td>-0.8334</td>\n",
              "      <td>-1.0</td>\n",
              "      <td>-0.4286</td>\n",
              "      <td>-0.2540</td>\n",
              "      <td>-0.3650</td>\n",
              "      <td>-0.0952</td>\n",
              "      <td>-0.0794</td>\n",
              "      <td>0.0318</td>\n",
              "      <td>-0.2064</td>\n",
              "      <td>0.0634</td>\n",
              "      <td>0.1112</td>\n",
              "      <td>0.1746</td>\n",
              "      <td>0.2380</td>\n",
              "      <td>0.1904</td>\n",
              "      <td>0.5080</td>\n",
              "      <td>0.5396</td>\n",
              "      <td>0.0318</td>\n",
              "      <td>-0.0158</td>\n",
              "      <td>0.7142</td>\n",
              "      <td>1.0000</td>\n",
              "      <td>0.4126</td>\n",
              "      <td>-0.0794</td>\n",
              "      <td>-0.0476</td>\n",
              "      <td>0.0000</td>\n",
              "      <td>0.0952</td>\n",
              "      <td>-0.1112</td>\n",
              "      <td>-0.0476</td>\n",
              "      <td>-0.1746</td>\n",
              "      <td>0.0318</td>\n",
              "      <td>-0.0476</td>\n",
              "      <td>0.1112</td>\n",
              "      <td>0.2540</td>\n",
              "      <td>0.1588</td>\n",
              "      <td>-0.4762</td>\n",
              "      <td>2.0</td>\n",
              "    </tr>\n",
              "    <tr>\n",
              "      <th>3</th>\n",
              "      <td>-0.3808</td>\n",
              "      <td>-0.0096</td>\n",
              "      <td>0.2602</td>\n",
              "      <td>0.2554</td>\n",
              "      <td>-0.4290</td>\n",
              "      <td>-0.6746</td>\n",
              "      <td>-0.6868</td>\n",
              "      <td>-0.6650</td>\n",
              "      <td>-0.8410</td>\n",
              "      <td>-0.9614</td>\n",
              "      <td>-0.7374</td>\n",
              "      <td>-0.7084</td>\n",
              "      <td>-0.6772</td>\n",
              "      <td>-0.6338</td>\n",
              "      <td>-0.6482</td>\n",
              "      <td>-0.6240</td>\n",
              "      <td>-0.3976</td>\n",
              "      <td>-0.5662</td>\n",
              "      <td>-0.2168</td>\n",
              "      <td>0.0458</td>\n",
              "      <td>0.3832</td>\n",
              "      <td>0.6168</td>\n",
              "      <td>0.8988</td>\n",
              "      <td>1.0000</td>\n",
              "      <td>0.9156</td>\n",
              "      <td>0.8796</td>\n",
              "      <td>0.9132</td>\n",
              "      <td>0.7132</td>\n",
              "      <td>0.7590</td>\n",
              "      <td>0.7278</td>\n",
              "      <td>0.5856</td>\n",
              "      <td>0.5060</td>\n",
              "      <td>-0.3710</td>\n",
              "      <td>-0.0868</td>\n",
              "      <td>0.4114</td>\n",
              "      <td>0.3438</td>\n",
              "      <td>-0.1816</td>\n",
              "      <td>-0.5964</td>\n",
              "      <td>-0.6888</td>\n",
              "      <td>-0.6686</td>\n",
              "      <td>...</td>\n",
              "      <td>-1.0</td>\n",
              "      <td>1.0</td>\n",
              "      <td>-1.0</td>\n",
              "      <td>-1.0</td>\n",
              "      <td>-1.0</td>\n",
              "      <td>-0.8334</td>\n",
              "      <td>-1.0</td>\n",
              "      <td>-0.2374</td>\n",
              "      <td>-0.5396</td>\n",
              "      <td>0.1798</td>\n",
              "      <td>0.2086</td>\n",
              "      <td>0.0792</td>\n",
              "      <td>0.0360</td>\n",
              "      <td>0.3238</td>\n",
              "      <td>0.3956</td>\n",
              "      <td>0.4100</td>\n",
              "      <td>0.2662</td>\n",
              "      <td>0.5252</td>\n",
              "      <td>0.3670</td>\n",
              "      <td>0.9136</td>\n",
              "      <td>1.0000</td>\n",
              "      <td>0.4100</td>\n",
              "      <td>0.1224</td>\n",
              "      <td>0.5252</td>\n",
              "      <td>0.4388</td>\n",
              "      <td>0.0216</td>\n",
              "      <td>-0.0792</td>\n",
              "      <td>0.3812</td>\n",
              "      <td>0.2806</td>\n",
              "      <td>0.0648</td>\n",
              "      <td>-0.0504</td>\n",
              "      <td>-0.0360</td>\n",
              "      <td>-0.1224</td>\n",
              "      <td>0.1366</td>\n",
              "      <td>0.2950</td>\n",
              "      <td>0.0792</td>\n",
              "      <td>-0.0072</td>\n",
              "      <td>0.0936</td>\n",
              "      <td>-0.1510</td>\n",
              "      <td>2.0</td>\n",
              "    </tr>\n",
              "    <tr>\n",
              "      <th>4</th>\n",
              "      <td>-0.3412</td>\n",
              "      <td>0.0946</td>\n",
              "      <td>0.6082</td>\n",
              "      <td>0.6216</td>\n",
              "      <td>-0.1622</td>\n",
              "      <td>-0.3784</td>\n",
              "      <td>-0.4324</td>\n",
              "      <td>-0.4358</td>\n",
              "      <td>-0.4966</td>\n",
              "      <td>-0.5406</td>\n",
              "      <td>-0.5472</td>\n",
              "      <td>-0.5440</td>\n",
              "      <td>-0.4494</td>\n",
              "      <td>-0.2332</td>\n",
              "      <td>-0.2332</td>\n",
              "      <td>-0.1148</td>\n",
              "      <td>0.0068</td>\n",
              "      <td>0.0778</td>\n",
              "      <td>0.4864</td>\n",
              "      <td>0.9054</td>\n",
              "      <td>0.9560</td>\n",
              "      <td>0.7602</td>\n",
              "      <td>0.7770</td>\n",
              "      <td>0.7636</td>\n",
              "      <td>0.8818</td>\n",
              "      <td>1.0000</td>\n",
              "      <td>0.9426</td>\n",
              "      <td>0.7162</td>\n",
              "      <td>0.5472</td>\n",
              "      <td>0.4122</td>\n",
              "      <td>0.2770</td>\n",
              "      <td>0.2364</td>\n",
              "      <td>-0.4684</td>\n",
              "      <td>-0.1394</td>\n",
              "      <td>0.4210</td>\n",
              "      <td>0.4316</td>\n",
              "      <td>-0.3106</td>\n",
              "      <td>-0.5448</td>\n",
              "      <td>-0.5132</td>\n",
              "      <td>-0.6368</td>\n",
              "      <td>...</td>\n",
              "      <td>1.0</td>\n",
              "      <td>-1.0</td>\n",
              "      <td>-1.0</td>\n",
              "      <td>-1.0</td>\n",
              "      <td>-1.0</td>\n",
              "      <td>1.0000</td>\n",
              "      <td>-1.0</td>\n",
              "      <td>0.2500</td>\n",
              "      <td>0.5000</td>\n",
              "      <td>0.0624</td>\n",
              "      <td>0.3438</td>\n",
              "      <td>0.2500</td>\n",
              "      <td>0.2500</td>\n",
              "      <td>0.6250</td>\n",
              "      <td>0.2500</td>\n",
              "      <td>0.5312</td>\n",
              "      <td>0.4376</td>\n",
              "      <td>0.4688</td>\n",
              "      <td>0.5626</td>\n",
              "      <td>0.5938</td>\n",
              "      <td>0.3438</td>\n",
              "      <td>0.5626</td>\n",
              "      <td>0.2500</td>\n",
              "      <td>1.0000</td>\n",
              "      <td>0.9376</td>\n",
              "      <td>0.3438</td>\n",
              "      <td>0.2812</td>\n",
              "      <td>-0.0312</td>\n",
              "      <td>0.4376</td>\n",
              "      <td>0.2812</td>\n",
              "      <td>0.1562</td>\n",
              "      <td>0.3124</td>\n",
              "      <td>0.2500</td>\n",
              "      <td>-0.0938</td>\n",
              "      <td>0.1562</td>\n",
              "      <td>0.3124</td>\n",
              "      <td>0.3124</td>\n",
              "      <td>0.2188</td>\n",
              "      <td>-0.2500</td>\n",
              "      <td>3.0</td>\n",
              "    </tr>\n",
              "  </tbody>\n",
              "</table>\n",
              "<p>5 rows × 618 columns</p>\n",
              "</div>"
            ],
            "text/plain": [
              "      0       1       2       3       4    ...     613     614     615     616  617\n",
              "0 -0.4394 -0.0930  0.1718  0.4620  0.6226  ...  0.3334  0.6410  0.5898 -0.4872  1.0\n",
              "1 -0.4348 -0.1198  0.2474  0.4036  0.5026  ...  0.2046  0.4318  0.4546 -0.0910  1.0\n",
              "2 -0.2330  0.2124  0.5014  0.5222 -0.3422  ...  0.1112  0.2540  0.1588 -0.4762  2.0\n",
              "3 -0.3808 -0.0096  0.2602  0.2554 -0.4290  ...  0.0792 -0.0072  0.0936 -0.1510  2.0\n",
              "4 -0.3412  0.0946  0.6082  0.6216 -0.1622  ...  0.3124  0.3124  0.2188 -0.2500  3.0\n",
              "\n",
              "[5 rows x 618 columns]"
            ]
          },
          "metadata": {
            "tags": []
          },
          "execution_count": 77
        }
      ]
    },
    {
      "cell_type": "markdown",
      "metadata": {
        "id": "pL5SvWxIB7Xg"
      },
      "source": [
        "### 4. Ετικέτες κλάσεων \n",
        "\n",
        "Οι ετικέτες των κλάσεψων βρίσκονται στο τελευταίο column (617) του dataframe. Τα δεδομένα είναι με την σειρά και άρα τα labels τα βλέπουμε να εμβανίζονται με την σειρά ως \n",
        "1.   1.0 (δηλαδή Alpha)\n",
        "2.   2.0 (δηλαδή Beta)\n",
        "\n",
        " ...\n",
        "\n",
        "26. 26.0 (δηλαδή Zed)\n",
        "\n"
      ]
    },
    {
      "cell_type": "code",
      "metadata": {
        "colab": {
          "base_uri": "https://localhost:8080/"
        },
        "id": "lR5iEKMQB84t",
        "outputId": "b922d6eb-1d2b-4410-d89e-2494b7ec0963"
      },
      "source": [
        "print(train_data[:][617])"
      ],
      "execution_count": 78,
      "outputs": [
        {
          "output_type": "stream",
          "text": [
            "0        1.0\n",
            "1        1.0\n",
            "2        2.0\n",
            "3        2.0\n",
            "4        3.0\n",
            "        ... \n",
            "6233    22.0\n",
            "6234    23.0\n",
            "6235    24.0\n",
            "6236    25.0\n",
            "6237    26.0\n",
            "Name: 617, Length: 6238, dtype: float64\n"
          ],
          "name": "stdout"
        }
      ]
    },
    {
      "cell_type": "markdown",
      "metadata": {
        "id": "xFHfoOshQF4F"
      },
      "source": [
        "### 5. Μετατροπές στα αρχεία\n",
        "\n",
        " Τα αρχεία δίνοντα σε .Z compress format και με αποσυμπίεση λαμβάνουμε αρχεία σε .data format. Αυτό συνεπάγεται πως δεν χρειάζεται να κάνουμε κάποια μετατροπή.\n"
      ]
    },
    {
      "cell_type": "markdown",
      "metadata": {
        "id": "K3GB99huCAtd"
      },
      "source": [
        "### 6. Απουσιάζουσες τιμές και δείγματα\n",
        "\n",
        "Στο dataset μας έχουν απορριφθεί 3 από τα αρχικά δείγματα με αποτέλεσμα το πλήθος των δειγμάτων μας να είναι 7797 έναντι του 7800  \n",
        "( 150 άνθρωποι * 52 αναγνώσεις γραμμάτων). Δεν υπάρχουν αποσιάζουσες τιμές. Αξίζει να σημειωθεί πως έχουμε ήδη κανονικοποιημένες όλες τις τιμές των χαρακτηριτικών.\n"
      ]
    },
    {
      "cell_type": "markdown",
      "metadata": {
        "id": "qMnkG9XpCDXg"
      },
      "source": [
        "### 7. Αριθμός κλάσεων, ποσοστά δειγμάτων και ισορροπία του dataset.\n",
        "\n",
        "Σε ακολουθία των παραπάνω καταννούμε ότι οι κλάσεις είναι 26, όσα τα γράμματα του λατινικού αλφαβήτου, ο αριθμός των δείγματων κάθε κλάσης είναι περίπου ίσος ( δίοτι όπως αναφέραμε 3 δείγματα δεν συμπεριλήφθηκαν) και άρα το dataset είναι ισορροπημένο. Συγκεκριμένα προκύπτουν οι εξής πληθικότητες στο dataset:"
      ]
    },
    {
      "cell_type": "code",
      "metadata": {
        "colab": {
          "base_uri": "https://localhost:8080/"
        },
        "id": "fs5X16awCF06",
        "outputId": "96ca84b9-1bdd-4191-dc80-1fc014ecc7e0"
      },
      "source": [
        "features_train = train_data.iloc[:, :617]\n",
        "features_train = features_train.values\n",
        "\n",
        "labels_train = train_data.iloc[:, [617]]\n",
        "labels_train = labels_train.values[:,0]\n",
        "\n",
        "features_test = test_data.iloc[:, :617]\n",
        "features_test = features_test.values\n",
        "\n",
        "labels_test = test_data.iloc[:, [617]]\n",
        "labels_test = labels_test.values[:,0]\n",
        "\n",
        "unique1, counts1 = np.unique(labels_train, return_counts=True)\n",
        "unique2, counts2 = np.unique(labels_test, return_counts=True)\n",
        "\n",
        "print(\"Dict with key the letter-associated number and value the multiplicity of the class in the dataset\")\n",
        "dict(zip(unique1, counts1 + counts2))"
      ],
      "execution_count": 79,
      "outputs": [
        {
          "output_type": "stream",
          "text": [
            "Dict with key the letter-associated number and value the multiplicity of the class in the dataset\n"
          ],
          "name": "stdout"
        },
        {
          "output_type": "execute_result",
          "data": {
            "text/plain": [
              "{1.0: 300,\n",
              " 2.0: 300,\n",
              " 3.0: 300,\n",
              " 4.0: 300,\n",
              " 5.0: 300,\n",
              " 6.0: 298,\n",
              " 7.0: 300,\n",
              " 8.0: 300,\n",
              " 9.0: 300,\n",
              " 10.0: 300,\n",
              " 11.0: 300,\n",
              " 12.0: 300,\n",
              " 13.0: 299,\n",
              " 14.0: 300,\n",
              " 15.0: 300,\n",
              " 16.0: 300,\n",
              " 17.0: 300,\n",
              " 18.0: 300,\n",
              " 19.0: 300,\n",
              " 20.0: 300,\n",
              " 21.0: 300,\n",
              " 22.0: 300,\n",
              " 23.0: 300,\n",
              " 24.0: 300,\n",
              " 25.0: 300,\n",
              " 26.0: 300}"
            ]
          },
          "metadata": {
            "tags": []
          },
          "execution_count": 79
        }
      ]
    },
    {
      "cell_type": "markdown",
      "metadata": {
        "id": "GKgLSgYaCGYO"
      },
      "source": [
        "### 8. Διαχωρισμός train και test set.\n",
        "\n",
        "Τα δεδομένα μας έχουν ήδη δωθεί χωρισμένα σε train και test. Όμως δεν ικανοποιούνται οι απαιτήσεις μας για τον % χωρισμό του dataset. Συγκεκριμένα ο υπάρχον χωρισμός δίνει 80% train set ενώ θέλουμε 70%. Τα χωρίζουμε λοιπόν με τυχαίο τρόπο."
      ]
    },
    {
      "cell_type": "code",
      "metadata": {
        "id": "0IlgMSna1hBN"
      },
      "source": [
        "X_all = np.concatenate((features_train,features_test))\n",
        "y_all = np.concatenate((labels_train,labels_test))\n",
        "X_train, X_test, y_train, y_test = train_test_split(X_all, y_all, test_size=0.3, random_state = 5)\n"
      ],
      "execution_count": 80,
      "outputs": []
    },
    {
      "cell_type": "markdown",
      "metadata": {
        "id": "Sx1zp4Z6KArd"
      },
      "source": [
        "##Baseline Classification\n",
        "\n",
        "Σε αυτό το απόσπασμα εξετάζουμε το πρόβλημα χωρίς την εύρεση βέλτιστων παραμέτρων.\n"
      ]
    },
    {
      "cell_type": "markdown",
      "metadata": {
        "id": "Xrk-OBZH92kP"
      },
      "source": [
        "### Help Code"
      ]
    },
    {
      "cell_type": "code",
      "metadata": {
        "id": "bxKmwnpne6SI"
      },
      "source": [
        "def Baseline_approach(classifier,X_train,X_test,y_train,y_test):\n",
        "    classifier.fit(X_train,y_train)\n",
        "    y_pred = classifier.predict(X_test)\n",
        "    print(str(classifier),classifier.score(X_test,y_test))\n",
        "    print(\"f1 micro score =\",f1_score(y_test, y_pred, average='micro'))\n",
        "    print(\"f1 macro score =\",f1_score(y_test, y_pred, average='macro'))\n",
        "    # print(confusion_matrix(y_pred,y_test))\n",
        "    cf_matrix = confusion_matrix(y_pred,y_test)\n",
        "    sns.heatmap(cf_matrix, annot=False, cmap='nipy_spectral')\n",
        "    return classifier\n",
        "\n",
        "def plot(clfs,score1,score,function,approach):\n",
        "    plt.bar(clfs,score1)\n",
        "    plt.title(approach + \" \" + score + \" with \" + function + \" average\")\n",
        "    plt.savefig(approach + \"_\" + score + \"_with_\"+ function + \"_average.jpg\")\n",
        "    plt.show()\n",
        "\n",
        "def averaged_plots(classifierlist,X_test,y_test,approach):\n",
        "    clfs  = ['Uniform', 'Stratified', 'GNB', 'KNN', 'MLP', 'SVM', 'LinearSVM']\n",
        "    score_micro = []\n",
        "    score_macro = []\n",
        "    recall_micro = []\n",
        "    recall_macro = []\n",
        "    precision_micro = []\n",
        "    precision_macro = []\n",
        "    for classifier in classifierlist:        \n",
        "        y_pred = classifier.predict(X_test)\n",
        "        score_micro.append(f1_score(y_test, y_pred, average = 'micro'))\n",
        "        score_macro.append(f1_score(y_test, y_pred, average = 'macro'))        \n",
        "        recall_micro.append(recall_score(y_test, y_pred, average = \"micro\"))\n",
        "        recall_macro.append(recall_score(y_test, y_pred, average = \"macro\"))        \n",
        "        precision_micro.append(precision_score(y_test, y_pred, average = 'micro'))\n",
        "        precision_macro.append(precision_score(y_test, y_pred, average = 'macro'))\n",
        "       \n",
        "\n",
        "    plot(clfs,score_micro,\"score\",\"micro\",approach)\n",
        "    plot(clfs,score_macro,\"score\",\"macro\",approach)\n",
        "    plot(clfs,recall_micro,\"recall\",\"micro\",approach)\n",
        "    plot(clfs,recall_macro,\"recall\",\"macro\",approach)\n",
        "    plot(clfs,precision_micro,\"precision\",\"micro\",approach)\n",
        "    plot(clfs,precision_macro,\"precision\",\"macro\",approach)"
      ],
      "execution_count": 82,
      "outputs": []
    },
    {
      "cell_type": "markdown",
      "metadata": {
        "id": "5cvxT8dF7K4A"
      },
      "source": [
        "### 1. Classifiers"
      ]
    },
    {
      "cell_type": "markdown",
      "metadata": {
        "id": "16f3mj9PKID6"
      },
      "source": [
        "#### Dummy Classifiers\n",
        "\n"
      ]
    },
    {
      "cell_type": "code",
      "metadata": {
        "colab": {
          "base_uri": "https://localhost:8080/",
          "height": 0
        },
        "id": "bBaul4e4cMY8",
        "outputId": "e0a6c8ef-3a46-451e-f013-0ef954064bb2"
      },
      "source": [
        "dc_uniform = DummyClassifier(strategy=\"uniform\")\n",
        "uniform = Baseline_approach(dc_uniform,X_train,X_test,y_train,y_test)"
      ],
      "execution_count": 100,
      "outputs": [
        {
          "output_type": "stream",
          "text": [
            "DummyClassifier(constant=None, random_state=None, strategy='uniform') 0.03547008547008547\n",
            "f1 micro score = 0.03290598290598291\n",
            "f1 macro score = 0.032393886255904836\n"
          ],
          "name": "stdout"
        },
        {
          "output_type": "display_data",
          "data": {
            "image/png": "[encoded data removed]",
            "text/plain": [
              "<Figure size 432x288 with 2 Axes>"
            ]
          },
          "metadata": {
            "tags": [],
            "needs_background": "light"
          }
        }
      ]
    },
    {
      "cell_type": "code",
      "metadata": {
        "colab": {
          "base_uri": "https://localhost:8080/",
          "height": 0
        },
        "id": "3JUjK-LudJMe",
        "outputId": "d26c9194-5a85-447a-c667-3bf9301b3d74"
      },
      "source": [
        "dc_stratified = DummyClassifier(strategy=\"stratified\")\n",
        "stratified = Baseline_approach(dc_stratified,X_train,X_test,y_train,y_test)"
      ],
      "execution_count": 101,
      "outputs": [
        {
          "output_type": "stream",
          "text": [
            "DummyClassifier(constant=None, random_state=None, strategy='stratified') 0.038461538461538464\n",
            "f1 micro score = 0.038461538461538464\n",
            "f1 macro score = 0.03857750233586437\n"
          ],
          "name": "stdout"
        },
        {
          "output_type": "display_data",
          "data": {
            "image/png": "[encoded data removed]",
            "text/plain": [
              "<Figure size 432x288 with 2 Axes>"
            ]
          },
          "metadata": {
            "tags": [],
            "needs_background": "light"
          }
        }
      ]
    },
    {
      "cell_type": "markdown",
      "metadata": {
        "id": "QxcBAESzcX3Y"
      },
      "source": [
        "#### Gaussian Naive Bayes Classifier\n"
      ]
    },
    {
      "cell_type": "code",
      "metadata": {
        "colab": {
          "base_uri": "https://localhost:8080/",
          "height": 0
        },
        "id": "bZuXZgHycibL",
        "outputId": "19464495-6e6a-4c89-9f06-5a8c7c60f9d6"
      },
      "source": [
        "classifier = GaussianNB()\n",
        "GNB = Baseline_approach(classifier,X_train,X_test,y_train,y_test)"
      ],
      "execution_count": 102,
      "outputs": [
        {
          "output_type": "stream",
          "text": [
            "GaussianNB(priors=None, var_smoothing=1e-09) 0.7923076923076923\n",
            "f1 micro score = 0.7923076923076923\n",
            "f1 macro score = 0.7756392656134692\n"
          ],
          "name": "stdout"
        },
        {
          "output_type": "display_data",
          "data": {
            "image/png": "[encoded data removed]",
            "text/plain": [
              "<Figure size 432x288 with 2 Axes>"
            ]
          },
          "metadata": {
            "tags": [],
            "needs_background": "light"
          }
        }
      ]
    },
    {
      "cell_type": "markdown",
      "metadata": {
        "id": "dGtGR8B1ciwP"
      },
      "source": [
        "#### kΝΝ Classifier\n",
        "Default τιμές: K = 5"
      ]
    },
    {
      "cell_type": "code",
      "metadata": {
        "colab": {
          "base_uri": "https://localhost:8080/",
          "height": 0
        },
        "id": "EEmZvjq8ckfa",
        "outputId": "5028ad7e-f947-419d-ee5a-59ab0b9c155e"
      },
      "source": [
        "classifier = KNeighborsClassifier(n_jobs = -1)\n",
        "Knn = Baseline_approach(classifier,X_train,X_test,y_train,y_test)"
      ],
      "execution_count": 103,
      "outputs": [
        {
          "output_type": "stream",
          "text": [
            "KNeighborsClassifier(algorithm='auto', leaf_size=30, metric='minkowski',\n",
            "                     metric_params=None, n_jobs=-1, n_neighbors=5, p=2,\n",
            "                     weights='uniform') 0.8901709401709401\n",
            "f1 micro score = 0.8901709401709401\n",
            "f1 macro score = 0.8889626260213872\n"
          ],
          "name": "stdout"
        },
        {
          "output_type": "display_data",
          "data": {
            "image/png": "[encoded data removed]",
            "text/plain": [
              "<Figure size 432x288 with 2 Axes>"
            ]
          },
          "metadata": {
            "tags": [],
            "needs_background": "light"
          }
        }
      ]
    },
    {
      "cell_type": "markdown",
      "metadata": {
        "id": "ijfCARQWcltQ"
      },
      "source": [
        "#### Multi-Layer Perceptron (MLP)\n",
        "\n",
        "Default τιμές: activation = relu , size = 100, alpha = .0001, learning rate = 'constant', solver = 'adam'"
      ]
    },
    {
      "cell_type": "code",
      "metadata": {
        "colab": {
          "base_uri": "https://localhost:8080/",
          "height": 0
        },
        "id": "Lp0RbXavcmzS",
        "outputId": "fdbd17cf-2a3f-4ece-eb39-804d540867a5"
      },
      "source": [
        "classifier = MLPClassifier()\n",
        "MLP = Baseline_approach(classifier,X_train,X_test,y_train,y_test)"
      ],
      "execution_count": 104,
      "outputs": [
        {
          "output_type": "stream",
          "text": [
            "MLPClassifier(activation='relu', alpha=0.0001, batch_size='auto', beta_1=0.9,\n",
            "              beta_2=0.999, early_stopping=False, epsilon=1e-08,\n",
            "              hidden_layer_sizes=(100,), learning_rate='constant',\n",
            "              learning_rate_init=0.001, max_fun=15000, max_iter=200,\n",
            "              momentum=0.9, n_iter_no_change=10, nesterovs_momentum=True,\n",
            "              power_t=0.5, random_state=None, shuffle=True, solver='adam',\n",
            "              tol=0.0001, validation_fraction=0.1, verbose=False,\n",
            "              warm_start=False) 0.9623931623931624\n",
            "f1 micro score = 0.9623931623931624\n",
            "f1 macro score = 0.9624984829654794\n"
          ],
          "name": "stdout"
        },
        {
          "output_type": "display_data",
          "data": {
            "image/png": "[encoded data removed]",
            "text/plain": [
              "<Figure size 432x288 with 2 Axes>"
            ]
          },
          "metadata": {
            "tags": [],
            "needs_background": "light"
          }
        }
      ]
    },
    {
      "cell_type": "markdown",
      "metadata": {
        "id": "lpzOIo8icm_Y"
      },
      "source": [
        "#### Support Vector Machines (SVM)\n",
        "\n",
        "Default τιμές nonLinear: kernel = 'rbf', C = 1, gamma = scale, degree = 3, tol = 0.001.\n",
        "\n",
        "Default τιμές Linear: loss =  'squared_hinge', tol = 0.0001, C = 1."
      ]
    },
    {
      "cell_type": "code",
      "metadata": {
        "colab": {
          "base_uri": "https://localhost:8080/",
          "height": 0
        },
        "id": "RuqU9KPZcorc",
        "outputId": "a9748653-77e4-4a69-e417-2422afec472f"
      },
      "source": [
        "classifier = SVC()\n",
        "SVM = Baseline_approach(classifier,X_train,X_test,y_train,y_test)"
      ],
      "execution_count": 105,
      "outputs": [
        {
          "output_type": "stream",
          "text": [
            "SVC(C=1.0, break_ties=False, cache_size=200, class_weight=None, coef0=0.0,\n",
            "    decision_function_shape='ovr', degree=3, gamma='scale', kernel='rbf',\n",
            "    max_iter=-1, probability=False, random_state=None, shrinking=True,\n",
            "    tol=0.001, verbose=False) 0.9636752136752137\n",
            "f1 micro score = 0.9636752136752137\n",
            "f1 macro score = 0.9637477912550522\n"
          ],
          "name": "stdout"
        },
        {
          "output_type": "display_data",
          "data": {
            "image/png": "[encoded data removed]",
            "text/plain": [
              "<Figure size 432x288 with 2 Axes>"
            ]
          },
          "metadata": {
            "tags": [],
            "needs_background": "light"
          }
        }
      ]
    },
    {
      "cell_type": "code",
      "metadata": {
        "colab": {
          "base_uri": "https://localhost:8080/",
          "height": 0
        },
        "id": "xI0Fe75k6F3U",
        "outputId": "518091fc-7ceb-4333-df65-bbcdb65f944b"
      },
      "source": [
        "classifier = LinearSVC(dual = False)\n",
        "linearSVM = Baseline_approach(classifier,X_train,X_test,y_train,y_test)"
      ],
      "execution_count": 106,
      "outputs": [
        {
          "output_type": "stream",
          "text": [
            "LinearSVC(C=1.0, class_weight=None, dual=False, fit_intercept=True,\n",
            "          intercept_scaling=1, loss='squared_hinge', max_iter=1000,\n",
            "          multi_class='ovr', penalty='l2', random_state=None, tol=0.0001,\n",
            "          verbose=0) 0.9538461538461539\n",
            "f1 micro score = 0.9538461538461539\n",
            "f1 macro score = 0.953401545937928\n"
          ],
          "name": "stdout"
        },
        {
          "output_type": "display_data",
          "data": {
            "image/png": "[encoded data removed]",
            "text/plain": [
              "<Figure size 432x288 with 2 Axes>"
            ]
          },
          "metadata": {
            "tags": [],
            "needs_background": "light"
          }
        }
      ]
    },
    {
      "cell_type": "markdown",
      "metadata": {
        "id": "DV2bHALb-Jog"
      },
      "source": [
        "### 2. Averaged metric bar plots"
      ]
    },
    {
      "cell_type": "code",
      "metadata": {
        "colab": {
          "base_uri": "https://localhost:8080/",
          "height": 0
        },
        "id": "Oeo_2qM0BR-B",
        "outputId": "0db9734d-cffa-4515-e32d-65b4906761bb"
      },
      "source": [
        "classifierlist = [uniform,stratified,GNB,Knn,MLP,SVM,linearSVM]\n",
        "averaged_plots(classifierlist,X_test,y_test,\"Baseline\")"
      ],
      "execution_count": 107,
      "outputs": [
        {
          "output_type": "display_data",
          "data": {
            "image/png": "[encoded data removed]",
            "text/plain": [
              "<Figure size 432x288 with 1 Axes>"
            ]
          },
          "metadata": {
            "tags": [],
            "needs_background": "light"
          }
        },
        {
          "output_type": "display_data",
          "data": {
            "image/png": "[encoded data removed]",
            "text/plain": [
              "<Figure size 432x288 with 1 Axes>"
            ]
          },
          "metadata": {
            "tags": [],
            "needs_background": "light"
          }
        },
        {
          "output_type": "display_data",
          "data": {
            "image/png": "[encoded data removed]",
            "text/plain": [
              "<Figure size 432x288 with 1 Axes>"
            ]
          },
          "metadata": {
            "tags": [],
            "needs_background": "light"
          }
        },
        {
          "output_type": "display_data",
          "data": {
            "image/png": "[encoded data removed]",
            "text/plain": [
              "<Figure size 432x288 with 1 Axes>"
            ]
          },
          "metadata": {
            "tags": [],
            "needs_background": "light"
          }
        },
        {
          "output_type": "display_data",
          "data": {
            "image/png": "[encoded data removed]",
            "text/plain": [
              "<Figure size 432x288 with 1 Axes>"
            ]
          },
          "metadata": {
            "tags": [],
            "needs_background": "light"
          }
        },
        {
          "output_type": "display_data",
          "data": {
            "image/png": "[encoded data removed]",
            "text/plain": [
              "<Figure size 432x288 with 1 Axes>"
            ]
          },
          "metadata": {
            "tags": [],
            "needs_background": "light"
          }
        }
      ]
    },
    {
      "cell_type": "markdown",
      "metadata": {
        "id": "CAzyL2RZ67xZ"
      },
      "source": [
        "### 3. Precision, Recall, F1 Scores"
      ]
    },
    {
      "cell_type": "markdown",
      "metadata": {
        "id": "JAc6owPs7qXH"
      },
      "source": [
        "Ακόμα και χωρίς fine tuning το task μας φαίνεται πως είναι αρκετά απλό. Παρατηρούμε πώς στους περισσότερους ταξινομητές τόσο σε micro όσο και se macro level έχουμε τα περίπου τα ίδια precision και recall. Αυτό είναι αναμενόμενο διότι είναι εξίσου πιθανό να κάνεις λάθος δύο γράμματα μεταξύ τους, δηλαδή π.χ. το να θεωρήσεις το m ως n και το n ως m είναι περίπου ισοπίθανο (αυτό φαίνεται και από την συμμετρία των confusion matrix). Οι επιδόσεις των αξιόλογων ταξινομητών ξεκινούν από το 79% και φτάνουν έως και 96% "
      ]
    },
    {
      "cell_type": "markdown",
      "metadata": {
        "id": "_fU_UGQBbXzN"
      },
      "source": [
        "## Βελτιστοποίηση ταξινομητών (micro)\n",
        "\n",
        "Σε αυτό το απόσπασμα αξιολογούμε τις βέλτιστες παραμέτρους και την επιρροή τους στις επιδόσεις των ταξινομητών.\n"
      ]
    },
    {
      "cell_type": "markdown",
      "metadata": {
        "id": "A2QRJxVg4_qM"
      },
      "source": [
        "### Help Code"
      ]
    },
    {
      "cell_type": "code",
      "metadata": {
        "id": "a8zhR6Px1W3c"
      },
      "source": [
        "def grid_search(clf,parameters,X_train,X_test,y_train,y_test,verbose = 10,scoring = \"fi_micro\"):\n",
        "    clf = GridSearchCV(clf,parameters, n_jobs = -1, cv = 10, verbose = verbose ,scoring = \"f1_micro\")\n",
        "    clf.fit(X_train,y_train)\n",
        "    print(clf.best_estimator_)\n",
        "    Best_clf = clf.best_estimator_.fit(X_train,y_train)\n",
        "    print(Best_clf.score(X_test,y_test))\n",
        "    return Best_clf\n",
        "\n",
        "def Best_approach(classifier,X_train,X_test,y_train,y_test):\n",
        "    classifier.fit(X_train,y_train)\n",
        "    y_pred = classifier.predict(X_test)\n",
        "    print(str(classifier),classifier.score(X_test,y_test))\n",
        "    print(\"f1 micro score =\",f1_score(y_test, y_pred, average='micro'))\n",
        "    print(\"f1 macro score =\",f1_score(y_test, y_pred, average='macro'))\n",
        "    # print(confusion_matrix(y_pred,y_test))\n",
        "    cf_matrix = confusion_matrix(y_pred,y_test)\n",
        "    sns.heatmap(cf_matrix, annot=False, cmap='nipy_spectral')\n",
        "    return classifier\n",
        "\n",
        "def best_plot(clfs,score1,score,function,approach):\n",
        "    plt.bar(clfs,score1)\n",
        "    plt.title(approach + \" \" + score + \" with \" + function + \" average\")\n",
        "    plt.savefig(approach + \"_\" + score + \"_with_\"+ function + \"_average.jpg\")\n",
        "    plt.show()\n",
        "\n",
        "def best_averaged_plots(classifierlist,X_test,y_test,approach):\n",
        "    clfs  = ['KNN', 'MLP', 'SVM', 'LinearSVM']\n",
        "    score_micro = []\n",
        "    score_macro = []\n",
        "    recall_micro = []\n",
        "    recall_macro = []\n",
        "    precision_micro = []\n",
        "    precision_macro = []\n",
        "    for classifier in classifierlist:        \n",
        "        y_pred = classifier.predict(X_test)\n",
        "        score_micro.append(f1_score(y_test, y_pred, average = 'micro'))\n",
        "        recall_micro.append(recall_score(y_test, y_pred, average = \"micro\"))\n",
        "        precision_micro.append(precision_score(y_test, y_pred, average = 'micro'))\n",
        "       \n",
        "\n",
        "    best_plot(clfs,score_micro,\"score\",\"micro\",approach)\n",
        "    best_plot(clfs,recall_micro,\"recall\",\"micro\",approach)\n",
        "    best_plot(clfs,precision_micro,\"precision\",\"micro\",approach)\n",
        "\n",
        "def difference_plot(clfs,score1,score,function,approach):\n",
        "    plt.bar([1-.25/2, 2-.25/2, 3-.25/2, 4-.25/2],score1[0],width = .25)\n",
        "    plt.bar([1+.25/2, 2+.25/2, 3+.25/2, 4+.25/2],score1[1],width = .25)\n",
        "    plt.xticks([1,2,3,4],clfs)\n",
        "    plt.title(approach + \" for \" + score + \" with \" + function + \" average\")\n",
        "    plt.savefig(approach + \"_for_\" + score + \"_with_\"+ function + \"_average.jpg\")\n",
        "    plt.show()\n",
        "\n",
        "def difference_averaged_plots(classifierlist,bestclassifierlist,X_test,y_test,approach):\n",
        "    clfs  = ['KNN', 'MLP', 'SVM', 'LinearSVM']\n",
        "    score_micro = [[],[]]\n",
        "    score_macro = [[],[]]\n",
        "    recall_micro = [[],[]]\n",
        "    recall_macro = [[],[]]\n",
        "    precision_micro = [[],[]]\n",
        "    precision_macro = [[],[]]\n",
        "    for i in range(4):\n",
        "        base_y_pred = classifierlist[i].predict(X_test)\n",
        "        best_y_pred = bestclassifierlist[i].predict(X_test)\n",
        "        score_micro[0].append(f1_score(y_test, base_y_pred, average = 'micro'))\n",
        "        recall_micro[0].append(recall_score(y_test, base_y_pred, average = \"micro\"))\n",
        "        precision_micro[0].append(precision_score(y_test, base_y_pred, average = 'micro'))\n",
        "        score_micro[1].append(f1_score(y_test, best_y_pred, average = 'micro'))\n",
        "        recall_micro[1].append(recall_score(y_test, best_y_pred, average = \"micro\"))\n",
        "        precision_micro[1].append(precision_score(y_test, best_y_pred, average = 'micro'))\n",
        "\n",
        "    difference_plot(clfs,score_micro,\"score\",\"micro\",approach)\n",
        "    difference_plot(clfs,recall_micro,\"recall\",\"micro\",approach)\n",
        "    difference_plot(clfs,precision_micro,\"precision\",\"micro\",approach)"
      ],
      "execution_count": 94,
      "outputs": []
    },
    {
      "cell_type": "markdown",
      "metadata": {
        "id": "beukhHRh_Ey3"
      },
      "source": [
        "### 1. Classifiers"
      ]
    },
    {
      "cell_type": "markdown",
      "metadata": {
        "id": "_SchXM7eLweV"
      },
      "source": [
        "#### kΝΝ Classifier\n"
      ]
    },
    {
      "cell_type": "markdown",
      "metadata": {
        "id": "qpwiaOdqlsKe"
      },
      "source": [
        "Hyperparameters: n_neighbors, metric, weights.\r\n",
        "\r\n",
        "Βέλτιστες παράμετροι πρόκευψαν :\r\n",
        "\r\n",
        "\r\n",
        "*   n_neighbors = 7\r\n",
        "*   metric = euclidean\r\n",
        "*   weights = distance\r\n",
        "\r\n",
        "\r\n",
        "Score = 0.9064102564102564"
      ]
    },
    {
      "cell_type": "code",
      "metadata": {
        "colab": {
          "base_uri": "https://localhost:8080/"
        },
        "id": "6TPpGcofbYSh",
        "outputId": "3376d63e-04e1-4c7c-f0e2-ce26e17e8590"
      },
      "source": [
        "parameters =  {'metric':('euclidean', 'manhattan', 'chebyshev'), 'weights':(\"uniform\",\"distance\"), \"n_neighbors\": [1, 3, 5, 7]}\n",
        "clf = KNeighborsClassifier(n_jobs = -1)\n",
        "\n",
        "grid_search(clf,parameters,X_train,X_test,y_train,y_test,10)"
      ],
      "execution_count": null,
      "outputs": [
        {
          "output_type": "stream",
          "text": [
            "Fitting 10 folds for each of 24 candidates, totalling 240 fits\n"
          ],
          "name": "stdout"
        },
        {
          "output_type": "stream",
          "text": [
            "[Parallel(n_jobs=-1)]: Using backend LokyBackend with 2 concurrent workers.\n",
            "[Parallel(n_jobs=-1)]: Done   1 tasks      | elapsed:   11.3s\n",
            "[Parallel(n_jobs=-1)]: Done   4 tasks      | elapsed:   17.2s\n",
            "[Parallel(n_jobs=-1)]: Done   9 tasks      | elapsed:   34.4s\n",
            "[Parallel(n_jobs=-1)]: Done  14 tasks      | elapsed:   46.5s\n",
            "[Parallel(n_jobs=-1)]: Done  21 tasks      | elapsed:  1.1min\n",
            "[Parallel(n_jobs=-1)]: Done  28 tasks      | elapsed:  1.5min\n",
            "[Parallel(n_jobs=-1)]: Done  37 tasks      | elapsed:  1.9min\n",
            "[Parallel(n_jobs=-1)]: Done  46 tasks      | elapsed:  2.4min\n",
            "[Parallel(n_jobs=-1)]: Done  57 tasks      | elapsed:  3.0min\n",
            "[Parallel(n_jobs=-1)]: Done  68 tasks      | elapsed:  3.5min\n",
            "[Parallel(n_jobs=-1)]: Done  81 tasks      | elapsed:  4.2min\n",
            "[Parallel(n_jobs=-1)]: Done  94 tasks      | elapsed:  4.8min\n",
            "[Parallel(n_jobs=-1)]: Done 109 tasks      | elapsed:  5.6min\n",
            "[Parallel(n_jobs=-1)]: Done 124 tasks      | elapsed:  6.3min\n",
            "[Parallel(n_jobs=-1)]: Done 141 tasks      | elapsed:  7.3min\n",
            "[Parallel(n_jobs=-1)]: Done 158 tasks      | elapsed:  8.1min\n",
            "[Parallel(n_jobs=-1)]: Done 177 tasks      | elapsed:  8.7min\n",
            "[Parallel(n_jobs=-1)]: Done 196 tasks      | elapsed:  9.2min\n",
            "[Parallel(n_jobs=-1)]: Done 217 tasks      | elapsed:  9.9min\n",
            "[Parallel(n_jobs=-1)]: Done 240 out of 240 | elapsed: 10.6min finished\n"
          ],
          "name": "stderr"
        },
        {
          "output_type": "stream",
          "text": [
            "KNeighborsClassifier(algorithm='auto', leaf_size=30, metric='euclidean',\n",
            "                     metric_params=None, n_jobs=-1, n_neighbors=7, p=2,\n",
            "                     weights='distance')\n",
            "0.9064102564102564\n"
          ],
          "name": "stdout"
        },
        {
          "output_type": "execute_result",
          "data": {
            "text/plain": [
              "KNeighborsClassifier(algorithm='auto', leaf_size=30, metric='euclidean',\n",
              "                     metric_params=None, n_jobs=-1, n_neighbors=7, p=2,\n",
              "                     weights='distance')"
            ]
          },
          "metadata": {
            "tags": []
          },
          "execution_count": 22
        }
      ]
    },
    {
      "cell_type": "code",
      "metadata": {
        "id": "YvEyav5WFqFk",
        "colab": {
          "base_uri": "https://localhost:8080/",
          "height": 352
        },
        "outputId": "c03e40d7-c930-4f9e-ef49-f6657a97848a"
      },
      "source": [
        "best_knn = KNeighborsClassifier(n_neighbors = 7 , metric = 'euclidean', weights = \"distance\", n_jobs = -1)\r\n",
        "_ = Baseline_approach(best_knn, X_train,X_test,y_train,y_test)"
      ],
      "execution_count": 20,
      "outputs": [
        {
          "output_type": "stream",
          "text": [
            "KNeighborsClassifier(algorithm='auto', leaf_size=30, metric='euclidean',\n",
            "                     metric_params=None, n_jobs=-1, n_neighbors=7, p=2,\n",
            "                     weights='distance') 0.9064102564102564\n",
            "f1 micro score = 0.9064102564102564\n",
            "f1 macro score = 0.9055599300249125\n"
          ],
          "name": "stdout"
        },
        {
          "output_type": "display_data",
          "data": {
            "image/png": "[encoded data removed]",
            "text/plain": [
              "<Figure size 432x288 with 2 Axes>"
            ]
          },
          "metadata": {
            "tags": [],
            "needs_background": "light"
          }
        }
      ]
    },
    {
      "cell_type": "markdown",
      "metadata": {
        "id": "0Dle5SSaPHvQ"
      },
      "source": [
        "#### Multi-Layer Perceptron (MLP)\n",
        "\n"
      ]
    },
    {
      "cell_type": "markdown",
      "metadata": {
        "id": "W7Fee5izlg3J"
      },
      "source": [
        "Hyperparameters: hidden_layer_sizes, activation, solver, max_iter, learning_rate, alpha.\r\n",
        "\r\n",
        "Βέλτιστοι παράμετροι προέκυψαν οι εξής:\r\n",
        "*   activation = relu \r\n",
        "*   alpha = 0.0001\r\n",
        "*   hidden_layer_sizes = 128\r\n",
        "*   learning_rate = constant\r\n",
        "*   max_iter = 200\r\n",
        "*   solver = adam\r\n",
        "\r\n",
        "Accuracy = 0.9666666666666667"
      ]
    },
    {
      "cell_type": "markdown",
      "metadata": {
        "id": "WA4Qactf84Fk"
      },
      "source": [
        "Για την βελτιστοποιηση του MLP αρχικώς δοκιμάσαμε ένα ευρύ gridsearch και στην συνέχεια αφού επιλέξαμε ορισμένες μεταβλητές ως αρχικοποίηση τρέξαμε από ένα gridsearch για κάθε επιμέρους παράμετρο. Αυτο το κάναμε διότι έτρεχε εξαντλητικά αργά η εκπαίδευση του νευρωνικού"
      ]
    },
    {
      "cell_type": "code",
      "metadata": {
        "colab": {
          "base_uri": "https://localhost:8080/"
        },
        "id": "dpgZWtYbPHb2",
        "outputId": "f54fafb3-aa0b-4094-f7ad-22bfc750b538"
      },
      "source": [
        "parameters =  {'hidden_layer_sizes':[8,16], \"activation\": ('logistic', 'tanh', 'relu'), \"solver\": (\"lbfgs\", \"sgd\", \"adam\"), \"max_iter\": [100, 200], \"learning_rate\": ('constant', 'invscaling'), \"alpha\": [.001,.0001]}\n",
        "clf = MLPClassifier()\n",
        "\n",
        "grid_search(clf,parameters,X_train,X_test,y_train,y_test,10)"
      ],
      "execution_count": null,
      "outputs": [
        {
          "output_type": "stream",
          "text": [
            "Fitting 10 folds for each of 144 candidates, totalling 1440 fits\n"
          ],
          "name": "stdout"
        },
        {
          "output_type": "stream",
          "text": [
            "[Parallel(n_jobs=-1)]: Using backend LokyBackend with 2 concurrent workers.\n",
            "[Parallel(n_jobs=-1)]: Done   1 tasks      | elapsed:    3.9s\n",
            "[Parallel(n_jobs=-1)]: Done   4 tasks      | elapsed:    8.2s\n",
            "[Parallel(n_jobs=-1)]: Done   9 tasks      | elapsed:   20.0s\n",
            "[Parallel(n_jobs=-1)]: Done  14 tasks      | elapsed:   31.9s\n",
            "[Parallel(n_jobs=-1)]: Done  21 tasks      | elapsed:   55.4s\n",
            "[Parallel(n_jobs=-1)]: Done  28 tasks      | elapsed:  1.2min\n",
            "[Parallel(n_jobs=-1)]: Done  37 tasks      | elapsed:  1.9min\n",
            "[Parallel(n_jobs=-1)]: Done  46 tasks      | elapsed:  2.6min\n",
            "[Parallel(n_jobs=-1)]: Done  57 tasks      | elapsed:  3.8min\n",
            "[Parallel(n_jobs=-1)]: Done  68 tasks      | elapsed:  4.3min\n",
            "[Parallel(n_jobs=-1)]: Done  81 tasks      | elapsed:  4.5min\n",
            "[Parallel(n_jobs=-1)]: Done  94 tasks      | elapsed:  5.2min\n",
            "[Parallel(n_jobs=-1)]: Done 109 tasks      | elapsed:  5.6min\n",
            "[Parallel(n_jobs=-1)]: Done 124 tasks      | elapsed:  6.8min\n",
            "[Parallel(n_jobs=-1)]: Done 141 tasks      | elapsed:  7.7min\n",
            "[Parallel(n_jobs=-1)]: Done 158 tasks      | elapsed:  8.9min\n",
            "[Parallel(n_jobs=-1)]: Done 177 tasks      | elapsed: 11.1min\n",
            "[Parallel(n_jobs=-1)]: Done 196 tasks      | elapsed: 11.8min\n",
            "[Parallel(n_jobs=-1)]: Done 217 tasks      | elapsed: 13.0min\n",
            "[Parallel(n_jobs=-1)]: Done 238 tasks      | elapsed: 14.3min\n",
            "[Parallel(n_jobs=-1)]: Done 261 tasks      | elapsed: 15.4min\n",
            "[Parallel(n_jobs=-1)]: Done 284 tasks      | elapsed: 16.9min\n",
            "[Parallel(n_jobs=-1)]: Done 309 tasks      | elapsed: 18.8min\n",
            "[Parallel(n_jobs=-1)]: Done 334 tasks      | elapsed: 19.7min\n",
            "[Parallel(n_jobs=-1)]: Done 361 tasks      | elapsed: 21.3min\n",
            "[Parallel(n_jobs=-1)]: Done 388 tasks      | elapsed: 22.6min\n",
            "[Parallel(n_jobs=-1)]: Done 417 tasks      | elapsed: 25.7min\n",
            "[Parallel(n_jobs=-1)]: Done 446 tasks      | elapsed: 26.8min\n",
            "[Parallel(n_jobs=-1)]: Done 477 tasks      | elapsed: 28.9min\n",
            "[Parallel(n_jobs=-1)]: Done 508 tasks      | elapsed: 30.3min\n",
            "[Parallel(n_jobs=-1)]: Done 541 tasks      | elapsed: 33.2min\n",
            "[Parallel(n_jobs=-1)]: Done 574 tasks      | elapsed: 34.7min\n",
            "[Parallel(n_jobs=-1)]: Done 609 tasks      | elapsed: 37.5min\n",
            "[Parallel(n_jobs=-1)]: Done 644 tasks      | elapsed: 40.0min\n",
            "[Parallel(n_jobs=-1)]: Done 681 tasks      | elapsed: 43.0min\n",
            "[Parallel(n_jobs=-1)]: Done 718 tasks      | elapsed: 46.5min\n",
            "[Parallel(n_jobs=-1)]: Done 757 tasks      | elapsed: 48.6min\n",
            "[Parallel(n_jobs=-1)]: Done 796 tasks      | elapsed: 51.4min\n",
            "[Parallel(n_jobs=-1)]: Done 837 tasks      | elapsed: 54.5min\n",
            "[Parallel(n_jobs=-1)]: Done 878 tasks      | elapsed: 57.0min\n",
            "[Parallel(n_jobs=-1)]: Done 921 tasks      | elapsed: 60.5min\n",
            "[Parallel(n_jobs=-1)]: Done 964 tasks      | elapsed: 64.5min\n",
            "[Parallel(n_jobs=-1)]: Done 1009 tasks      | elapsed: 67.3min\n",
            "[Parallel(n_jobs=-1)]: Done 1054 tasks      | elapsed: 69.8min\n",
            "[Parallel(n_jobs=-1)]: Done 1101 tasks      | elapsed: 72.6min\n",
            "[Parallel(n_jobs=-1)]: Done 1148 tasks      | elapsed: 76.4min\n",
            "[Parallel(n_jobs=-1)]: Done 1197 tasks      | elapsed: 79.9min\n",
            "[Parallel(n_jobs=-1)]: Done 1246 tasks      | elapsed: 82.8min\n",
            "[Parallel(n_jobs=-1)]: Done 1297 tasks      | elapsed: 85.8min\n",
            "[Parallel(n_jobs=-1)]: Done 1348 tasks      | elapsed: 88.8min\n",
            "[Parallel(n_jobs=-1)]: Done 1401 tasks      | elapsed: 92.9min\n",
            "[Parallel(n_jobs=-1)]: Done 1440 out of 1440 | elapsed: 96.2min finished\n",
            "/usr/local/lib/python3.6/dist-packages/sklearn/neural_network/_multilayer_perceptron.py:571: ConvergenceWarning: Stochastic Optimizer: Maximum iterations (200) reached and the optimization hasn't converged yet.\n",
            "  is_stopping = self._optimizer.trigger_stopping(\n"
          ],
          "name": "stderr"
        },
        {
          "output_type": "stream",
          "text": [
            "MLPClassifier(activation='relu', alpha=0.0001, batch_size='auto', beta_1=0.9,\n",
            "              beta_2=0.999, early_stopping=False, epsilon=1e-08,\n",
            "              hidden_layer_sizes=16, learning_rate='invscaling',\n",
            "              learning_rate_init=0.001, max_fun=15000, max_iter=200,\n",
            "              momentum=0.9, n_iter_no_change=10, nesterovs_momentum=True,\n",
            "              power_t=0.5, random_state=None, shuffle=True, solver='adam',\n",
            "              tol=0.0001, validation_fraction=0.1, verbose=False,\n",
            "              warm_start=False)\n",
            "0.955982905982906\n"
          ],
          "name": "stdout"
        },
        {
          "output_type": "stream",
          "text": [
            "/usr/local/lib/python3.6/dist-packages/sklearn/neural_network/_multilayer_perceptron.py:571: ConvergenceWarning: Stochastic Optimizer: Maximum iterations (200) reached and the optimization hasn't converged yet.\n",
            "  is_stopping = self._optimizer.trigger_stopping(\n"
          ],
          "name": "stderr"
        },
        {
          "output_type": "execute_result",
          "data": {
            "text/plain": [
              "MLPClassifier(activation='relu', alpha=0.0001, batch_size='auto', beta_1=0.9,\n",
              "              beta_2=0.999, early_stopping=False, epsilon=1e-08,\n",
              "              hidden_layer_sizes=16, learning_rate='invscaling',\n",
              "              learning_rate_init=0.001, max_fun=15000, max_iter=200,\n",
              "              momentum=0.9, n_iter_no_change=10, nesterovs_momentum=True,\n",
              "              power_t=0.5, random_state=None, shuffle=True, solver='adam',\n",
              "              tol=0.0001, validation_fraction=0.1, verbose=False,\n",
              "              warm_start=False)"
            ]
          },
          "metadata": {
            "tags": []
          },
          "execution_count": 30
        }
      ]
    },
    {
      "cell_type": "code",
      "metadata": {
        "colab": {
          "base_uri": "https://localhost:8080/"
        },
        "id": "jTZ1bkJ7uD0q",
        "outputId": "ec71c974-60a5-491f-bcfc-1f0b8f30d8c9"
      },
      "source": [
        "parameters =  {'hidden_layer_sizes':[8,16,32,64,128,256,512]}\n",
        "clf = MLPClassifier(activation='relu',solver='adam',max_iter=200,learning_rate='invscaling',alpha=.0001)\n",
        "\n",
        "grid_search(clf,parameters,X_train,X_test,y_train,y_test,10)"
      ],
      "execution_count": null,
      "outputs": [
        {
          "output_type": "stream",
          "text": [
            "Fitting 10 folds for each of 7 candidates, totalling 70 fits\n"
          ],
          "name": "stdout"
        },
        {
          "output_type": "stream",
          "text": [
            "[Parallel(n_jobs=-1)]: Using backend LokyBackend with 2 concurrent workers.\n",
            "[Parallel(n_jobs=-1)]: Done   1 tasks      | elapsed:   11.9s\n",
            "[Parallel(n_jobs=-1)]: Done   4 tasks      | elapsed:   23.9s\n",
            "[Parallel(n_jobs=-1)]: Done   9 tasks      | elapsed:   59.4s\n",
            "[Parallel(n_jobs=-1)]: Done  14 tasks      | elapsed:  1.5min\n",
            "[Parallel(n_jobs=-1)]: Done  21 tasks      | elapsed:  2.4min\n",
            "[Parallel(n_jobs=-1)]: Done  28 tasks      | elapsed:  3.1min\n",
            "[Parallel(n_jobs=-1)]: Done  37 tasks      | elapsed:  4.5min\n",
            "[Parallel(n_jobs=-1)]: Done  46 tasks      | elapsed:  6.0min\n",
            "[Parallel(n_jobs=-1)]: Done  57 tasks      | elapsed:  9.0min\n",
            "[Parallel(n_jobs=-1)]: Done  70 out of  70 | elapsed: 14.2min finished\n"
          ],
          "name": "stderr"
        },
        {
          "output_type": "stream",
          "text": [
            "MLPClassifier(activation='relu', alpha=0.0001, batch_size='auto', beta_1=0.9,\n",
            "              beta_2=0.999, early_stopping=False, epsilon=1e-08,\n",
            "              hidden_layer_sizes=128, learning_rate='invscaling',\n",
            "              learning_rate_init=0.001, max_fun=15000, max_iter=200,\n",
            "              momentum=0.9, n_iter_no_change=10, nesterovs_momentum=True,\n",
            "              power_t=0.5, random_state=None, shuffle=True, solver='adam',\n",
            "              tol=0.0001, validation_fraction=0.1, verbose=False,\n",
            "              warm_start=False)\n",
            "0.9636752136752137\n"
          ],
          "name": "stdout"
        },
        {
          "output_type": "execute_result",
          "data": {
            "text/plain": [
              "MLPClassifier(activation='relu', alpha=0.0001, batch_size='auto', beta_1=0.9,\n",
              "              beta_2=0.999, early_stopping=False, epsilon=1e-08,\n",
              "              hidden_layer_sizes=128, learning_rate='invscaling',\n",
              "              learning_rate_init=0.001, max_fun=15000, max_iter=200,\n",
              "              momentum=0.9, n_iter_no_change=10, nesterovs_momentum=True,\n",
              "              power_t=0.5, random_state=None, shuffle=True, solver='adam',\n",
              "              tol=0.0001, validation_fraction=0.1, verbose=False,\n",
              "              warm_start=False)"
            ]
          },
          "metadata": {
            "tags": []
          },
          "execution_count": 20
        }
      ]
    },
    {
      "cell_type": "code",
      "metadata": {
        "colab": {
          "base_uri": "https://localhost:8080/"
        },
        "id": "3SIozpjpuWRN",
        "outputId": "befb0087-c340-4906-eb48-a753e935c70e"
      },
      "source": [
        "parameters =  {'learning_rate':('constant','invscaling')}\n",
        "clf = MLPClassifier(hidden_layer_sizes = 128, activation='relu',solver='adam',max_iter=200,alpha=.0001)\n",
        "\n",
        "grid_search(clf,parameters,X_train,X_test,y_train,y_test,10)"
      ],
      "execution_count": null,
      "outputs": [
        {
          "output_type": "stream",
          "text": [
            "Fitting 10 folds for each of 2 candidates, totalling 20 fits\n"
          ],
          "name": "stdout"
        },
        {
          "output_type": "stream",
          "text": [
            "[Parallel(n_jobs=-1)]: Using backend LokyBackend with 2 concurrent workers.\n",
            "[Parallel(n_jobs=-1)]: Done   1 tasks      | elapsed:   21.5s\n",
            "[Parallel(n_jobs=-1)]: Done   4 tasks      | elapsed:   46.2s\n",
            "[Parallel(n_jobs=-1)]: Done   9 tasks      | elapsed:  1.8min\n",
            "[Parallel(n_jobs=-1)]: Done  14 tasks      | elapsed:  2.7min\n",
            "[Parallel(n_jobs=-1)]: Done  20 out of  20 | elapsed:  3.8min remaining:    0.0s\n",
            "[Parallel(n_jobs=-1)]: Done  20 out of  20 | elapsed:  3.8min finished\n"
          ],
          "name": "stderr"
        },
        {
          "output_type": "stream",
          "text": [
            "MLPClassifier(activation='relu', alpha=0.0001, batch_size='auto', beta_1=0.9,\n",
            "              beta_2=0.999, early_stopping=False, epsilon=1e-08,\n",
            "              hidden_layer_sizes=128, learning_rate='constant',\n",
            "              learning_rate_init=0.001, max_fun=15000, max_iter=200,\n",
            "              momentum=0.9, n_iter_no_change=10, nesterovs_momentum=True,\n",
            "              power_t=0.5, random_state=None, shuffle=True, solver='adam',\n",
            "              tol=0.0001, validation_fraction=0.1, verbose=False,\n",
            "              warm_start=False)\n",
            "0.964957264957265\n"
          ],
          "name": "stdout"
        },
        {
          "output_type": "execute_result",
          "data": {
            "text/plain": [
              "MLPClassifier(activation='relu', alpha=0.0001, batch_size='auto', beta_1=0.9,\n",
              "              beta_2=0.999, early_stopping=False, epsilon=1e-08,\n",
              "              hidden_layer_sizes=128, learning_rate='constant',\n",
              "              learning_rate_init=0.001, max_fun=15000, max_iter=200,\n",
              "              momentum=0.9, n_iter_no_change=10, nesterovs_momentum=True,\n",
              "              power_t=0.5, random_state=None, shuffle=True, solver='adam',\n",
              "              tol=0.0001, validation_fraction=0.1, verbose=False,\n",
              "              warm_start=False)"
            ]
          },
          "metadata": {
            "tags": []
          },
          "execution_count": 21
        }
      ]
    },
    {
      "cell_type": "code",
      "metadata": {
        "colab": {
          "base_uri": "https://localhost:8080/"
        },
        "id": "VFT4ZNtq3JDH",
        "outputId": "d280e386-318b-4558-9118-a9e113646b2b"
      },
      "source": [
        "parameters =  {'max_iter':[100,200,400]}\n",
        "clf = MLPClassifier(hidden_layer_sizes = 128, activation='relu',learning_rate='constant',solver='adam',alpha=.0001)\n",
        "\n",
        "grid_search(clf,parameters,X_train,X_test,y_train,y_test,10)"
      ],
      "execution_count": null,
      "outputs": [
        {
          "output_type": "stream",
          "text": [
            "Fitting 10 folds for each of 3 candidates, totalling 30 fits\n"
          ],
          "name": "stdout"
        },
        {
          "output_type": "stream",
          "text": [
            "[Parallel(n_jobs=-1)]: Using backend LokyBackend with 2 concurrent workers.\n",
            "[Parallel(n_jobs=-1)]: Done   1 tasks      | elapsed:   21.9s\n",
            "[Parallel(n_jobs=-1)]: Done   4 tasks      | elapsed:   45.9s\n",
            "[Parallel(n_jobs=-1)]: Done   9 tasks      | elapsed:  1.9min\n",
            "[Parallel(n_jobs=-1)]: Done  14 tasks      | elapsed:  2.7min\n",
            "[Parallel(n_jobs=-1)]: Done  21 tasks      | elapsed:  4.2min\n",
            "[Parallel(n_jobs=-1)]: Done  30 out of  30 | elapsed:  5.8min finished\n"
          ],
          "name": "stderr"
        },
        {
          "output_type": "stream",
          "text": [
            "MLPClassifier(activation='relu', alpha=0.0001, batch_size='auto', beta_1=0.9,\n",
            "              beta_2=0.999, early_stopping=False, epsilon=1e-08,\n",
            "              hidden_layer_sizes=128, learning_rate='constant',\n",
            "              learning_rate_init=0.001, max_fun=15000, max_iter=200,\n",
            "              momentum=0.9, n_iter_no_change=10, nesterovs_momentum=True,\n",
            "              power_t=0.5, random_state=None, shuffle=True, solver='adam',\n",
            "              tol=0.0001, validation_fraction=0.1, verbose=False,\n",
            "              warm_start=False)\n",
            "0.9666666666666667\n"
          ],
          "name": "stdout"
        },
        {
          "output_type": "execute_result",
          "data": {
            "text/plain": [
              "MLPClassifier(activation='relu', alpha=0.0001, batch_size='auto', beta_1=0.9,\n",
              "              beta_2=0.999, early_stopping=False, epsilon=1e-08,\n",
              "              hidden_layer_sizes=128, learning_rate='constant',\n",
              "              learning_rate_init=0.001, max_fun=15000, max_iter=200,\n",
              "              momentum=0.9, n_iter_no_change=10, nesterovs_momentum=True,\n",
              "              power_t=0.5, random_state=None, shuffle=True, solver='adam',\n",
              "              tol=0.0001, validation_fraction=0.1, verbose=False,\n",
              "              warm_start=False)"
            ]
          },
          "metadata": {
            "tags": []
          },
          "execution_count": 23
        }
      ]
    },
    {
      "cell_type": "code",
      "metadata": {
        "colab": {
          "base_uri": "https://localhost:8080/"
        },
        "id": "h-mq7d46T51n",
        "outputId": "6dd30cf6-491c-45ec-b408-398225799ffe"
      },
      "source": [
        "parameters =  {\"alpha\": [0,.001,.0001] }\n",
        "clf = MLPClassifier(hidden_layer_sizes = 128, activation='relu',learning_rate='constant',solver='adam',max_iter = 200)\n",
        "grid_search(clf,parameters,X_train,X_test,y_train,y_test,10)"
      ],
      "execution_count": null,
      "outputs": [
        {
          "output_type": "stream",
          "text": [
            "Fitting 10 folds for each of 3 candidates, totalling 30 fits\n"
          ],
          "name": "stdout"
        },
        {
          "output_type": "stream",
          "text": [
            "[Parallel(n_jobs=-1)]: Using backend LokyBackend with 2 concurrent workers.\n",
            "[Parallel(n_jobs=-1)]: Done   1 tasks      | elapsed:   23.2s\n",
            "[Parallel(n_jobs=-1)]: Done   4 tasks      | elapsed:   46.6s\n",
            "[Parallel(n_jobs=-1)]: Done   9 tasks      | elapsed:  1.9min\n",
            "[Parallel(n_jobs=-1)]: Done  14 tasks      | elapsed:  2.7min\n",
            "[Parallel(n_jobs=-1)]: Done  21 tasks      | elapsed:  4.2min\n",
            "[Parallel(n_jobs=-1)]: Done  30 out of  30 | elapsed:  5.8min finished\n"
          ],
          "name": "stderr"
        },
        {
          "output_type": "stream",
          "text": [
            "MLPClassifier(activation='relu', alpha=0, batch_size='auto', beta_1=0.9,\n",
            "              beta_2=0.999, early_stopping=False, epsilon=1e-08,\n",
            "              hidden_layer_sizes=128, learning_rate='constant',\n",
            "              learning_rate_init=0.001, max_fun=15000, max_iter=200,\n",
            "              momentum=0.9, n_iter_no_change=10, nesterovs_momentum=True,\n",
            "              power_t=0.5, random_state=None, shuffle=True, solver='adam',\n",
            "              tol=0.0001, validation_fraction=0.1, verbose=False,\n",
            "              warm_start=False)\n",
            "0.9653846153846154\n"
          ],
          "name": "stdout"
        },
        {
          "output_type": "execute_result",
          "data": {
            "text/plain": [
              "MLPClassifier(activation='relu', alpha=0, batch_size='auto', beta_1=0.9,\n",
              "              beta_2=0.999, early_stopping=False, epsilon=1e-08,\n",
              "              hidden_layer_sizes=128, learning_rate='constant',\n",
              "              learning_rate_init=0.001, max_fun=15000, max_iter=200,\n",
              "              momentum=0.9, n_iter_no_change=10, nesterovs_momentum=True,\n",
              "              power_t=0.5, random_state=None, shuffle=True, solver='adam',\n",
              "              tol=0.0001, validation_fraction=0.1, verbose=False,\n",
              "              warm_start=False)"
            ]
          },
          "metadata": {
            "tags": []
          },
          "execution_count": 25
        }
      ]
    },
    {
      "cell_type": "code",
      "metadata": {
        "colab": {
          "base_uri": "https://localhost:8080/",
          "height": 437
        },
        "id": "7ZW8achsbdFq",
        "outputId": "dd3d3171-5bb6-4949-c387-e7dfc2998fb1"
      },
      "source": [
        "best_MLP = MLPClassifier(activation = 'relu' , alpha = 0.0001, hidden_layer_sizes = 128, max_iter = 200, learning_rate = \"constant\", solver = 'adam')\r\n",
        "_ = Baseline_approach(best_MLP, X_train,X_test,y_train,y_test)"
      ],
      "execution_count": 89,
      "outputs": [
        {
          "output_type": "stream",
          "text": [
            "MLPClassifier(activation='relu', alpha=0.0001, batch_size='auto', beta_1=0.9,\n",
            "              beta_2=0.999, early_stopping=False, epsilon=1e-08,\n",
            "              hidden_layer_sizes=128, learning_rate='constant',\n",
            "              learning_rate_init=0.001, max_fun=15000, max_iter=200,\n",
            "              momentum=0.9, n_iter_no_change=10, nesterovs_momentum=True,\n",
            "              power_t=0.5, random_state=None, shuffle=True, solver='adam',\n",
            "              tol=0.0001, validation_fraction=0.1, verbose=False,\n",
            "              warm_start=False) 0.9645299145299145\n",
            "f1 micro score = 0.9645299145299144\n",
            "f1 macro score = 0.9644430904900785\n"
          ],
          "name": "stdout"
        },
        {
          "output_type": "display_data",
          "data": {
            "image/png": "[encoded data removed]",
            "text/plain": [
              "<Figure size 432x288 with 2 Axes>"
            ]
          },
          "metadata": {
            "tags": [],
            "needs_background": "light"
          }
        }
      ]
    },
    {
      "cell_type": "markdown",
      "metadata": {
        "id": "TZTjcLlw3WQC"
      },
      "source": [
        "#### Support Vector Machines (SVM)\n",
        "\n"
      ]
    },
    {
      "cell_type": "markdown",
      "metadata": {
        "id": "f8qGN3Hb_uE1"
      },
      "source": [
        "##### Linear Kernel:\n",
        "\n",
        "Hyperparameters: loss, tol, C.\n",
        "\n",
        "Βέλτιστοι παράμετροι προέκυψαν οι εξής:\n",
        "\n",
        "*   loss = squared_hinge\n",
        "*   tol = 0.0001\n",
        "*   C = 0.1\n",
        "\n",
        "Accuracy = 0.958974358974359\n"
      ]
    },
    {
      "cell_type": "code",
      "metadata": {
        "colab": {
          "base_uri": "https://localhost:8080/"
        },
        "id": "35NFeBGY-ite",
        "outputId": "a6c73693-9c56-4e30-a827-c8cc1fa94138"
      },
      "source": [
        "clf = LinearSVC(dual = False)\n",
        "parameters = {'loss': ('hinge', 'squared_hinge'), 'tol': [0,.001,.0001], 'C': [.1,1,10]}\n",
        "grid_search(clf,parameters,X_train,X_test,y_train,y_test,10)\n"
      ],
      "execution_count": null,
      "outputs": [
        {
          "output_type": "stream",
          "text": [
            "Fitting 10 folds for each of 18 candidates, totalling 180 fits\n"
          ],
          "name": "stdout"
        },
        {
          "output_type": "stream",
          "text": [
            "[Parallel(n_jobs=-1)]: Using backend LokyBackend with 2 concurrent workers.\n",
            "[Parallel(n_jobs=-1)]: Done   1 tasks      | elapsed:    1.1s\n",
            "[Parallel(n_jobs=-1)]: Done   4 tasks      | elapsed:    1.2s\n",
            "[Parallel(n_jobs=-1)]: Done   9 tasks      | elapsed:    1.3s\n",
            "[Parallel(n_jobs=-1)]: Done  14 tasks      | elapsed:    1.4s\n",
            "[Parallel(n_jobs=-1)]: Batch computation too fast (0.1812s.) Setting batch_size=2.\n",
            "[Parallel(n_jobs=-1)]: Done  22 tasks      | elapsed:    1.5s\n",
            "[Parallel(n_jobs=-1)]: Batch computation too fast (0.0679s.) Setting batch_size=4.\n",
            "[Parallel(n_jobs=-1)]: Done  44 tasks      | elapsed:   40.7s\n",
            "[Parallel(n_jobs=-1)]: Batch computation too slow (8.0832s.) Setting batch_size=1.\n",
            "[Parallel(n_jobs=-1)]: Done  62 tasks      | elapsed:  1.4min\n",
            "[Parallel(n_jobs=-1)]: Done  71 tasks      | elapsed:  1.4min\n",
            "[Parallel(n_jobs=-1)]: Done  82 tasks      | elapsed:  1.4min\n",
            "[Parallel(n_jobs=-1)]: Batch computation too fast (0.1753s.) Setting batch_size=2.\n",
            "[Parallel(n_jobs=-1)]: Batch computation too fast (0.1494s.) Setting batch_size=4.\n",
            "[Parallel(n_jobs=-1)]: Batch computation too slow (21.9779s.) Setting batch_size=1.\n",
            "[Parallel(n_jobs=-1)]: Done 106 tasks      | elapsed:  2.5min\n",
            "[Parallel(n_jobs=-1)]: Done 125 tasks      | elapsed:  4.2min\n",
            "[Parallel(n_jobs=-1)]: Done 138 tasks      | elapsed:  4.2min\n",
            "[Parallel(n_jobs=-1)]: Batch computation too fast (0.1908s.) Setting batch_size=2.\n",
            "[Parallel(n_jobs=-1)]: Batch computation too fast (0.1566s.) Setting batch_size=4.\n",
            "[Parallel(n_jobs=-1)]: Done 157 tasks      | elapsed:  4.2min\n",
            "[Parallel(n_jobs=-1)]: Batch computation too slow (20.0607s.) Setting batch_size=1.\n",
            "[Parallel(n_jobs=-1)]: Done 180 out of 180 | elapsed:  6.3min finished\n"
          ],
          "name": "stderr"
        },
        {
          "output_type": "stream",
          "text": [
            "LinearSVC(C=0.1, class_weight=None, dual=False, fit_intercept=True,\n",
            "          intercept_scaling=1, loss='squared_hinge', max_iter=1000,\n",
            "          multi_class='ovr', penalty='l2', random_state=None, tol=0.0001,\n",
            "          verbose=0)\n",
            "0.958974358974359\n"
          ],
          "name": "stdout"
        },
        {
          "output_type": "execute_result",
          "data": {
            "text/plain": [
              "LinearSVC(C=0.1, class_weight=None, dual=False, fit_intercept=True,\n",
              "          intercept_scaling=1, loss='squared_hinge', max_iter=1000,\n",
              "          multi_class='ovr', penalty='l2', random_state=None, tol=0.0001,\n",
              "          verbose=0)"
            ]
          },
          "metadata": {
            "tags": []
          },
          "execution_count": 27
        }
      ]
    },
    {
      "cell_type": "code",
      "metadata": {
        "colab": {
          "base_uri": "https://localhost:8080/",
          "height": 371
        },
        "id": "rvh1HZC6ccAl",
        "outputId": "f63ff549-8fd9-4255-b3f1-390fbe54420c"
      },
      "source": [
        "best_Linearsvm = LinearSVC(loss = 'squared_hinge',tol = 0.0001,C = .1 ,dual = False)\r\n",
        "_ = Baseline_approach(best_Linearsvm, X_train,X_test,y_train,y_test)"
      ],
      "execution_count": 90,
      "outputs": [
        {
          "output_type": "stream",
          "text": [
            "LinearSVC(C=0.1, class_weight=None, dual=False, fit_intercept=True,\n",
            "          intercept_scaling=1, loss='squared_hinge', max_iter=1000,\n",
            "          multi_class='ovr', penalty='l2', random_state=None, tol=0.0001,\n",
            "          verbose=0) 0.958974358974359\n",
            "f1 micro score = 0.958974358974359\n",
            "f1 macro score = 0.958544359919671\n"
          ],
          "name": "stdout"
        },
        {
          "output_type": "display_data",
          "data": {
            "image/png": "[encoded data removed]",
            "text/plain": [
              "<Figure size 432x288 with 2 Axes>"
            ]
          },
          "metadata": {
            "tags": [],
            "needs_background": "light"
          }
        }
      ]
    },
    {
      "cell_type": "markdown",
      "metadata": {
        "id": "0ruHnIfp_wNP"
      },
      "source": [
        "##### Poly & Rbf Kernels: \n",
        "\n",
        "Hyperparameters: kernel, C, degree, gamma, tol\n",
        "\n",
        "Βέλτιστοι παράμετροι προέκυψαν οι εξής:\n",
        "\n",
        "*   kernel = rbf\n",
        "*   C = 10\n",
        "*   tol = 0.001\n",
        "*   degree = 2\n",
        "*   gamma = scale\n",
        "\n",
        "Accuracy = 0.9722222222222222"
      ]
    },
    {
      "cell_type": "code",
      "metadata": {
        "colab": {
          "base_uri": "https://localhost:8080/"
        },
        "id": "guyY4f6K9wzZ",
        "outputId": "d774e80c-ece5-4716-c5e1-190f2c7fb35d"
      },
      "source": [
        "clf = SVC()\n",
        "parameters = {'kernel': ('poly’', 'rbf'), 'degree': [2,3,4],\"gamma\": ('scale', 'auto'), 'tol': [.001,.0001], 'C': [.1,1,10]}\n",
        "grid_search(clf,parameters,X_train,X_test,y_train,y_test,10)\n"
      ],
      "execution_count": null,
      "outputs": [
        {
          "output_type": "stream",
          "text": [
            "Fitting 10 folds for each of 72 candidates, totalling 720 fits\n"
          ],
          "name": "stdout"
        },
        {
          "output_type": "stream",
          "text": [
            "[Parallel(n_jobs=-1)]: Using backend LokyBackend with 2 concurrent workers.\n",
            "[Parallel(n_jobs=-1)]: Done   1 tasks      | elapsed:    1.6s\n",
            "[Parallel(n_jobs=-1)]: Done   4 tasks      | elapsed:    1.7s\n",
            "[Parallel(n_jobs=-1)]: Done   9 tasks      | elapsed:    1.8s\n",
            "[Parallel(n_jobs=-1)]: Done  14 tasks      | elapsed:    1.9s\n",
            "[Parallel(n_jobs=-1)]: Batch computation too fast (0.1914s.) Setting batch_size=2.\n",
            "[Parallel(n_jobs=-1)]: Done  22 tasks      | elapsed:   50.2s\n",
            "[Parallel(n_jobs=-1)]: Batch computation too slow (48.2360s.) Setting batch_size=1.\n",
            "[Parallel(n_jobs=-1)]: Done  32 tasks      | elapsed:  2.4min\n",
            "[Parallel(n_jobs=-1)]: Done  41 tasks      | elapsed:  4.1min\n",
            "[Parallel(n_jobs=-1)]: Done  50 tasks      | elapsed:  4.1min\n",
            "[Parallel(n_jobs=-1)]: Done  61 tasks      | elapsed:  4.6min\n",
            "[Parallel(n_jobs=-1)]: Done  72 tasks      | elapsed:  7.1min\n",
            "[Parallel(n_jobs=-1)]: Done  85 tasks      | elapsed:  9.1min\n",
            "[Parallel(n_jobs=-1)]: Done  98 tasks      | elapsed:  9.1min\n",
            "[Parallel(n_jobs=-1)]: Done 113 tasks      | elapsed: 11.9min\n",
            "[Parallel(n_jobs=-1)]: Done 128 tasks      | elapsed: 13.2min\n",
            "[Parallel(n_jobs=-1)]: Done 145 tasks      | elapsed: 14.7min\n",
            "[Parallel(n_jobs=-1)]: Done 162 tasks      | elapsed: 18.2min\n",
            "[Parallel(n_jobs=-1)]: Done 181 tasks      | elapsed: 18.6min\n",
            "[Parallel(n_jobs=-1)]: Done 200 tasks      | elapsed: 22.3min\n",
            "[Parallel(n_jobs=-1)]: Done 221 tasks      | elapsed: 22.8min\n",
            "[Parallel(n_jobs=-1)]: Done 242 tasks      | elapsed: 27.3min\n",
            "[Parallel(n_jobs=-1)]: Done 265 tasks      | elapsed: 27.9min\n",
            "[Parallel(n_jobs=-1)]: Done 288 tasks      | elapsed: 29.1min\n",
            "[Parallel(n_jobs=-1)]: Done 313 tasks      | elapsed: 30.5min\n",
            "[Parallel(n_jobs=-1)]: Done 338 tasks      | elapsed: 31.0min\n",
            "[Parallel(n_jobs=-1)]: Done 365 tasks      | elapsed: 32.8min\n",
            "[Parallel(n_jobs=-1)]: Done 392 tasks      | elapsed: 34.0min\n",
            "[Parallel(n_jobs=-1)]: Done 421 tasks      | elapsed: 34.9min\n",
            "[Parallel(n_jobs=-1)]: Done 450 tasks      | elapsed: 36.6min\n",
            "[Parallel(n_jobs=-1)]: Done 481 tasks      | elapsed: 38.5min\n",
            "[Parallel(n_jobs=-1)]: Done 512 tasks      | elapsed: 39.5min\n",
            "[Parallel(n_jobs=-1)]: Done 545 tasks      | elapsed: 40.5min\n",
            "[Parallel(n_jobs=-1)]: Done 578 tasks      | elapsed: 41.4min\n",
            "[Parallel(n_jobs=-1)]: Done 613 tasks      | elapsed: 43.0min\n",
            "[Parallel(n_jobs=-1)]: Done 648 tasks      | elapsed: 44.4min\n",
            "[Parallel(n_jobs=-1)]: Done 685 tasks      | elapsed: 46.0min\n",
            "[Parallel(n_jobs=-1)]: Done 720 out of 720 | elapsed: 47.3min finished\n"
          ],
          "name": "stderr"
        },
        {
          "output_type": "stream",
          "text": [
            "SVC(C=10, break_ties=False, cache_size=200, class_weight=None, coef0=0.0,\n",
            "    decision_function_shape='ovr', degree=2, gamma='scale', kernel='rbf',\n",
            "    max_iter=-1, probability=False, random_state=None, shrinking=True,\n",
            "    tol=0.001, verbose=False)\n",
            "0.9722222222222222\n"
          ],
          "name": "stdout"
        },
        {
          "output_type": "execute_result",
          "data": {
            "text/plain": [
              "SVC(C=10, break_ties=False, cache_size=200, class_weight=None, coef0=0.0,\n",
              "    decision_function_shape='ovr', degree=2, gamma='scale', kernel='rbf',\n",
              "    max_iter=-1, probability=False, random_state=None, shrinking=True,\n",
              "    tol=0.001, verbose=False)"
            ]
          },
          "metadata": {
            "tags": []
          },
          "execution_count": 29
        }
      ]
    },
    {
      "cell_type": "code",
      "metadata": {
        "colab": {
          "base_uri": "https://localhost:8080/",
          "height": 367
        },
        "id": "jHTgseQNcq13",
        "outputId": "39e91902-101b-4663-dced-c70551096ef7"
      },
      "source": [
        "best_svm = SVC(kernel = 'rbf',tol = 0.001, C = 10,degree = 2, gamma = 'scale' )\r\n",
        "_ = Baseline_approach(best_svm, X_train,X_test,y_train,y_test)"
      ],
      "execution_count": 92,
      "outputs": [
        {
          "output_type": "stream",
          "text": [
            "SVC(C=10, break_ties=False, cache_size=200, class_weight=None, coef0=0.0,\n",
            "    decision_function_shape='ovr', degree=2, gamma='scale', kernel='rbf',\n",
            "    max_iter=-1, probability=False, random_state=None, shrinking=True,\n",
            "    tol=0.001, verbose=False) 0.9722222222222222\n",
            "f1 micro score = 0.9722222222222222\n",
            "f1 macro score = 0.972449275377252\n"
          ],
          "name": "stdout"
        },
        {
          "output_type": "display_data",
          "data": {
            "image/png": "[encoded data removed]",
            "text/plain": [
              "<Figure size 432x288 with 2 Axes>"
            ]
          },
          "metadata": {
            "tags": [],
            "needs_background": "light"
          }
        }
      ]
    },
    {
      "cell_type": "markdown",
      "metadata": {
        "id": "XdzrAo-Z_RHe"
      },
      "source": [
        "### 2. Final fit and running time"
      ]
    },
    {
      "cell_type": "markdown",
      "metadata": {
        "id": "TASFEAP9PgVs"
      },
      "source": [
        "Αναμένουμε μεγάλο χρόνο εκπαίδευσης στο νευρωνικό και τις δύο μεθόδους SVM, ενώ μεγάλο χρόνο εκτέλεσης στην μέθοδο Knn. Οι χρόνοι εκτέλεσης εκπαίδευσης και πρόβλεψης των βέλιστων classifiers προκύπτουν:"
      ]
    },
    {
      "cell_type": "code",
      "metadata": {
        "colab": {
          "base_uri": "https://localhost:8080/"
        },
        "id": "DCi2la7F_XK1",
        "outputId": "9b178efb-8360-4f31-e4b4-d2017d43b76c"
      },
      "source": [
        "t = Texttable()\n",
        "\n",
        "fit_times = []\n",
        "predict_times = []\n",
        "table = [['Classifier','Fit time (s)','Predict time (s)', 'Score']]\n",
        "classifiernames = [\"GNB\",\"Knn\",\"MLP\",\"SVM\",\"LinearSVM\"]\n",
        "GNB = GaussianNB()\n",
        "best_knn = KNeighborsClassifier(n_neighbors = 7 , metric = 'euclidean', weights = \"distance\", n_jobs = -1)\n",
        "best_mlp = MLPClassifier(activation = \"relu\", alpha = 0.0001, hidden_layer_sizes = 128, learning_rate = \"constant\", max_iter = 200, solver = \"adam\")\n",
        "best_Linearsvm =  LinearSVC(loss = 'squared_hinge', tol = 0.0001, C = .1, dual = False)\n",
        "best_Svm = SVC(kernel = 'rbf', C = 10, tol = .001, degree = 2, gamma = 'scale')\n",
        "bestclassifierlist = [GNB,best_knn,best_mlp,best_Svm,best_Linearsvm]\n",
        "\n",
        "i = 0\n",
        "for clf in bestclassifierlist:\n",
        "    point1 = time.time()\n",
        "    clf.fit(X_train,y_train)\n",
        "    point2 = time.time()\n",
        "    y_pred = clf.predict(X_test)\n",
        "    point3 = time.time()\n",
        "    fit_times.append(round(point2 - point1,3))\n",
        "    predict_times.append(round(point3-point2,3))\n",
        "    table.append([classifiernames[i],round(point2 - point1,3),round(point3-point2,3),clf.score(X_test,y_test)])\n",
        "\n",
        "    i += 1\n",
        "\n",
        "t.add_rows(table)\n",
        "print(t.draw())"
      ],
      "execution_count": 93,
      "outputs": [
        {
          "output_type": "stream",
          "text": [
            "+------------+--------------+------------------+-------+\n",
            "| Classifier | Fit time (s) | Predict time (s) | Score |\n",
            "+============+==============+==================+=======+\n",
            "| GNB        | 0.051        | 0.190            | 0.792 |\n",
            "+------------+--------------+------------------+-------+\n",
            "| Knn        | 0.420        | 12.135           | 0.906 |\n",
            "+------------+--------------+------------------+-------+\n",
            "| MLP        | 17.870       | 0.021            | 0.962 |\n",
            "+------------+--------------+------------------+-------+\n",
            "| SVM        | 8.521        | 8.317            | 0.972 |\n",
            "+------------+--------------+------------------+-------+\n",
            "| LinearSVM  | 8.198        | 0.007            | 0.959 |\n",
            "+------------+--------------+------------------+-------+\n"
          ],
          "name": "stdout"
        }
      ]
    },
    {
      "cell_type": "markdown",
      "metadata": {
        "id": "LIlpX9EP_Z4J"
      },
      "source": [
        "### 3. Averaged metric bar plots"
      ]
    },
    {
      "cell_type": "code",
      "metadata": {
        "colab": {
          "base_uri": "https://localhost:8080/",
          "height": 809
        },
        "id": "POAXgik1_eOb",
        "outputId": "93a03222-b795-4870-a9c8-d71a5540d581"
      },
      "source": [
        "best_averaged_plots(bestclassifierlist[1:],X_test,y_test,\"Best\")"
      ],
      "execution_count": 95,
      "outputs": [
        {
          "output_type": "display_data",
          "data": {
            "image/png": "[encoded data removed]",
            "text/plain": [
              "<Figure size 432x288 with 1 Axes>"
            ]
          },
          "metadata": {
            "tags": [],
            "needs_background": "light"
          }
        },
        {
          "output_type": "display_data",
          "data": {
            "image/png": "[encoded data removed]",
            "text/plain": [
              "<Figure size 432x288 with 1 Axes>"
            ]
          },
          "metadata": {
            "tags": [],
            "needs_background": "light"
          }
        },
        {
          "output_type": "display_data",
          "data": {
            "image/png": "[encoded data removed]",
            "text/plain": [
              "<Figure size 432x288 with 1 Axes>"
            ]
          },
          "metadata": {
            "tags": [],
            "needs_background": "light"
          }
        }
      ]
    },
    {
      "cell_type": "markdown",
      "metadata": {
        "id": "nK7eZRTR_exC"
      },
      "source": [
        "### 4. Before And After Optimization"
      ]
    },
    {
      "cell_type": "code",
      "metadata": {
        "colab": {
          "base_uri": "https://localhost:8080/",
          "height": 809
        },
        "id": "wZ2QM0Xx_2c1",
        "outputId": "dd535853-a14b-4c59-a3b0-df4604ffd15b"
      },
      "source": [
        "difference_averaged_plots(classifierlist[3:],bestclassifierlist[1:],X_test,y_test,\"Difference\")"
      ],
      "execution_count": 110,
      "outputs": [
        {
          "output_type": "display_data",
          "data": {
            "image/png": "[encoded data removed]",
            "text/plain": [
              "<Figure size 432x288 with 1 Axes>"
            ]
          },
          "metadata": {
            "tags": [],
            "needs_background": "light"
          }
        },
        {
          "output_type": "display_data",
          "data": {
            "image/png": "[encoded data removed]",
            "text/plain": [
              "<Figure size 432x288 with 1 Axes>"
            ]
          },
          "metadata": {
            "tags": [],
            "needs_background": "light"
          }
        },
        {
          "output_type": "display_data",
          "data": {
            "image/png": "[encoded data removed]",
            "text/plain": [
              "<Figure size 432x288 with 1 Axes>"
            ]
          },
          "metadata": {
            "tags": [],
            "needs_background": "light"
          }
        }
      ]
    },
    {
      "cell_type": "markdown",
      "metadata": {
        "id": "k6De0ejHALLg"
      },
      "source": [
        "### 5. Precision, Recall, F1 Scores, and more \n",
        "\n"
      ]
    },
    {
      "cell_type": "markdown",
      "metadata": {
        "id": "_IABmO50OgpM"
      },
      "source": [
        "Όπως σχολιάσαμε και προηγουμένως το classification πρόβλημα που αντιμετωπίζουμε είναι αρκετά εύκολο. Με fine tuning καταφέρνουμε να ανεβάσουμε τις επιδόσεις των ταξινομητών σε ποσοστό της τάξης του 0.5%. Παρατηρούμε και πάλι πώς έχουμε περίπου ίδιες τιμές precision και recall. Οι επιδόσεις των βέλτιστων ταξινομητών ξεκινούν από το 80% και φτάνουν έως και 97% "
      ]
    },
    {
      "cell_type": "markdown",
      "metadata": {
        "id": "0Y8nm4kR7xso"
      },
      "source": [
        "## Βελτιστοποίηση ταξινομητών (macro)\n",
        "\n",
        "Σε αυτό το απόσπασμα αξιολογούμε τις βέλτιστες παραμέτρους και την επιρροή τους στις επιδόσεις των ταξινομητών.\n"
      ]
    },
    {
      "cell_type": "markdown",
      "metadata": {
        "id": "IYnw2DM27xsy"
      },
      "source": [
        "### Help Code"
      ]
    },
    {
      "cell_type": "code",
      "metadata": {
        "id": "yL450vN67xsy"
      },
      "source": [
        "def grid_search(clf,parameters,X_train,X_test,y_train,y_test,verbose = 10, scoring = 'f1_macro'):\n",
        "    clf = GridSearchCV(clf,parameters, n_jobs = -1, cv = 5, verbose = verbose, scoring = \"f1_macro\")\n",
        "    clf.fit(X_train,y_train)\n",
        "    print(clf.best_estimator_)\n",
        "    Best_clf = clf.best_estimator_.fit(X_train,y_train)\n",
        "    y_pred = Best_clf.predict(X_test)\n",
        "    print(f1_score(y_test,y_pred,average = 'macro'))\n",
        "    # print(Best_clf.score(X_test,y_test))\n",
        "    return Best_clf\n",
        "\n",
        "def Best_approach(classifier,X_train,X_test,y_train,y_test):\n",
        "    classifier.fit(X_train,y_train)\n",
        "    y_pred = classifier.predict(X_test)\n",
        "    print(str(classifier),classifier.score(X_test,y_test))\n",
        "    print(\"f1 micro score =\",f1_score(y_test, y_pred, average='micro'))\n",
        "    print(\"f1 macro score =\",f1_score(y_test, y_pred, average='macro'))\n",
        "    # print(confusion_matrix(y_pred,y_test))\n",
        "    cf_matrix = confusion_matrix(y_pred,y_test)\n",
        "    sns.heatmap(cf_matrix, annot=False, cmap='nipy_spectral')\n",
        "    return classifier\n",
        "\n",
        "def best_plot(clfs,score1,score,function,approach):\n",
        "    plt.bar(clfs,score1)\n",
        "    plt.title(approach + \" \" + score + \" with \" + function + \" average\")\n",
        "    plt.savefig(approach + \"_\" + score + \"_with_\"+ function + \"_average.jpg\")\n",
        "    plt.show()\n",
        "\n",
        "def best_averaged_plots(classifierlist,X_test,y_test,approach):\n",
        "    clfs  = ['KNN', 'MLP', 'SVM', 'LinearSVM']\n",
        "    score_micro = []\n",
        "    score_macro = []\n",
        "    recall_micro = []\n",
        "    recall_macro = []\n",
        "    precision_micro = []\n",
        "    precision_macro = []\n",
        "    for classifier in classifierlist:        \n",
        "        y_pred = classifier.predict(X_test)\n",
        "        score_macro.append(f1_score(y_test, y_pred, average = 'macro'))        \n",
        "        recall_macro.append(recall_score(y_test, y_pred, average = \"macro\"))        \n",
        "        precision_macro.append(precision_score(y_test, y_pred, average = 'macro'))\n",
        "       \n",
        "\n",
        "    best_plot(clfs,score_macro,\"score\",\"macro\",approach)\n",
        "    best_plot(clfs,recall_macro,\"recall\",\"macro\",approach)\n",
        "    best_plot(clfs,precision_macro,\"precision\",\"macro\",approach)\n",
        "\n",
        "def difference_plot(clfs,score1,score,function,approach):\n",
        "    plt.bar([1-.25/2, 2-.25/2, 3-.25/2, 4-.25/2],score1[0],width = .25)\n",
        "    plt.bar([1+.25/2, 2+.25/2, 3+.25/2, 4+.25/2],score1[1],width = .25)\n",
        "    plt.xticks([1,2,3,4],clfs)\n",
        "    plt.title(approach + \" for \" + score + \" with \" + function + \" average\")\n",
        "    plt.savefig(approach + \"_for_\" + score + \"_with_\"+ function + \"_average.jpg\")\n",
        "    plt.show()\n",
        "\n",
        "def difference_averaged_plots(classifierlist,bestclassifierlist,X_test,y_test,approach):\n",
        "    clfs  = ['KNN', 'MLP', 'SVM', 'LinearSVM']\n",
        "    score_micro = [[],[]]\n",
        "    score_macro = [[],[]]\n",
        "    recall_micro = [[],[]]\n",
        "    recall_macro = [[],[]]\n",
        "    precision_micro = [[],[]]\n",
        "    precision_macro = [[],[]]\n",
        "    for i in range(4):\n",
        "        base_y_pred = classifierlist[i].predict(X_test)\n",
        "        best_y_pred = bestclassifierlist[i].predict(X_test)\n",
        "        score_macro[0].append(f1_score(y_test, base_y_pred, average = 'macro'))        \n",
        "        recall_macro[0].append(recall_score(y_test, base_y_pred, average = \"macro\"))        \n",
        "        precision_macro[0].append(precision_score(y_test, base_y_pred, average = 'macro'))\n",
        "        score_macro[1].append(f1_score(y_test, best_y_pred, average = 'macro'))        \n",
        "        recall_macro[1].append(recall_score(y_test, best_y_pred, average = \"macro\"))        \n",
        "        precision_macro[1].append(precision_score(y_test, best_y_pred, average = 'macro'))\n",
        "\n",
        "    difference_plot(clfs,score_macro,\"score\",\"macro\",approach)\n",
        "    difference_plot(clfs,recall_macro,\"recall\",\"macro\",approach)\n",
        "    difference_plot(clfs,precision_macro,\"precision\",\"macro\",approach)"
      ],
      "execution_count": 112,
      "outputs": []
    },
    {
      "cell_type": "markdown",
      "metadata": {
        "id": "qUv1zWQj7xsz"
      },
      "source": [
        "### 1. Classifiers"
      ]
    },
    {
      "cell_type": "markdown",
      "metadata": {
        "id": "UfWEyUtr7xs0"
      },
      "source": [
        "#### kΝΝ Classifier\n"
      ]
    },
    {
      "cell_type": "markdown",
      "metadata": {
        "id": "HQ56X15OlZOm"
      },
      "source": [
        "Hyperparameters: n_neighbors, metric, weights.\r\n",
        "\r\n",
        "Βέλτιστες παράμετροι πρόκευψαν :\r\n",
        "\r\n",
        "\r\n",
        "*   n_neighbors = 7\r\n",
        "*   metric = euclidean\r\n",
        "*   weights = distance\r\n",
        "\r\n",
        "\r\n",
        "Accuracy = 0.9055599300249125"
      ]
    },
    {
      "cell_type": "code",
      "metadata": {
        "colab": {
          "base_uri": "https://localhost:8080/"
        },
        "id": "5UIe06AG7xs0",
        "outputId": "8cb37ee6-ef87-471a-bc5a-288f44452cc0"
      },
      "source": [
        "parameters =  {'metric':('euclidean', 'manhattan', 'chebyshev'), 'weights':(\"uniform\",\"distance\"), \"n_neighbors\": [1, 3, 5, 7]}\n",
        "clf = KNeighborsClassifier(n_jobs = -1)\n",
        "\n",
        "grid_search(clf,parameters,X_train,X_test,y_train,y_test,5,)"
      ],
      "execution_count": null,
      "outputs": [
        {
          "output_type": "stream",
          "text": [
            "Fitting 5 folds for each of 24 candidates, totalling 120 fits\n"
          ],
          "name": "stdout"
        },
        {
          "output_type": "stream",
          "text": [
            "[Parallel(n_jobs=-1)]: Using backend LokyBackend with 2 concurrent workers.\n",
            "[Parallel(n_jobs=-1)]: Done  14 tasks      | elapsed:  1.3min\n",
            "[Parallel(n_jobs=-1)]: Done  68 tasks      | elapsed:  6.2min\n",
            "[Parallel(n_jobs=-1)]: Done 120 out of 120 | elapsed:  9.4min finished\n"
          ],
          "name": "stderr"
        },
        {
          "output_type": "stream",
          "text": [
            "KNeighborsClassifier(algorithm='auto', leaf_size=30, metric='euclidean',\n",
            "                     metric_params=None, n_jobs=-1, n_neighbors=7, p=2,\n",
            "                     weights='distance')\n",
            "0.9055599300249125\n"
          ],
          "name": "stdout"
        },
        {
          "output_type": "execute_result",
          "data": {
            "text/plain": [
              "KNeighborsClassifier(algorithm='auto', leaf_size=30, metric='euclidean',\n",
              "                     metric_params=None, n_jobs=-1, n_neighbors=7, p=2,\n",
              "                     weights='distance')"
            ]
          },
          "metadata": {
            "tags": []
          },
          "execution_count": 42
        }
      ]
    },
    {
      "cell_type": "code",
      "metadata": {
        "colab": {
          "base_uri": "https://localhost:8080/",
          "height": 352
        },
        "id": "SqxAWRx8h0WK",
        "outputId": "51b0c122-a8e6-4bf9-8f3f-9439be596958"
      },
      "source": [
        "best_knn = KNeighborsClassifier(n_neighbors = 7 , metric = 'euclidean', weights = \"distance\", n_jobs = -1)\r\n",
        "_ = Baseline_approach(best_knn, X_train,X_test,y_train,y_test)"
      ],
      "execution_count": 116,
      "outputs": [
        {
          "output_type": "stream",
          "text": [
            "KNeighborsClassifier(algorithm='auto', leaf_size=30, metric='euclidean',\n",
            "                     metric_params=None, n_jobs=-1, n_neighbors=7, p=2,\n",
            "                     weights='distance') 0.9064102564102564\n",
            "f1 micro score = 0.9064102564102564\n",
            "f1 macro score = 0.9055599300249125\n"
          ],
          "name": "stdout"
        },
        {
          "output_type": "display_data",
          "data": {
            "image/png": "[encoded data removed]",
            "text/plain": [
              "<Figure size 432x288 with 2 Axes>"
            ]
          },
          "metadata": {
            "tags": [],
            "needs_background": "light"
          }
        }
      ]
    },
    {
      "cell_type": "markdown",
      "metadata": {
        "id": "wYgOMeVq7xs2"
      },
      "source": [
        "#### Multi-Layer Perceptron (MLP)\n"
      ]
    },
    {
      "cell_type": "markdown",
      "metadata": {
        "id": "TUyhz9rElWhC"
      },
      "source": [
        "\r\n",
        "Hyperparameters: hidden_layer_sizes, activation, solver, max_iter, learning_rate, alpha.\r\n",
        "\r\n",
        "Βέλτιστοι παράμετροι προέκυψαν οι εξής:\r\n",
        "*   activation = relu \r\n",
        "*   alpha = 0.001\r\n",
        "*   hidden_layer_sizes = 256\r\n",
        "*   learning_rate = constant\r\n",
        "*   max_iter = 200\r\n",
        "*   solver = adam\r\n",
        "\r\n",
        "Accuracy = 0.9649033431544065\r\n"
      ]
    },
    {
      "cell_type": "markdown",
      "metadata": {
        "id": "JdVcyDxG9W82"
      },
      "source": [
        "Για την βελτιστοποιηση του MLP αρχικώς δοκιμάσαμε ένα ευρύ gridsearch και στην συνέχεια αφού επιλέξαμε ορισμένες μεταβλητές ως αρχικοποίηση τρέξαμε από ένα gridsearch για κάθε επιμέρους παράμετρο. Αυτο το κάναμε διότι έτρεχε εξαντλητικά αργά η εκπαίδευση του νευρωνικού"
      ]
    },
    {
      "cell_type": "code",
      "metadata": {
        "colab": {
          "base_uri": "https://localhost:8080/"
        },
        "id": "nZjC7lor7xs2",
        "outputId": "41ec73d4-633b-42d5-846d-b448a3f65d33"
      },
      "source": [
        "parameters =  {'hidden_layer_sizes':[8,16], \"activation\": ('logistic', 'tanh', 'relu'), \"solver\": (\"lbfgs\", \"sgd\", \"adam\"), \"max_iter\": [100, 200], \"learning_rate\": ('constant', 'invscaling'), \"alpha\": [.001,.0001]}\n",
        "clf = MLPClassifier()\n",
        "\n",
        "grid_search(clf,parameters,X_train,X_test,y_train,y_test,5)"
      ],
      "execution_count": null,
      "outputs": [
        {
          "output_type": "stream",
          "text": [
            "Fitting 5 folds for each of 144 candidates, totalling 720 fits\n"
          ],
          "name": "stdout"
        },
        {
          "output_type": "stream",
          "text": [
            "[Parallel(n_jobs=-1)]: Using backend LokyBackend with 2 concurrent workers.\n",
            "[Parallel(n_jobs=-1)]: Done  14 tasks      | elapsed:   36.7s\n",
            "[Parallel(n_jobs=-1)]: Done  68 tasks      | elapsed:  3.5min\n",
            "[Parallel(n_jobs=-1)]: Done 158 tasks      | elapsed:  8.8min\n",
            "[Parallel(n_jobs=-1)]: Done 284 tasks      | elapsed: 15.8min\n",
            "[Parallel(n_jobs=-1)]: Done 446 tasks      | elapsed: 26.7min\n",
            "[Parallel(n_jobs=-1)]: Done 644 tasks      | elapsed: 38.6min\n",
            "[Parallel(n_jobs=-1)]: Done 720 out of 720 | elapsed: 43.6min finished\n",
            "/usr/local/lib/python3.6/dist-packages/sklearn/neural_network/_multilayer_perceptron.py:571: ConvergenceWarning: Stochastic Optimizer: Maximum iterations (100) reached and the optimization hasn't converged yet.\n",
            "  % self.max_iter, ConvergenceWarning)\n"
          ],
          "name": "stderr"
        },
        {
          "output_type": "stream",
          "text": [
            "MLPClassifier(activation='relu', alpha=0.001, batch_size='auto', beta_1=0.9,\n",
            "              beta_2=0.999, early_stopping=False, epsilon=1e-08,\n",
            "              hidden_layer_sizes=16, learning_rate='invscaling',\n",
            "              learning_rate_init=0.001, max_fun=15000, max_iter=100,\n",
            "              momentum=0.9, n_iter_no_change=10, nesterovs_momentum=True,\n",
            "              power_t=0.5, random_state=None, shuffle=True, solver='adam',\n",
            "              tol=0.0001, validation_fraction=0.1, verbose=False,\n",
            "              warm_start=False)\n",
            "0.9522592338418284\n"
          ],
          "name": "stdout"
        },
        {
          "output_type": "stream",
          "text": [
            "/usr/local/lib/python3.6/dist-packages/sklearn/neural_network/_multilayer_perceptron.py:571: ConvergenceWarning: Stochastic Optimizer: Maximum iterations (100) reached and the optimization hasn't converged yet.\n",
            "  % self.max_iter, ConvergenceWarning)\n"
          ],
          "name": "stderr"
        },
        {
          "output_type": "execute_result",
          "data": {
            "text/plain": [
              "MLPClassifier(activation='relu', alpha=0.001, batch_size='auto', beta_1=0.9,\n",
              "              beta_2=0.999, early_stopping=False, epsilon=1e-08,\n",
              "              hidden_layer_sizes=16, learning_rate='invscaling',\n",
              "              learning_rate_init=0.001, max_fun=15000, max_iter=100,\n",
              "              momentum=0.9, n_iter_no_change=10, nesterovs_momentum=True,\n",
              "              power_t=0.5, random_state=None, shuffle=True, solver='adam',\n",
              "              tol=0.0001, validation_fraction=0.1, verbose=False,\n",
              "              warm_start=False)"
            ]
          },
          "metadata": {
            "tags": []
          },
          "execution_count": 45
        }
      ]
    },
    {
      "cell_type": "code",
      "metadata": {
        "colab": {
          "base_uri": "https://localhost:8080/"
        },
        "id": "ZuDI0KCL7xs3",
        "outputId": "2c674fda-9ac6-4271-a553-79afe0e46068"
      },
      "source": [
        "parameters =  {'hidden_layer_sizes':[8,16,32,64,128,256,512]}\n",
        "clf = MLPClassifier(activation='relu',solver='adam',max_iter=200,learning_rate='invscaling',alpha=.0001)\n",
        "\n",
        "grid_search(clf,parameters,X_train,X_test,y_train,y_test,5)"
      ],
      "execution_count": null,
      "outputs": [
        {
          "output_type": "stream",
          "text": [
            "Fitting 5 folds for each of 7 candidates, totalling 35 fits\n"
          ],
          "name": "stdout"
        },
        {
          "output_type": "stream",
          "text": [
            "[Parallel(n_jobs=-1)]: Using backend LokyBackend with 2 concurrent workers.\n",
            "[Parallel(n_jobs=-1)]: Done  14 tasks      | elapsed:  1.4min\n",
            "[Parallel(n_jobs=-1)]: Done  35 out of  35 | elapsed:  7.0min finished\n"
          ],
          "name": "stderr"
        },
        {
          "output_type": "stream",
          "text": [
            "MLPClassifier(activation='relu', alpha=0.0001, batch_size='auto', beta_1=0.9,\n",
            "              beta_2=0.999, early_stopping=False, epsilon=1e-08,\n",
            "              hidden_layer_sizes=256, learning_rate='invscaling',\n",
            "              learning_rate_init=0.001, max_fun=15000, max_iter=200,\n",
            "              momentum=0.9, n_iter_no_change=10, nesterovs_momentum=True,\n",
            "              power_t=0.5, random_state=None, shuffle=True, solver='adam',\n",
            "              tol=0.0001, validation_fraction=0.1, verbose=False,\n",
            "              warm_start=False)\n",
            "0.964423870595793\n"
          ],
          "name": "stdout"
        },
        {
          "output_type": "execute_result",
          "data": {
            "text/plain": [
              "MLPClassifier(activation='relu', alpha=0.0001, batch_size='auto', beta_1=0.9,\n",
              "              beta_2=0.999, early_stopping=False, epsilon=1e-08,\n",
              "              hidden_layer_sizes=256, learning_rate='invscaling',\n",
              "              learning_rate_init=0.001, max_fun=15000, max_iter=200,\n",
              "              momentum=0.9, n_iter_no_change=10, nesterovs_momentum=True,\n",
              "              power_t=0.5, random_state=None, shuffle=True, solver='adam',\n",
              "              tol=0.0001, validation_fraction=0.1, verbose=False,\n",
              "              warm_start=False)"
            ]
          },
          "metadata": {
            "tags": []
          },
          "execution_count": 23
        }
      ]
    },
    {
      "cell_type": "code",
      "metadata": {
        "colab": {
          "background_save": true,
          "base_uri": "https://localhost:8080/"
        },
        "id": "rO0QPp1D7xs3",
        "outputId": "2cf4abc6-62d8-493b-da9a-896ed2b06342"
      },
      "source": [
        "parameters =  {'learning_rate':('constant','invscaling')}\n",
        "clf = MLPClassifier(hidden_layer_sizes = 256, activation='relu',solver='adam',max_iter=200,alpha=.0001)\n",
        "\n",
        "grid_search(clf,parameters,X_train,X_test,y_train,y_test,5,)"
      ],
      "execution_count": null,
      "outputs": [
        {
          "output_type": "stream",
          "text": [
            "Fitting 5 folds for each of 2 candidates, totalling 10 fits\n"
          ],
          "name": "stdout"
        },
        {
          "output_type": "stream",
          "text": [
            "[Parallel(n_jobs=-1)]: Using backend LokyBackend with 2 concurrent workers.\n",
            "[Parallel(n_jobs=-1)]: Done  10 out of  10 | elapsed:  2.9min remaining:    0.0s\n",
            "[Parallel(n_jobs=-1)]: Done  10 out of  10 | elapsed:  2.9min finished\n"
          ],
          "name": "stderr"
        },
        {
          "output_type": "stream",
          "text": [
            "MLPClassifier(activation='relu', alpha=0.0001, batch_size='auto', beta_1=0.9,\n",
            "              beta_2=0.999, early_stopping=False, epsilon=1e-08,\n",
            "              hidden_layer_sizes=256, learning_rate='invscaling',\n",
            "              learning_rate_init=0.001, max_fun=15000, max_iter=200,\n",
            "              momentum=0.9, n_iter_no_change=10, nesterovs_momentum=True,\n",
            "              power_t=0.5, random_state=None, shuffle=True, solver='adam',\n",
            "              tol=0.0001, validation_fraction=0.1, verbose=False,\n",
            "              warm_start=False)\n",
            "0.967619018937397\n"
          ],
          "name": "stdout"
        },
        {
          "output_type": "execute_result",
          "data": {
            "text/plain": [
              "MLPClassifier(activation='relu', alpha=0.0001, batch_size='auto', beta_1=0.9,\n",
              "              beta_2=0.999, early_stopping=False, epsilon=1e-08,\n",
              "              hidden_layer_sizes=256, learning_rate='invscaling',\n",
              "              learning_rate_init=0.001, max_fun=15000, max_iter=200,\n",
              "              momentum=0.9, n_iter_no_change=10, nesterovs_momentum=True,\n",
              "              power_t=0.5, random_state=None, shuffle=True, solver='adam',\n",
              "              tol=0.0001, validation_fraction=0.1, verbose=False,\n",
              "              warm_start=False)"
            ]
          },
          "metadata": {
            "tags": []
          },
          "execution_count": 0
        }
      ]
    },
    {
      "cell_type": "code",
      "metadata": {
        "colab": {
          "base_uri": "https://localhost:8080/"
        },
        "id": "EFC5Z2mx7xs3",
        "outputId": "d505184d-e701-4629-ffec-7090764d5e03"
      },
      "source": [
        "parameters =  {'max_iter':[100,200,400]}\n",
        "clf = MLPClassifier(hidden_layer_sizes = 256, activation='relu',learning_rate='invscaling',solver='adam',alpha=.0001)\n",
        "\n",
        "grid_search(clf,parameters,X_train,X_test,y_train,y_test,5)"
      ],
      "execution_count": null,
      "outputs": [
        {
          "output_type": "stream",
          "text": [
            "Fitting 5 folds for each of 3 candidates, totalling 15 fits\n"
          ],
          "name": "stdout"
        },
        {
          "output_type": "stream",
          "text": [
            "[Parallel(n_jobs=-1)]: Using backend LokyBackend with 2 concurrent workers.\n",
            "[Parallel(n_jobs=-1)]: Done  15 out of  15 | elapsed:  4.0min finished\n"
          ],
          "name": "stderr"
        },
        {
          "output_type": "stream",
          "text": [
            "MLPClassifier(activation='relu', alpha=0.0001, batch_size='auto', beta_1=0.9,\n",
            "              beta_2=0.999, early_stopping=False, epsilon=1e-08,\n",
            "              hidden_layer_sizes=256, learning_rate='invscaling',\n",
            "              learning_rate_init=0.001, max_fun=15000, max_iter=200,\n",
            "              momentum=0.9, n_iter_no_change=10, nesterovs_momentum=True,\n",
            "              power_t=0.5, random_state=None, shuffle=True, solver='adam',\n",
            "              tol=0.0001, validation_fraction=0.1, verbose=False,\n",
            "              warm_start=False)\n",
            "0.9649866692135518\n"
          ],
          "name": "stdout"
        },
        {
          "output_type": "execute_result",
          "data": {
            "text/plain": [
              "MLPClassifier(activation='relu', alpha=0.0001, batch_size='auto', beta_1=0.9,\n",
              "              beta_2=0.999, early_stopping=False, epsilon=1e-08,\n",
              "              hidden_layer_sizes=256, learning_rate='invscaling',\n",
              "              learning_rate_init=0.001, max_fun=15000, max_iter=200,\n",
              "              momentum=0.9, n_iter_no_change=10, nesterovs_momentum=True,\n",
              "              power_t=0.5, random_state=None, shuffle=True, solver='adam',\n",
              "              tol=0.0001, validation_fraction=0.1, verbose=False,\n",
              "              warm_start=False)"
            ]
          },
          "metadata": {
            "tags": []
          },
          "execution_count": 24
        }
      ]
    },
    {
      "cell_type": "code",
      "metadata": {
        "colab": {
          "base_uri": "https://localhost:8080/"
        },
        "id": "2v2k0u697xs4",
        "outputId": "bd36b90d-7d34-4d30-8230-4fce75e9c6e0"
      },
      "source": [
        "parameters =  {\"alpha\": [0,.001,.0001] }\n",
        "clf = MLPClassifier(hidden_layer_sizes = 256, activation='relu',learning_rate='constant',solver='adam',max_iter = 200)\n",
        "grid_search(clf,parameters,X_train,X_test,y_train,y_test,5)"
      ],
      "execution_count": 117,
      "outputs": [
        {
          "output_type": "stream",
          "text": [
            "Fitting 5 folds for each of 3 candidates, totalling 15 fits\n"
          ],
          "name": "stdout"
        },
        {
          "output_type": "stream",
          "text": [
            "[Parallel(n_jobs=-1)]: Using backend LokyBackend with 2 concurrent workers.\n",
            "[Parallel(n_jobs=-1)]: Done  15 out of  15 | elapsed:  4.4min finished\n"
          ],
          "name": "stderr"
        },
        {
          "output_type": "stream",
          "text": [
            "MLPClassifier(activation='relu', alpha=0.0001, batch_size='auto', beta_1=0.9,\n",
            "              beta_2=0.999, early_stopping=False, epsilon=1e-08,\n",
            "              hidden_layer_sizes=256, learning_rate='constant',\n",
            "              learning_rate_init=0.001, max_fun=15000, max_iter=200,\n",
            "              momentum=0.9, n_iter_no_change=10, nesterovs_momentum=True,\n",
            "              power_t=0.5, random_state=None, shuffle=True, solver='adam',\n",
            "              tol=0.0001, validation_fraction=0.1, verbose=False,\n",
            "              warm_start=False)\n",
            "0.9670334060893222\n"
          ],
          "name": "stdout"
        },
        {
          "output_type": "execute_result",
          "data": {
            "text/plain": [
              "MLPClassifier(activation='relu', alpha=0.0001, batch_size='auto', beta_1=0.9,\n",
              "              beta_2=0.999, early_stopping=False, epsilon=1e-08,\n",
              "              hidden_layer_sizes=256, learning_rate='constant',\n",
              "              learning_rate_init=0.001, max_fun=15000, max_iter=200,\n",
              "              momentum=0.9, n_iter_no_change=10, nesterovs_momentum=True,\n",
              "              power_t=0.5, random_state=None, shuffle=True, solver='adam',\n",
              "              tol=0.0001, validation_fraction=0.1, verbose=False,\n",
              "              warm_start=False)"
            ]
          },
          "metadata": {
            "tags": []
          },
          "execution_count": 117
        }
      ]
    },
    {
      "cell_type": "code",
      "metadata": {
        "colab": {
          "base_uri": "https://localhost:8080/",
          "height": 435
        },
        "id": "7I7qRaNMh6iI",
        "outputId": "166258d0-356b-418b-9a07-17db8b59aedc"
      },
      "source": [
        "best_MLP = MLPClassifier(alpha = 0.0001, hidden_layer_sizes = 256, activation='relu', learning_rate='constant', solver='adam', max_iter = 200)\r\n",
        "_ = Baseline_approach(best_MLP, X_train,X_test,y_train,y_test)"
      ],
      "execution_count": 118,
      "outputs": [
        {
          "output_type": "stream",
          "text": [
            "MLPClassifier(activation='relu', alpha=0.0001, batch_size='auto', beta_1=0.9,\n",
            "              beta_2=0.999, early_stopping=False, epsilon=1e-08,\n",
            "              hidden_layer_sizes=256, learning_rate='constant',\n",
            "              learning_rate_init=0.001, max_fun=15000, max_iter=200,\n",
            "              momentum=0.9, n_iter_no_change=10, nesterovs_momentum=True,\n",
            "              power_t=0.5, random_state=None, shuffle=True, solver='adam',\n",
            "              tol=0.0001, validation_fraction=0.1, verbose=False,\n",
            "              warm_start=False) 0.9662393162393162\n",
            "f1 micro score = 0.9662393162393162\n",
            "f1 macro score = 0.9661723438508318\n"
          ],
          "name": "stdout"
        },
        {
          "output_type": "display_data",
          "data": {
            "image/png": "[encoded data removed]",
            "text/plain": [
              "<Figure size 432x288 with 2 Axes>"
            ]
          },
          "metadata": {
            "tags": [],
            "needs_background": "light"
          }
        }
      ]
    },
    {
      "cell_type": "markdown",
      "metadata": {
        "id": "3Tx672al7xs5"
      },
      "source": [
        "#### Support Vector Machines (SVM)\n",
        "\n"
      ]
    },
    {
      "cell_type": "markdown",
      "metadata": {
        "id": "XTUYORlH7xs5"
      },
      "source": [
        "##### Linear Kernel:\n",
        "\n",
        "Hyperparameters: loss, tol, C.\n",
        "\n",
        "Βέλτιστοι παράμετροι προέκυψαν οι εξής:\n",
        "\n",
        "*   loss = squared_hinge\n",
        "*   tol = 0.0001\n",
        "*   C = 0.1\n",
        "\n",
        "Accuracy = 0.958544359919671\n"
      ]
    },
    {
      "cell_type": "code",
      "metadata": {
        "colab": {
          "base_uri": "https://localhost:8080/"
        },
        "id": "1QhqMMge7xs5",
        "outputId": "dd681ae7-31ca-4ad1-e443-a151b99ca9d7"
      },
      "source": [
        "clf = LinearSVC(dual = False)\n",
        "parameters = {'loss': ('hinge', 'squared_hinge'), 'tol': [0,.001,.0001], 'C': [.1,1,10]}\n",
        "grid_search(clf,parameters,X_train,X_test,y_train,y_test,5)\n"
      ],
      "execution_count": null,
      "outputs": [
        {
          "output_type": "stream",
          "text": [
            "Fitting 5 folds for each of 18 candidates, totalling 90 fits\n"
          ],
          "name": "stdout"
        },
        {
          "output_type": "stream",
          "text": [
            "[Parallel(n_jobs=-1)]: Using backend LokyBackend with 2 concurrent workers.\n",
            "[Parallel(n_jobs=-1)]: Done  44 tasks      | elapsed:   54.3s\n",
            "[Parallel(n_jobs=-1)]: Done  90 out of  90 | elapsed:  2.9min finished\n"
          ],
          "name": "stderr"
        },
        {
          "output_type": "stream",
          "text": [
            "LinearSVC(C=0.1, class_weight=None, dual=False, fit_intercept=True,\n",
            "          intercept_scaling=1, loss='squared_hinge', max_iter=1000,\n",
            "          multi_class='ovr', penalty='l2', random_state=None, tol=0.0001,\n",
            "          verbose=0)\n",
            "0.958544359919671\n"
          ],
          "name": "stdout"
        },
        {
          "output_type": "execute_result",
          "data": {
            "text/plain": [
              "LinearSVC(C=0.1, class_weight=None, dual=False, fit_intercept=True,\n",
              "          intercept_scaling=1, loss='squared_hinge', max_iter=1000,\n",
              "          multi_class='ovr', penalty='l2', random_state=None, tol=0.0001,\n",
              "          verbose=0)"
            ]
          },
          "metadata": {
            "tags": []
          },
          "execution_count": 43
        }
      ]
    },
    {
      "cell_type": "code",
      "metadata": {
        "colab": {
          "base_uri": "https://localhost:8080/",
          "height": 371
        },
        "id": "lcyOuZRYj0Nz",
        "outputId": "46c30127-caa6-4537-d353-27d8befb7d45"
      },
      "source": [
        "best_Linearsvm = LinearSVC(loss = 'squared_hinge',tol = 0.0001,C = .1 ,dual = False)\r\n",
        "_ = Baseline_approach(best_Linearsvm, X_train,X_test,y_train,y_test)"
      ],
      "execution_count": 120,
      "outputs": [
        {
          "output_type": "stream",
          "text": [
            "LinearSVC(C=0.1, class_weight=None, dual=False, fit_intercept=True,\n",
            "          intercept_scaling=1, loss='squared_hinge', max_iter=1000,\n",
            "          multi_class='ovr', penalty='l2', random_state=None, tol=0.0001,\n",
            "          verbose=0) 0.958974358974359\n",
            "f1 micro score = 0.958974358974359\n",
            "f1 macro score = 0.958544359919671\n"
          ],
          "name": "stdout"
        },
        {
          "output_type": "display_data",
          "data": {
            "image/png": "[encoded data removed]",
            "text/plain": [
              "<Figure size 432x288 with 2 Axes>"
            ]
          },
          "metadata": {
            "tags": [],
            "needs_background": "light"
          }
        }
      ]
    },
    {
      "cell_type": "markdown",
      "metadata": {
        "id": "EiEJDCcY7xs6"
      },
      "source": [
        "##### Poly & Rbf Kernels: \n",
        "\n",
        "Hyperparameters: kernel, C, degree, gamma, tol\n",
        "\n",
        "Βέλτιστοι παράμετροι προέκυψαν οι εξής:\n",
        "\n",
        "*   kernel = rbf\n",
        "*   C = 10\n",
        "*   tol = 0.001\n",
        "*   degree = 2\n",
        "*   gamma = scale\n",
        "\n",
        "Accuracy = 0.972449275377252"
      ]
    },
    {
      "cell_type": "code",
      "metadata": {
        "colab": {
          "base_uri": "https://localhost:8080/"
        },
        "id": "P51TexYE7xs6",
        "outputId": "9f12c831-1e91-44ae-fa9b-8efa65ffeb18"
      },
      "source": [
        "clf = SVC()\n",
        "parameters = {'kernel': ('poly’', 'rbf'), 'degree': [2,3,4],\"gamma\": ('scale', 'auto'), 'tol': [.001,.0001], 'C': [.1,1,10]}\n",
        "grid_search(clf,parameters,X_train,X_test,y_train,y_test,5)\n"
      ],
      "execution_count": null,
      "outputs": [
        {
          "output_type": "stream",
          "text": [
            "Fitting 5 folds for each of 72 candidates, totalling 360 fits\n"
          ],
          "name": "stdout"
        },
        {
          "output_type": "stream",
          "text": [
            "[Parallel(n_jobs=-1)]: Using backend LokyBackend with 2 concurrent workers.\n",
            "[Parallel(n_jobs=-1)]: Done  27 tasks      | elapsed:  2.1min\n",
            "[Parallel(n_jobs=-1)]: Done  88 tasks      | elapsed:  8.7min\n",
            "[Parallel(n_jobs=-1)]: Done 178 tasks      | elapsed: 16.1min\n",
            "[Parallel(n_jobs=-1)]: Done 304 tasks      | elapsed: 21.7min\n",
            "[Parallel(n_jobs=-1)]: Done 360 out of 360 | elapsed: 24.2min finished\n"
          ],
          "name": "stderr"
        },
        {
          "output_type": "stream",
          "text": [
            "SVC(C=10, break_ties=False, cache_size=200, class_weight=None, coef0=0.0,\n",
            "    decision_function_shape='ovr', degree=2, gamma='scale', kernel='rbf',\n",
            "    max_iter=-1, probability=False, random_state=None, shrinking=True,\n",
            "    tol=0.001, verbose=False)\n",
            "0.972449275377252\n"
          ],
          "name": "stdout"
        },
        {
          "output_type": "execute_result",
          "data": {
            "text/plain": [
              "SVC(C=10, break_ties=False, cache_size=200, class_weight=None, coef0=0.0,\n",
              "    decision_function_shape='ovr', degree=2, gamma='scale', kernel='rbf',\n",
              "    max_iter=-1, probability=False, random_state=None, shrinking=True,\n",
              "    tol=0.001, verbose=False)"
            ]
          },
          "metadata": {
            "tags": []
          },
          "execution_count": 44
        }
      ]
    },
    {
      "cell_type": "code",
      "metadata": {
        "colab": {
          "base_uri": "https://localhost:8080/",
          "height": 367
        },
        "id": "HHjct7U6j3pV",
        "outputId": "783e851e-de69-4113-a822-582350bcfcea"
      },
      "source": [
        "best_svm = SVC(kernel = 'rbf',tol = 0.001, C = 10, degree = 2, gamma = 'scale' )\r\n",
        "_ = Baseline_approach(best_svm, X_train,X_test,y_train,y_test)"
      ],
      "execution_count": 121,
      "outputs": [
        {
          "output_type": "stream",
          "text": [
            "SVC(C=10, break_ties=False, cache_size=200, class_weight=None, coef0=0.0,\n",
            "    decision_function_shape='ovr', degree=2, gamma='scale', kernel='rbf',\n",
            "    max_iter=-1, probability=False, random_state=None, shrinking=True,\n",
            "    tol=0.001, verbose=False) 0.9722222222222222\n",
            "f1 micro score = 0.9722222222222222\n",
            "f1 macro score = 0.972449275377252\n"
          ],
          "name": "stdout"
        },
        {
          "output_type": "display_data",
          "data": {
            "image/png": "[encoded data removed]",
            "text/plain": [
              "<Figure size 432x288 with 2 Axes>"
            ]
          },
          "metadata": {
            "tags": [],
            "needs_background": "light"
          }
        }
      ]
    },
    {
      "cell_type": "markdown",
      "metadata": {
        "id": "USHJW66j7xs7"
      },
      "source": [
        "### 2. Final fit and running time"
      ]
    },
    {
      "cell_type": "markdown",
      "metadata": {
        "id": "PxtbU9EZ7xs7"
      },
      "source": [
        "Αναμένουμε μεγάλο χρόνο εκπαίδευσης στο νευρωνικό και τις δύο μεθόδους SVM, ενώ μεγάλο χρόνο εκτέλεσης στην μέθοδο Knn. Οι χρόνοι εκτέλεσης εκπαίδευσης και πρόβλεψης των βέλιστων classifiers προκύπτουν:"
      ]
    },
    {
      "cell_type": "code",
      "metadata": {
        "colab": {
          "base_uri": "https://localhost:8080/"
        },
        "id": "4Gj9quad7xs7",
        "outputId": "7f67dfe3-04aa-4935-839f-5ac0122a82da"
      },
      "source": [
        "t = Texttable()\n",
        "\n",
        "fit_times = []\n",
        "predict_times = []\n",
        "table = [['Classifier','Fit time (s)','Predict time (s)', 'Score']]\n",
        "classifiernames = [\"GNB\",\"Knn\",\"MLP\",\"SVM\",\"LinearSVM\"]\n",
        "GNB = GaussianNB()\n",
        "best_knn = KNeighborsClassifier(n_neighbors = 7 , metric = 'euclidean', weights = \"distance\", n_jobs = -1)\n",
        "best_mlp = MLPClassifier(alpha = 0.0001, hidden_layer_sizes = 256, activation='relu', learning_rate='constant', solver='adam', max_iter = 200)\n",
        "best_Linearsvm =  LinearSVC(loss = 'squared_hinge', tol = 0.0001, C = .1, dual = False)\n",
        "best_Svm = SVC(kernel = 'rbf', C = 10, tol = .001, degree = 2, gamma = 'scale')\n",
        "bestclassifierlist = [GNB,best_knn,best_mlp,best_Svm,best_Linearsvm]\n",
        "\n",
        "i = 0\n",
        "for clf in bestclassifierlist:\n",
        "    point1 = time.time()\n",
        "    clf.fit(X_train,y_train)\n",
        "    point2 = time.time()\n",
        "    y_pred = clf.predict(X_test)\n",
        "    point3 = time.time()\n",
        "    fit_times.append(round(point2 - point1,3))\n",
        "    predict_times.append(round(point3-point2,3))\n",
        "    table.append([classifiernames[i],round(point2 - point1,3),round(point3-point2,3),clf.score(X_test,y_test)])\n",
        "\n",
        "    i += 1\n",
        "\n",
        "t.add_rows(table)\n",
        "print(t.draw())"
      ],
      "execution_count": 119,
      "outputs": [
        {
          "output_type": "stream",
          "text": [
            "+------------+--------------+------------------+-------+\n",
            "| Classifier | Fit time (s) | Predict time (s) | Score |\n",
            "+============+==============+==================+=======+\n",
            "| GNB        | 0.050        | 0.195            | 0.792 |\n",
            "+------------+--------------+------------------+-------+\n",
            "| Knn        | 0.405        | 12.236           | 0.906 |\n",
            "+------------+--------------+------------------+-------+\n",
            "| MLP        | 26.284       | 0.037            | 0.965 |\n",
            "+------------+--------------+------------------+-------+\n",
            "| SVM        | 8.521        | 8.254            | 0.972 |\n",
            "+------------+--------------+------------------+-------+\n",
            "| LinearSVM  | 8.164        | 0.007            | 0.959 |\n",
            "+------------+--------------+------------------+-------+\n"
          ],
          "name": "stdout"
        }
      ]
    },
    {
      "cell_type": "markdown",
      "metadata": {
        "id": "96BYEH9_7xs7"
      },
      "source": [
        "### 3. Averaged metric bar plots"
      ]
    },
    {
      "cell_type": "code",
      "metadata": {
        "colab": {
          "base_uri": "https://localhost:8080/",
          "height": 809
        },
        "id": "cCtmO6MJ7xs8",
        "outputId": "50e32d50-fa19-4e92-c9b2-7766ad5edbb6"
      },
      "source": [
        "best_averaged_plots(bestclassifierlist[1:],X_test,y_test,\"Best\")"
      ],
      "execution_count": 122,
      "outputs": [
        {
          "output_type": "display_data",
          "data": {
            "image/png": "[encoded data removed]",
            "text/plain": [
              "<Figure size 432x288 with 1 Axes>"
            ]
          },
          "metadata": {
            "tags": [],
            "needs_background": "light"
          }
        },
        {
          "output_type": "display_data",
          "data": {
            "image/png": "[encoded data removed]",
            "text/plain": [
              "<Figure size 432x288 with 1 Axes>"
            ]
          },
          "metadata": {
            "tags": [],
            "needs_background": "light"
          }
        },
        {
          "output_type": "display_data",
          "data": {
            "image/png": "[encoded data removed]",
            "text/plain": [
              "<Figure size 432x288 with 1 Axes>"
            ]
          },
          "metadata": {
            "tags": [],
            "needs_background": "light"
          }
        }
      ]
    },
    {
      "cell_type": "markdown",
      "metadata": {
        "id": "aHjhIRcl7xs9"
      },
      "source": [
        "### 4. Before And After Optimization"
      ]
    },
    {
      "cell_type": "code",
      "metadata": {
        "colab": {
          "base_uri": "https://localhost:8080/",
          "height": 809
        },
        "id": "NTNdLiVT7xs-",
        "outputId": "974a00c4-7760-4416-b699-db5e472c4896"
      },
      "source": [
        "difference_averaged_plots(classifierlist[3:],bestclassifierlist[1:],X_test,y_test,\"Difference\")"
      ],
      "execution_count": 123,
      "outputs": [
        {
          "output_type": "display_data",
          "data": {
            "image/png": "[encoded data removed]",
            "text/plain": [
              "<Figure size 432x288 with 1 Axes>"
            ]
          },
          "metadata": {
            "tags": [],
            "needs_background": "light"
          }
        },
        {
          "output_type": "display_data",
          "data": {
            "image/png": "[encoded data removed]",
            "text/plain": [
              "<Figure size 432x288 with 1 Axes>"
            ]
          },
          "metadata": {
            "tags": [],
            "needs_background": "light"
          }
        },
        {
          "output_type": "display_data",
          "data": {
            "image/png": "[encoded data removed]",
            "text/plain": [
              "<Figure size 432x288 with 1 Axes>"
            ]
          },
          "metadata": {
            "tags": [],
            "needs_background": "light"
          }
        }
      ]
    },
    {
      "cell_type": "markdown",
      "metadata": {
        "id": "3O-HQZZ-7xs-"
      },
      "source": [
        "### 5. Precision, Recall, F1 Scores, and more \n",
        "\n"
      ]
    },
    {
      "cell_type": "markdown",
      "metadata": {
        "id": "gyvjUlbN7xs-"
      },
      "source": [
        "Όπως σχολιάσαμε και προηγουμένως το classification πρόβλημα που αντιμετωπίζουμε είναι αρκετά εύκολο. Με fine tuning καταφέρνουμε να ανεβάσουμε τις επιδόσεις των ταξινομητών σε ποσοστό της τάξης του 0.5%. Παρατηρούμε και πάλι πώς έχουμε περίπου ίδιες τιμές precision και recall. Οι επιδόσεις των βέλτιστων ταξινομητών ξεκινούν από το 80% και φτάνουν έως και 97% "
      ]
    }
  ]
}